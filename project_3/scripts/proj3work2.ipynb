{
 "cells": [
  {
   "cell_type": "code",
   "execution_count": 1,
   "metadata": {},
   "outputs": [],
   "source": [
    "import pandas as pd\n",
    "import matplotlib.pyplot as plt\n",
    "import numpy as np\n",
    "from sklearn.linear_model import LinearRegression\n",
    "import matplotlib.pyplot as plt\n",
    "import os"
   ]
  },
  {
   "cell_type": "code",
   "execution_count": 2,
   "metadata": {},
   "outputs": [],
   "source": [
    "client = pd.read_csv('CLIENT_191102.tsv',sep='\t')"
   ]
  },
  {
   "cell_type": "code",
   "execution_count": 3,
   "metadata": {},
   "outputs": [],
   "source": [
    "client.loc[client['EE Provider ID'] == 'Urban Ministries of Durham - Durham County - Singles Emergency Shelter - Private(5838)','EE Provider ID'] = 'SESH'\n",
    "client.loc[client['EE Provider ID'] == 'XXXClosed2015 Urban Ministries of Durham- Durham County- Journey Entry- ESG(1970)','EE Provider ID'] = 'JENT'\n",
    "client.loc[client['EE Provider ID'] == 'XXXClosed2015 Urban Ministries of Durham- Durham County- Journey Forward- ESG(5694)','EE Provider ID'] = 'JFOR'\n",
    "client.loc[client['EE Provider ID'] == 'XXXClosed2015 Urban Ministries of Durham- Durham County- Journey Outreach- ESG(4515)','EE Provider ID'] = 'JOUT'\n",
    "client.loc[client['EE Provider ID'] == 'XXXClosed2015 Urban Ministries of Durham- Durham County- Journey Recovery- ESG(1932)','EE Provider ID'] = 'JREC'\n",
    "client.loc[client['EE Provider ID'] == 'XXXClosed2015 Urban Ministries of Durham- Durham County- Journey Tech- ESG(4516)','EE Provider ID'] = 'JTEC'\n",
    "client.loc[client['EE Provider ID'] == 'XXXClosed2015 Urban Ministries of Durham- Durham County- Journey Veterans- ESG(5069)','EE Provider ID'] = 'JVET'\n"
   ]
  },
  {
   "cell_type": "code",
   "execution_count": 4,
   "metadata": {},
   "outputs": [],
   "source": [
    "client['Duration']=client['Client Age at Exit']-client['Client Age at Entry']"
   ]
  },
  {
   "cell_type": "code",
   "execution_count": 5,
   "metadata": {},
   "outputs": [
    {
     "data": {
      "text/plain": [
       "SESH    4319\n",
       "JENT     721\n",
       "JREC      67\n",
       "JFOR      65\n",
       "JTEC      61\n",
       "JOUT      51\n",
       "JVET      15\n",
       "Name: EE Provider ID, dtype: int64"
      ]
     },
     "execution_count": 5,
     "metadata": {},
     "output_type": "execute_result"
    }
   ],
   "source": [
    "#For EE Provider ID, it appears the vast majority of clients are part of Singles Emergency Shelter. Let's get a count of clients by EE Provider ID.\n",
    "client['EE Provider ID'].value_counts()"
   ]
  },
  {
   "cell_type": "code",
   "execution_count": 6,
   "metadata": {},
   "outputs": [],
   "source": [
    "#80% of clients are listed under Singles Emergency Shelter, and all other providers closed in 2015\n",
    "#We will limit our analysis to Singles Emergency Shelter\n",
    "client_SESH=client[client['EE Provider ID']=='SESH']"
   ]
  },
  {
   "cell_type": "code",
   "execution_count": 7,
   "metadata": {},
   "outputs": [
    {
     "data": {
      "text/plain": [
       "320781     29\n",
       "344697     29\n",
       "419124     18\n",
       "124817     17\n",
       "2054       16\n",
       "           ..\n",
       "453207      1\n",
       "399969      1\n",
       "1000042     1\n",
       "420459      1\n",
       "421940      1\n",
       "Name: Client ID, Length: 2102, dtype: int64"
      ]
     },
     "execution_count": 7,
     "metadata": {},
     "output_type": "execute_result"
    }
   ],
   "source": [
    "client_SESH['Client ID'].value_counts()"
   ]
  },
  {
   "cell_type": "code",
   "execution_count": 8,
   "metadata": {},
   "outputs": [
    {
     "data": {
      "text/plain": [
       "smrm06231974s500m610    29\n",
       "pglf11111968p430g456    29\n",
       "mlwm08071974m632l200    18\n",
       "ljfm07151959l563j162    17\n",
       "jdam06181979j500d200    16\n",
       "                        ..\n",
       "cwlf02201963c530w425     1\n",
       "mewm06061978m240e363     1\n",
       "twmm09231960t655w520     1\n",
       "rmrm01171973r534m600     1\n",
       "rdkm08311976r263d220     1\n",
       "Name: Client Unique ID, Length: 2100, dtype: int64"
      ]
     },
     "execution_count": 8,
     "metadata": {},
     "output_type": "execute_result"
    }
   ],
   "source": [
    "client_SESH['Client Unique ID'].value_counts()"
   ]
  },
  {
   "cell_type": "code",
   "execution_count": 9,
   "metadata": {},
   "outputs": [
    {
     "data": {
      "text/plain": [
       "966362     1\n",
       "688821     1\n",
       "867014     1\n",
       "797380     1\n",
       "873155     1\n",
       "          ..\n",
       "1045848    1\n",
       "838999     1\n",
       "714070     1\n",
       "1057612    1\n",
       "780849     1\n",
       "Name: EE UID, Length: 4319, dtype: int64"
      ]
     },
     "execution_count": 9,
     "metadata": {},
     "output_type": "execute_result"
    }
   ],
   "source": [
    "client_SESH['EE UID'].value_counts()"
   ]
  },
  {
   "cell_type": "code",
   "execution_count": 9,
   "metadata": {},
   "outputs": [
    {
     "data": {
      "text/plain": [
       "No (HUD)                    3848\n",
       "Yes (HUD)                    461\n",
       "Data not collected (HUD)       2\n",
       "Name: Client Veteran Status, dtype: int64"
      ]
     },
     "execution_count": 9,
     "metadata": {},
     "output_type": "execute_result"
    }
   ],
   "source": [
    "client_SESH['Client Veteran Status'].value_counts()\n",
    "#large majority are no, so can remove"
   ]
  },
  {
   "cell_type": "code",
   "execution_count": 10,
   "metadata": {},
   "outputs": [
    {
     "data": {
      "text/plain": [
       "0.0    3860\n",
       "1.0     455\n",
       "2.0       4\n",
       "Name: Duration, dtype: int64"
      ]
     },
     "execution_count": 10,
     "metadata": {},
     "output_type": "execute_result"
    }
   ],
   "source": [
    "client_SESH['Duration'].value_counts()\n",
    "#large majority are 0.0, so can remove"
   ]
  },
  {
   "cell_type": "code",
   "execution_count": 11,
   "metadata": {},
   "outputs": [
    {
     "data": {
      "text/html": [
       "<div>\n",
       "<style scoped>\n",
       "    .dataframe tbody tr th:only-of-type {\n",
       "        vertical-align: middle;\n",
       "    }\n",
       "\n",
       "    .dataframe tbody tr th {\n",
       "        vertical-align: top;\n",
       "    }\n",
       "\n",
       "    .dataframe thead th {\n",
       "        text-align: right;\n",
       "    }\n",
       "</style>\n",
       "<table border=\"1\" class=\"dataframe\">\n",
       "  <thead>\n",
       "    <tr style=\"text-align: right;\">\n",
       "      <th></th>\n",
       "      <th>Client ID</th>\n",
       "      <th>Client Age at Entry</th>\n",
       "      <th>Client Gender</th>\n",
       "      <th>Client Primary Race</th>\n",
       "    </tr>\n",
       "  </thead>\n",
       "  <tbody>\n",
       "    <tr>\n",
       "      <td>0</td>\n",
       "      <td>397941</td>\n",
       "      <td>60.0</td>\n",
       "      <td>Female</td>\n",
       "      <td>White (HUD)</td>\n",
       "    </tr>\n",
       "    <tr>\n",
       "      <td>1</td>\n",
       "      <td>130335</td>\n",
       "      <td>48.0</td>\n",
       "      <td>Female</td>\n",
       "      <td>Black or African American (HUD)</td>\n",
       "    </tr>\n",
       "    <tr>\n",
       "      <td>2</td>\n",
       "      <td>188933</td>\n",
       "      <td>42.0</td>\n",
       "      <td>Female</td>\n",
       "      <td>Black or African American (HUD)</td>\n",
       "    </tr>\n",
       "    <tr>\n",
       "      <td>3</td>\n",
       "      <td>168290</td>\n",
       "      <td>57.0</td>\n",
       "      <td>Male</td>\n",
       "      <td>White (HUD)</td>\n",
       "    </tr>\n",
       "    <tr>\n",
       "      <td>4</td>\n",
       "      <td>123122</td>\n",
       "      <td>51.0</td>\n",
       "      <td>Male</td>\n",
       "      <td>White (HUD)</td>\n",
       "    </tr>\n",
       "    <tr>\n",
       "      <td>...</td>\n",
       "      <td>...</td>\n",
       "      <td>...</td>\n",
       "      <td>...</td>\n",
       "      <td>...</td>\n",
       "    </tr>\n",
       "    <tr>\n",
       "      <td>4314</td>\n",
       "      <td>166411</td>\n",
       "      <td>31.0</td>\n",
       "      <td>Male</td>\n",
       "      <td>White (HUD)</td>\n",
       "    </tr>\n",
       "    <tr>\n",
       "      <td>4315</td>\n",
       "      <td>198376</td>\n",
       "      <td>39.0</td>\n",
       "      <td>Male</td>\n",
       "      <td>White (HUD)</td>\n",
       "    </tr>\n",
       "    <tr>\n",
       "      <td>4316</td>\n",
       "      <td>1004266</td>\n",
       "      <td>59.0</td>\n",
       "      <td>Male</td>\n",
       "      <td>Black or African American (HUD)</td>\n",
       "    </tr>\n",
       "    <tr>\n",
       "      <td>4317</td>\n",
       "      <td>407506</td>\n",
       "      <td>22.0</td>\n",
       "      <td>Male</td>\n",
       "      <td>Black or African American (HUD)</td>\n",
       "    </tr>\n",
       "    <tr>\n",
       "      <td>4318</td>\n",
       "      <td>429149</td>\n",
       "      <td>52.0</td>\n",
       "      <td>Female</td>\n",
       "      <td>Black or African American (HUD)</td>\n",
       "    </tr>\n",
       "  </tbody>\n",
       "</table>\n",
       "<p>4319 rows × 4 columns</p>\n",
       "</div>"
      ],
      "text/plain": [
       "      Client ID  Client Age at Entry Client Gender  \\\n",
       "0        397941                 60.0        Female   \n",
       "1        130335                 48.0        Female   \n",
       "2        188933                 42.0        Female   \n",
       "3        168290                 57.0          Male   \n",
       "4        123122                 51.0          Male   \n",
       "...         ...                  ...           ...   \n",
       "4314     166411                 31.0          Male   \n",
       "4315     198376                 39.0          Male   \n",
       "4316    1004266                 59.0          Male   \n",
       "4317     407506                 22.0          Male   \n",
       "4318     429149                 52.0        Female   \n",
       "\n",
       "                  Client Primary Race  \n",
       "0                         White (HUD)  \n",
       "1     Black or African American (HUD)  \n",
       "2     Black or African American (HUD)  \n",
       "3                         White (HUD)  \n",
       "4                         White (HUD)  \n",
       "...                               ...  \n",
       "4314                      White (HUD)  \n",
       "4315                      White (HUD)  \n",
       "4316  Black or African American (HUD)  \n",
       "4317  Black or African American (HUD)  \n",
       "4318  Black or African American (HUD)  \n",
       "\n",
       "[4319 rows x 4 columns]"
      ]
     },
     "execution_count": 11,
     "metadata": {},
     "output_type": "execute_result"
    }
   ],
   "source": [
    "#Client ID and Client Unique ID appear to have same counts, so we will remove Client Unique ID and only use Client ID in our analysis.\n",
    "#EE UID appear to be totally unique for each entry, so not very useful for our analysis. We will remove that column.\n",
    "#We will also remove Client Age at Exit and instead leave Duration to give same information.\n",
    "client_SESH=client[client['EE Provider ID']=='SESH']\n",
    "client_SESH = client_SESH.drop([\"Duration\",\"Client Veteran Status\",\"Client Ethnicity\",\"EE Provider ID\", \"EE UID\", \"Client Unique ID\", \"Client Age at Exit\"], axis=1)\n",
    "client_SESH"
   ]
  },
  {
   "cell_type": "code",
   "execution_count": 12,
   "metadata": {},
   "outputs": [],
   "source": [
    "dis_ent = pd.read_csv('DISABILITY_ENTRY_191102.tsv.txt', sep = '\t')"
   ]
  },
  {
   "cell_type": "code",
   "execution_count": 13,
   "metadata": {},
   "outputs": [],
   "source": [
    "dis_ent.loc[dis_ent['EE Provider ID'] == 'Urban Ministries of Durham - Durham County - Singles Emergency Shelter - Private(5838)','EE Provider ID'] = 'SESH'\n",
    "dis_ent.loc[dis_ent['EE Provider ID'] == 'XXXClosed2015 Urban Ministries of Durham- Durham County- Journey Entry- ESG(1970)','EE Provider ID'] = 'JENT'\n",
    "dis_ent.loc[dis_ent['EE Provider ID'] == 'XXXClosed2015 Urban Ministries of Durham- Durham County- Journey Forward- ESG(5694)','EE Provider ID'] = 'JFOR'\n",
    "dis_ent.loc[dis_ent['EE Provider ID'] == 'XXXClosed2015 Urban Ministries of Durham- Durham County- Journey Outreach- ESG(4515)','EE Provider ID'] = 'JOUT'\n",
    "dis_ent.loc[dis_ent['EE Provider ID'] == 'XXXClosed2015 Urban Ministries of Durham- Durham County- Journey Recovery- ESG(1932)','EE Provider ID'] = 'JREC'\n",
    "dis_ent.loc[dis_ent['EE Provider ID'] == 'XXXClosed2015 Urban Ministries of Durham- Durham County- Journey Tech- ESG(4516)','EE Provider ID'] = 'JTEC'\n",
    "dis_ent.loc[dis_ent['EE Provider ID'] == 'XXXClosed2015 Urban Ministries of Durham- Durham County- Journey Veterans- ESG(5069)','EE Provider ID'] = 'JVET'"
   ]
  },
  {
   "cell_type": "code",
   "execution_count": 14,
   "metadata": {},
   "outputs": [],
   "source": [
    "dis_ex = pd.read_csv('DISABILITY_EXIT_191102.tsv.txt', sep = '\t')"
   ]
  },
  {
   "cell_type": "code",
   "execution_count": 15,
   "metadata": {},
   "outputs": [],
   "source": [
    "dis_ex.loc[dis_ex['EE Provider ID'] == 'Urban Ministries of Durham - Durham County - Singles Emergency Shelter - Private(5838)','EE Provider ID'] = 'SESH'\n",
    "dis_ex.loc[dis_ex['EE Provider ID'] == 'XXXClosed2015 Urban Ministries of Durham- Durham County- Journey Entry- ESG(1970)','EE Provider ID'] = 'JENT'\n",
    "dis_ex.loc[dis_ex['EE Provider ID'] == 'XXXClosed2015 Urban Ministries of Durham- Durham County- Journey Forward- ESG(5694)','EE Provider ID'] = 'JFOR'\n",
    "dis_ex.loc[dis_ex['EE Provider ID'] == 'XXXClosed2015 Urban Ministries of Durham- Durham County- Journey Outreach- ESG(4515)','EE Provider ID'] = 'JOUT'\n",
    "dis_ex.loc[dis_ex['EE Provider ID'] == 'XXXClosed2015 Urban Ministries of Durham- Durham County- Journey Recovery- ESG(1932)','EE Provider ID'] = 'JREC'\n",
    "dis_ex.loc[dis_ex['EE Provider ID'] == 'XXXClosed2015 Urban Ministries of Durham- Durham County- Journey Tech- ESG(4516)','EE Provider ID'] = 'JTEC'\n",
    "dis_ex.loc[dis_ex['EE Provider ID'] == 'XXXClosed2015 Urban Ministries of Durham- Durham County- Journey Veterans- ESG(5069)','EE Provider ID'] = 'JVET'"
   ]
  },
  {
   "cell_type": "code",
   "execution_count": 16,
   "metadata": {},
   "outputs": [
    {
     "data": {
      "text/plain": [
       "Mental Health Problem (HUD)          5324\n",
       "Physical (HUD)                       5128\n",
       "Chronic Health Condition (HUD)       5110\n",
       "Both Alcohol and Drug Abuse (HUD)    5085\n",
       "Drug Abuse (HUD)                     5076\n",
       "HIV/AIDS (HUD)                       5061\n",
       "Developmental (HUD)                  5048\n",
       "Alcohol Abuse (HUD)                  5035\n",
       "Physical/Medical                      501\n",
       "Dual Diagnosis                          6\n",
       "Other                                   6\n",
       "Vision Impaired                         3\n",
       "Other: Learning                         3\n",
       "Hearing Impaired                        2\n",
       "Other: Speech                           2\n",
       "Name: Disability Type (Entry), dtype: int64"
      ]
     },
     "execution_count": 16,
     "metadata": {},
     "output_type": "execute_result"
    }
   ],
   "source": [
    "dis_ent_discount=dis_ent['Disability Type (Entry)'].value_counts()\n",
    "dis_ent_discount"
   ]
  },
  {
   "cell_type": "code",
   "execution_count": 18,
   "metadata": {},
   "outputs": [
    {
     "data": {
      "text/plain": [
       "Mental Health Problem (HUD)          5389\n",
       "Physical (HUD)                       5200\n",
       "Chronic Health Condition (HUD)       5178\n",
       "Both Alcohol and Drug Abuse (HUD)    5153\n",
       "Drug Abuse (HUD)                     5151\n",
       "HIV/AIDS (HUD)                       5128\n",
       "Developmental (HUD)                  5117\n",
       "Alcohol Abuse (HUD)                  5105\n",
       "Physical/Medical                      501\n",
       "Dual Diagnosis                          6\n",
       "Other                                   6\n",
       "Vision Impaired                         3\n",
       "Other: Learning                         3\n",
       "Hearing Impaired                        2\n",
       "Other: Speech                           2\n",
       "Name: Disability Type (Exit), dtype: int64"
      ]
     },
     "execution_count": 18,
     "metadata": {},
     "output_type": "execute_result"
    }
   ],
   "source": [
    "dis_ex['Disability Type (Exit)'].value_counts()\n",
    "#Entry and exit disability counts are very similar"
   ]
  },
  {
   "cell_type": "code",
   "execution_count": 19,
   "metadata": {},
   "outputs": [
    {
     "data": {
      "text/plain": [
       "7/18/2015     2543\n",
       "7/17/2015     1384\n",
       "12/28/2015    1374\n",
       "12/22/2015    1055\n",
       "7/16/2015      787\n",
       "              ... \n",
       "7/16/2014        1\n",
       "10/10/2017       1\n",
       "2/23/2015        1\n",
       "3/6/2009         1\n",
       "1/23/2015        1\n",
       "Name: Date Added (417-date_added), Length: 959, dtype: int64"
      ]
     },
     "execution_count": 19,
     "metadata": {},
     "output_type": "execute_result"
    }
   ],
   "source": [
    "dis_ent['Date Added (417-date_added)'].value_counts()\n",
    "#Date added looks heavily skewed to a few dates, likely due to moving over data from other source. Not very useful for this analysis."
   ]
  },
  {
   "cell_type": "code",
   "execution_count": 20,
   "metadata": {},
   "outputs": [
    {
     "data": {
      "text/plain": [
       "No (HUD)                     36275\n",
       "Yes (HUD)                     4934\n",
       "Client doesn't know (HUD)       37\n",
       "Data not collected (HUD)        11\n",
       "Name: Disability Determination (Entry), dtype: int64"
      ]
     },
     "execution_count": 20,
     "metadata": {},
     "output_type": "execute_result"
    }
   ],
   "source": [
    "dis_ent['Disability Determination (Entry)'].value_counts()"
   ]
  },
  {
   "cell_type": "code",
   "execution_count": 44,
   "metadata": {},
   "outputs": [],
   "source": [
    "#Appears to be little difference in disabilities between Entry and Exit (likely due to short time period)\n",
    "#We will limit analysis to disability status at entry\n",
    "del(dis_ex)\n",
    "dis_ent_SESH = dis_ent[dis_ent['EE Provider ID']=='SESH']\n",
    "dis_ent_SESH=dis_ent_SESH[['Client ID', 'Disability Determination (Entry)', 'Disability Type (Entry)']]"
   ]
  },
  {
   "cell_type": "code",
   "execution_count": 21,
   "metadata": {},
   "outputs": [],
   "source": [
    "ee_ud = pd.read_csv('EE_UDES_191102.tsv.txt', sep = '\t')"
   ]
  },
  {
   "cell_type": "code",
   "execution_count": 22,
   "metadata": {},
   "outputs": [],
   "source": [
    "ee_ud.loc[ee_ud['EE Provider ID'] == 'Urban Ministries of Durham - Durham County - Singles Emergency Shelter - Private(5838)','EE Provider ID'] = 'SESH'\n",
    "ee_ud.loc[ee_ud['EE Provider ID'] == 'XXXClosed2015 Urban Ministries of Durham- Durham County- Journey Entry- ESG(1970)','EE Provider ID'] = 'JENT'\n",
    "ee_ud.loc[ee_ud['EE Provider ID'] == 'XXXClosed2015 Urban Ministries of Durham- Durham County- Journey Forward- ESG(5694)','EE Provider ID'] = 'JFOR'\n",
    "ee_ud.loc[ee_ud['EE Provider ID'] == 'XXXClosed2015 Urban Ministries of Durham- Durham County- Journey Outreach- ESG(4515)','EE Provider ID'] = 'JOUT'\n",
    "ee_ud.loc[ee_ud['EE Provider ID'] == 'XXXClosed2015 Urban Ministries of Durham- Durham County- Journey Recovery- ESG(1932)','EE Provider ID'] = 'JREC'\n",
    "ee_ud.loc[ee_ud['EE Provider ID'] == 'XXXClosed2015 Urban Ministries of Durham- Durham County- Journey Tech- ESG(4516)','EE Provider ID'] = 'JTEC'\n",
    "ee_ud.loc[ee_ud['EE Provider ID'] == 'XXXClosed2015 Urban Ministries of Durham- Durham County- Journey Veterans- ESG(5069)','EE Provider ID'] = 'JVET'"
   ]
  },
  {
   "cell_type": "code",
   "execution_count": 23,
   "metadata": {},
   "outputs": [
    {
     "data": {
      "text/plain": [
       "NC-502 Durham City and County CoC          5201\n",
       "NC-505 Charlotte/Mecklenburg County CoC       5\n",
       "NC-503 NC Balance of State CoC                1\n",
       "NC-507 Raleigh/Wake County CoC                1\n",
       "Name: Client Location(4378), dtype: int64"
      ]
     },
     "execution_count": 23,
     "metadata": {},
     "output_type": "execute_result"
    }
   ],
   "source": [
    "ee_ud['Client Location(4378)'].value_counts()\n",
    "#almost all of Client Locatin Values are Durham City and County CoC"
   ]
  },
  {
   "cell_type": "code",
   "execution_count": 24,
   "metadata": {},
   "outputs": [
    {
     "data": {
      "text/plain": [
       "Self (head of household)                                                           5185\n",
       "Head of household's spouse or partner                                                 2\n",
       "Head of household's child                                                             2\n",
       "Head of household's other relation member (other relation to head of household)       1\n",
       "Name: Relationship to Head of Household(4374), dtype: int64"
      ]
     },
     "execution_count": 24,
     "metadata": {},
     "output_type": "execute_result"
    }
   ],
   "source": [
    "ee_ud['Relationship to Head of Household(4374)'].value_counts()\n",
    "#almost all of Relationship to Head of Household are Self"
   ]
  },
  {
   "cell_type": "code",
   "execution_count": 25,
   "metadata": {},
   "outputs": [
    {
     "data": {
      "text/plain": [
       "Place not meant for habitation (HUD)                                                                  1469\n",
       "Emergency shelter, incl. hotel/motel paid for w/ ES voucher, or RHY-funded Host Home shelter (HUD)     891\n",
       "Staying or living in a family member's room, apartment or house (HUD)                                  804\n",
       "Staying or living in a friend's room, apartment or house (HUD)                                         730\n",
       "Rental by client, no ongoing housing subsidy (HUD)                                                     271\n",
       "Hotel or motel paid for without emergency shelter voucher (HUD)                                        225\n",
       "Jail, prison or juvenile detention facility (HUD)                                                      216\n",
       "Hospital or other residential non-psychiatric medical facility (HUD)                                   147\n",
       "Transitional housing for homeless persons (including homeless youth) (HUD)                             124\n",
       "Substance abuse treatment facility or detox center (HUD)                                                94\n",
       "Safe Haven (HUD)                                                                                        55\n",
       "Psychiatric hospital or other psychiatric facility (HUD)                                                39\n",
       "Residential project or halfway house with no homeless criteria (HUD)                                    36\n",
       "Rental by client, with other ongoing housing subsidy (HUD)                                              34\n",
       "Owned by client, no ongoing housing subsidy (HUD)                                                       23\n",
       "Permanent housing (other than RRH) for formerly homeless persons (HUD)                                  15\n",
       "Foster care home or foster care group home (HUD)                                                         8\n",
       "Rental by client, with VASH housing subsidy (HUD)                                                        8\n",
       "Interim Housing (HUD) (Retired)                                                                          7\n",
       "Client doesn't know (HUD)                                                                                7\n",
       "Data not collected (HUD)                                                                                 7\n",
       "Other (HUD)                                                                                              6\n",
       "Long-term care facility or nursing home (HUD)                                                            5\n",
       "Owned by client, with ongoing housing subsidy (HUD)                                                      3\n",
       "Client refused (HUD)                                                                                     2\n",
       "Rental by client in a public housing unit (HUD)                                                          1\n",
       "Rental by client, with GPD TIP housing subsidy (HUD)                                                     1\n",
       "Name: Prior Living Situation(43), dtype: int64"
      ]
     },
     "execution_count": 25,
     "metadata": {},
     "output_type": "execute_result"
    }
   ],
   "source": [
    "ee_ud['Prior Living Situation(43)'].value_counts()\n",
    "#This variable is interesting, with large number of entries for many different values. We will keep it for analysis."
   ]
  },
  {
   "cell_type": "code",
   "execution_count": 26,
   "metadata": {},
   "outputs": [
    {
     "data": {
      "text/plain": [
       "One year or longer (HUD)                     1168\n",
       "90 days or more, but less than one year      1117\n",
       "One month or more, but less than 90 days     1019\n",
       "One week or more, but less than one month     885\n",
       "Two to six nights                             611\n",
       "One night or less                             337\n",
       "One week or less (HUD)                         73\n",
       "Data not collected (HUD)                       12\n",
       "Client refused (HUD)                            2\n",
       "Client doesn't know (HUD)                       2\n",
       "Name: Length of Stay in Previous Place(1934), dtype: int64"
      ]
     },
     "execution_count": 26,
     "metadata": {},
     "output_type": "execute_result"
    }
   ],
   "source": [
    "ee_ud['Length of Stay in Previous Place(1934)'].value_counts()\n",
    "#This variable is also interesting, with large number of entries for many different values. We will keep it for analysis."
   ]
  },
  {
   "cell_type": "code",
   "execution_count": 27,
   "metadata": {},
   "outputs": [
    {
     "data": {
      "text/plain": [
       "Yes    10\n",
       "No      4\n",
       "Name: On the night before did you stay on the streets, ES or SH?(5165), dtype: int64"
      ]
     },
     "execution_count": 27,
     "metadata": {},
     "output_type": "execute_result"
    }
   ],
   "source": [
    "ee_ud['On the night before did you stay on the streets, ES or SH?(5165)'].value_counts()\n",
    "#This variable has NA value for nearly all, so not worth including."
   ]
  },
  {
   "cell_type": "code",
   "execution_count": 28,
   "metadata": {},
   "outputs": [
    {
     "data": {
      "text/plain": [
       "Four or more times (HUD)     1795\n",
       "One time (HUD)               1730\n",
       "Two times (HUD)               920\n",
       "Three times (HUD)             541\n",
       "Data not collected (HUD)       15\n",
       "Client doesn't know (HUD)       8\n",
       "Client refused (HUD)            4\n",
       "Name: Regardless of where they stayed last night - Number of times the client has been on the streets, in ES, or SH in the past three years including today(5167), dtype: int64"
      ]
     },
     "execution_count": 28,
     "metadata": {},
     "output_type": "execute_result"
    }
   ],
   "source": [
    "ee_ud['Regardless of where they stayed last night - Number of times the client has been on the streets, in ES, or SH in the past three years including today(5167)'].value_counts()\n",
    "#This variable has some interesting information, so worth including. Probably should change the label though."
   ]
  },
  {
   "cell_type": "code",
   "execution_count": 29,
   "metadata": {},
   "outputs": [
    {
     "data": {
      "text/plain": [
       "More than 12 months (HUD)                         1898\n",
       "One month (this time is the first month) (HUD)    1168\n",
       "Data not collected (HUD)                           742\n",
       "2                                                  325\n",
       "3                                                  198\n",
       "6                                                  153\n",
       "4                                                  124\n",
       "5                                                   84\n",
       "8                                                   75\n",
       "12                                                  69\n",
       "9                                                   47\n",
       "7                                                   43\n",
       "10                                                  39\n",
       "Client doesn't know (HUD)                           22\n",
       "11                                                  21\n",
       "Client refused (HUD)                                 4\n",
       "Name: Total number of months homeless on the street, in ES or SH in the past three years(5168), dtype: int64"
      ]
     },
     "execution_count": 29,
     "metadata": {},
     "output_type": "execute_result"
    }
   ],
   "source": [
    "ee_ud['Total number of months homeless on the street, in ES or SH in the past three years(5168)'].value_counts()\n",
    "#This variable also has interesting info and is worth keeping and changing label."
   ]
  },
  {
   "cell_type": "code",
   "execution_count": 30,
   "metadata": {},
   "outputs": [
    {
     "data": {
      "text/plain": [
       "Category 1 - Homeless (HUD)                                      4608\n",
       "Stably housed (HUD)                                                60\n",
       "Category 2 - At imminent risk of losing housing (HUD)              42\n",
       "At-risk of homelessness (HUD)                                      16\n",
       "Client doesn't know (HUD)                                           4\n",
       "Client refused (HUD)                                                2\n",
       "Category 3 - Homeless only under other federal statutes (HUD)       1\n",
       "Name: Housing Status(2703), dtype: int64"
      ]
     },
     "execution_count": 30,
     "metadata": {},
     "output_type": "execute_result"
    }
   ],
   "source": [
    "ee_ud['Housing Status(2703)'].value_counts()\n",
    "#This variable is almost entirely Category 1, so not best to keep for analysis."
   ]
  },
  {
   "cell_type": "code",
   "execution_count": 31,
   "metadata": {},
   "outputs": [
    {
     "data": {
      "text/plain": [
       "Yes (HUD)                    3000\n",
       "No (HUD)                     2219\n",
       "Client doesn't know (HUD)       3\n",
       "Client refused (HUD)            2\n",
       "Data not collected (HUD)        1\n",
       "Name: Does the client have a disabling condition?(1935), dtype: int64"
      ]
     },
     "execution_count": 31,
     "metadata": {},
     "output_type": "execute_result"
    }
   ],
   "source": [
    "ee_ud['Does the client have a disabling condition?(1935)'].value_counts()\n",
    "#This variable is worth keeping for now, with close to even numbers for Yes and No"
   ]
  },
  {
   "cell_type": "code",
   "execution_count": 32,
   "metadata": {},
   "outputs": [
    {
     "data": {
      "text/plain": [
       "No (HUD)                     3135\n",
       "Yes (HUD)                    1969\n",
       "Client doesn't know (HUD)      11\n",
       "Data not collected (HUD)        5\n",
       "Client refused (HUD)            2\n",
       "Name: Covered by Health Insurance(4376), dtype: int64"
      ]
     },
     "execution_count": 32,
     "metadata": {},
     "output_type": "execute_result"
    }
   ],
   "source": [
    "ee_ud['Covered by Health Insurance(4376)'].value_counts()\n",
    "#This variable is also worth keeping for now, with large numbers for both Yes and No"
   ]
  },
  {
   "cell_type": "code",
   "execution_count": 33,
   "metadata": {},
   "outputs": [
    {
     "data": {
      "text/plain": [
       "No (HUD)                     4710\n",
       "Yes (HUD)                     497\n",
       "Client doesn't know (HUD)      10\n",
       "Client refused (HUD)            1\n",
       "Name: Domestic violence victim/survivor(341), dtype: int64"
      ]
     },
     "execution_count": 33,
     "metadata": {},
     "output_type": "execute_result"
    }
   ],
   "source": [
    "ee_ud['Domestic violence victim/survivor(341)'].value_counts()\n",
    "#Over 10% answered yes, significant enough to keep this variable for now."
   ]
  },
  {
   "cell_type": "code",
   "execution_count": 34,
   "metadata": {},
   "outputs": [
    {
     "data": {
      "text/plain": [
       "More than a year ago (HUD)             225\n",
       "Within the past three months (HUD)     134\n",
       "Three to six months ago (HUD)           48\n",
       "From six to twelve months ago (HUD)     38\n",
       "Data not collected (HUD)                27\n",
       "Client refused (HUD)                     7\n",
       "Client doesn't know (HUD)                4\n",
       "Name: If yes for Domestic violence victim/survivor, when experience occurred(1917), dtype: int64"
      ]
     },
     "execution_count": 34,
     "metadata": {},
     "output_type": "execute_result"
    }
   ],
   "source": [
    "ee_ud['If yes for Domestic violence victim/survivor, when experience occurred(1917)'].value_counts()\n",
    "#Considering this subset is already small, and the largest portion are from more than a year ago, we can take out this variable"
   ]
  },
  {
   "cell_type": "code",
   "execution_count": 35,
   "metadata": {},
   "outputs": [
    {
     "data": {
      "text/plain": [
       "Emergency Shelter (HUD)    5299\n",
       "Name: Entry Exit Provider Program Type Code, dtype: int64"
      ]
     },
     "execution_count": 35,
     "metadata": {},
     "output_type": "execute_result"
    }
   ],
   "source": [
    "ee_ud['Entry Exit Provider Program Type Code'].value_counts()\n",
    "#Only one value for this variable, so nothing to analyze"
   ]
  },
  {
   "cell_type": "code",
   "execution_count": 36,
   "metadata": {},
   "outputs": [
    {
     "data": {
      "text/plain": [
       "27701    1579\n",
       "27703     655\n",
       "27707     339\n",
       "27704     245\n",
       "27705     212\n",
       "         ... \n",
       "27937       1\n",
       "na          1\n",
       "23224       1\n",
       "08360       1\n",
       "34953       1\n",
       "Name: Zip Code (of Last Permanent Address, if known)(1932), Length: 440, dtype: int64"
      ]
     },
     "execution_count": 36,
     "metadata": {},
     "output_type": "execute_result"
    }
   ],
   "source": [
    "ee_ud['Zip Code (of Last Permanent Address, if known)(1932)'].value_counts()\n",
    "#This can be removed, not likely to be useful for analysis"
   ]
  },
  {
   "cell_type": "code",
   "execution_count": 38,
   "metadata": {},
   "outputs": [],
   "source": [
    "ee_ud_SESH = ee_ud[ee_ud['EE Provider ID']=='SESH']\n",
    "ee_ud_SESH=ee_ud_SESH.drop(['If yes for Domestic violence victim/survivor, when experience occurred(1917)','Date of Birth(893)','Zip Code (of Last Permanent Address, if known)(1932)','EE Provider ID','Entry Exit Provider Program Type Code','EE UID','Client Unique ID','Client Location(4378)','Relationship to Head of Household(4374)','On the night before did you stay on the streets, ES or SH?(5165)','Housing Status(2703)','Did you stay less than 7 nights?(5164)','Did you stay less than 90 days?(5163)'], axis=1)\n",
    "del(ee_ud)"
   ]
  },
  {
   "cell_type": "code",
   "execution_count": 39,
   "metadata": {},
   "outputs": [],
   "source": [
    "noncash_ent = pd.read_csv('NONCASH_ENTRY_191102.tsv.txt', sep = '\t')"
   ]
  },
  {
   "cell_type": "code",
   "execution_count": 40,
   "metadata": {},
   "outputs": [],
   "source": [
    "noncash_ent.loc[noncash_ent['EE Provider ID'] == 'Urban Ministries of Durham - Durham County - Singles Emergency Shelter - Private(5838)','EE Provider ID'] = 'SESH'\n",
    "noncash_ent.loc[noncash_ent['EE Provider ID'] == 'XXXClosed2015 Urban Ministries of Durham- Durham County- Journey Entry- ESG(1970)','EE Provider ID'] = 'JENT'\n",
    "noncash_ent.loc[noncash_ent['EE Provider ID'] == 'XXXClosed2015 Urban Ministries of Durham- Durham County- Journey Forward- ESG(5694)','EE Provider ID'] = 'JFOR'\n",
    "noncash_ent.loc[noncash_ent['EE Provider ID'] == 'XXXClosed2015 Urban Ministries of Durham- Durham County- Journey Outreach- ESG(4515)','EE Provider ID'] = 'JOUT'\n",
    "noncash_ent.loc[noncash_ent['EE Provider ID'] == 'XXXClosed2015 Urban Ministries of Durham- Durham County- Journey Recovery- ESG(1932)','EE Provider ID'] = 'JREC'\n",
    "noncash_ent.loc[noncash_ent['EE Provider ID'] == 'XXXClosed2015 Urban Ministries of Durham- Durham County- Journey Tech- ESG(4516)','EE Provider ID'] = 'JTEC'\n",
    "noncash_ent.loc[noncash_ent['EE Provider ID'] == 'XXXClosed2015 Urban Ministries of Durham- Durham County- Journey Veterans- ESG(5069)','EE Provider ID'] = 'JVET'"
   ]
  },
  {
   "cell_type": "code",
   "execution_count": 41,
   "metadata": {},
   "outputs": [
    {
     "data": {
      "text/plain": [
       "Supplemental Nutrition Assistance Program (Food Stamps) (HUD)          5279\n",
       "TANF Child Care Services (HUD)                                         4949\n",
       "Special Supplemental Nutrition Program for WIC (HUD)                   4948\n",
       "Other TANF-Funded Services (HUD)                                       4948\n",
       "TANF Transportation Services (HUD)                                     4948\n",
       "Other Source (HUD)                                                     4947\n",
       "Section 8, Public Housing, or other ongoing rental assistance (HUD)    3931\n",
       "Temporary rental assistance (HUD)                                      3931\n",
       "Name: Non-Cash Source (Entry), dtype: int64"
      ]
     },
     "execution_count": 41,
     "metadata": {},
     "output_type": "execute_result"
    }
   ],
   "source": [
    "noncash_ent['Non-Cash Source (Entry)'].value_counts()\n",
    "#Worth keeping"
   ]
  },
  {
   "cell_type": "code",
   "execution_count": 42,
   "metadata": {},
   "outputs": [],
   "source": [
    "noncash_ent_SESH = noncash_ent[noncash_ent['EE Provider ID']=='SESH']\n",
    "noncash_ent_SESH=noncash_ent_SESH[['Client ID', 'Non-Cash Source (Entry)']]\n",
    "del(noncash_ent)"
   ]
  },
  {
   "cell_type": "code",
   "execution_count": 50,
   "metadata": {},
   "outputs": [
    {
     "data": {
      "text/html": [
       "<div>\n",
       "<style scoped>\n",
       "    .dataframe tbody tr th:only-of-type {\n",
       "        vertical-align: middle;\n",
       "    }\n",
       "\n",
       "    .dataframe tbody tr th {\n",
       "        vertical-align: top;\n",
       "    }\n",
       "\n",
       "    .dataframe thead th {\n",
       "        text-align: right;\n",
       "    }\n",
       "</style>\n",
       "<table border=\"1\" class=\"dataframe\">\n",
       "  <thead>\n",
       "    <tr style=\"text-align: right;\">\n",
       "      <th></th>\n",
       "      <th>Client ID</th>\n",
       "      <th>Client Age at Entry</th>\n",
       "      <th>Client Gender</th>\n",
       "      <th>Client Primary Race</th>\n",
       "      <th>Prior Living Situation(43)</th>\n",
       "      <th>Length of Stay in Previous Place(1934)</th>\n",
       "      <th>Regardless of where they stayed last night - Number of times the client has been on the streets, in ES, or SH in the past three years including today(5167)</th>\n",
       "      <th>Total number of months homeless on the street, in ES or SH in the past three years(5168)</th>\n",
       "      <th>Does the client have a disabling condition?(1935)</th>\n",
       "      <th>Covered by Health Insurance(4376)</th>\n",
       "      <th>Domestic violence victim/survivor(341)</th>\n",
       "    </tr>\n",
       "  </thead>\n",
       "  <tbody>\n",
       "    <tr>\n",
       "      <td>0</td>\n",
       "      <td>397941</td>\n",
       "      <td>60.0</td>\n",
       "      <td>Female</td>\n",
       "      <td>White (HUD)</td>\n",
       "      <td>Staying or living in a friend's room, apartmen...</td>\n",
       "      <td>One year or longer (HUD)</td>\n",
       "      <td>Two times (HUD)</td>\n",
       "      <td>2</td>\n",
       "      <td>Yes (HUD)</td>\n",
       "      <td>Yes (HUD)</td>\n",
       "      <td>No (HUD)</td>\n",
       "    </tr>\n",
       "    <tr>\n",
       "      <td>1</td>\n",
       "      <td>130335</td>\n",
       "      <td>48.0</td>\n",
       "      <td>Female</td>\n",
       "      <td>Black or African American (HUD)</td>\n",
       "      <td>Staying or living in a family member's room, a...</td>\n",
       "      <td>One month or more, but less than 90 days</td>\n",
       "      <td>Four or more times (HUD)</td>\n",
       "      <td>More than 12 months (HUD)</td>\n",
       "      <td>Yes (HUD)</td>\n",
       "      <td>Yes (HUD)</td>\n",
       "      <td>Yes (HUD)</td>\n",
       "    </tr>\n",
       "    <tr>\n",
       "      <td>2</td>\n",
       "      <td>130335</td>\n",
       "      <td>48.0</td>\n",
       "      <td>Female</td>\n",
       "      <td>Black or African American (HUD)</td>\n",
       "      <td>Staying or living in a family member's room, a...</td>\n",
       "      <td>One month or more, but less than 90 days</td>\n",
       "      <td>Four or more times (HUD)</td>\n",
       "      <td>More than 12 months (HUD)</td>\n",
       "      <td>Yes (HUD)</td>\n",
       "      <td>Yes (HUD)</td>\n",
       "      <td>Yes (HUD)</td>\n",
       "    </tr>\n",
       "    <tr>\n",
       "      <td>3</td>\n",
       "      <td>130335</td>\n",
       "      <td>48.0</td>\n",
       "      <td>Female</td>\n",
       "      <td>Black or African American (HUD)</td>\n",
       "      <td>Staying or living in a family member's room, a...</td>\n",
       "      <td>One month or more, but less than 90 days</td>\n",
       "      <td>Four or more times (HUD)</td>\n",
       "      <td>More than 12 months (HUD)</td>\n",
       "      <td>Yes (HUD)</td>\n",
       "      <td>Yes (HUD)</td>\n",
       "      <td>Yes (HUD)</td>\n",
       "    </tr>\n",
       "    <tr>\n",
       "      <td>4</td>\n",
       "      <td>130335</td>\n",
       "      <td>48.0</td>\n",
       "      <td>Female</td>\n",
       "      <td>Black or African American (HUD)</td>\n",
       "      <td>Staying or living in a family member's room, a...</td>\n",
       "      <td>One month or more, but less than 90 days</td>\n",
       "      <td>Four or more times (HUD)</td>\n",
       "      <td>More than 12 months (HUD)</td>\n",
       "      <td>Yes (HUD)</td>\n",
       "      <td>Yes (HUD)</td>\n",
       "      <td>Yes (HUD)</td>\n",
       "    </tr>\n",
       "    <tr>\n",
       "      <td>...</td>\n",
       "      <td>...</td>\n",
       "      <td>...</td>\n",
       "      <td>...</td>\n",
       "      <td>...</td>\n",
       "      <td>...</td>\n",
       "      <td>...</td>\n",
       "      <td>...</td>\n",
       "      <td>...</td>\n",
       "      <td>...</td>\n",
       "      <td>...</td>\n",
       "      <td>...</td>\n",
       "    </tr>\n",
       "    <tr>\n",
       "      <td>18612</td>\n",
       "      <td>429149</td>\n",
       "      <td>52.0</td>\n",
       "      <td>Female</td>\n",
       "      <td>Black or African American (HUD)</td>\n",
       "      <td>Staying or living in a family member's room, a...</td>\n",
       "      <td>One year or longer (HUD)</td>\n",
       "      <td>One time (HUD)</td>\n",
       "      <td>One month (this time is the first month) (HUD)</td>\n",
       "      <td>Yes (HUD)</td>\n",
       "      <td>Yes (HUD)</td>\n",
       "      <td>Yes (HUD)</td>\n",
       "    </tr>\n",
       "    <tr>\n",
       "      <td>18613</td>\n",
       "      <td>429149</td>\n",
       "      <td>52.0</td>\n",
       "      <td>Female</td>\n",
       "      <td>Black or African American (HUD)</td>\n",
       "      <td>Place not meant for habitation (HUD)</td>\n",
       "      <td>One year or longer (HUD)</td>\n",
       "      <td>Two times (HUD)</td>\n",
       "      <td>More than 12 months (HUD)</td>\n",
       "      <td>Yes (HUD)</td>\n",
       "      <td>Yes (HUD)</td>\n",
       "      <td>Yes (HUD)</td>\n",
       "    </tr>\n",
       "    <tr>\n",
       "      <td>18614</td>\n",
       "      <td>429149</td>\n",
       "      <td>52.0</td>\n",
       "      <td>Female</td>\n",
       "      <td>Black or African American (HUD)</td>\n",
       "      <td>Rental by client, with other ongoing housing s...</td>\n",
       "      <td>90 days or more, but less than one year</td>\n",
       "      <td>Three times (HUD)</td>\n",
       "      <td>More than 12 months (HUD)</td>\n",
       "      <td>Yes (HUD)</td>\n",
       "      <td>Yes (HUD)</td>\n",
       "      <td>Yes (HUD)</td>\n",
       "    </tr>\n",
       "    <tr>\n",
       "      <td>18615</td>\n",
       "      <td>429149</td>\n",
       "      <td>52.0</td>\n",
       "      <td>Female</td>\n",
       "      <td>Black or African American (HUD)</td>\n",
       "      <td>Staying or living in a friend's room, apartmen...</td>\n",
       "      <td>One night or less</td>\n",
       "      <td>Three times (HUD)</td>\n",
       "      <td>More than 12 months (HUD)</td>\n",
       "      <td>No (HUD)</td>\n",
       "      <td>Yes (HUD)</td>\n",
       "      <td>Yes (HUD)</td>\n",
       "    </tr>\n",
       "    <tr>\n",
       "      <td>18616</td>\n",
       "      <td>429149</td>\n",
       "      <td>52.0</td>\n",
       "      <td>Female</td>\n",
       "      <td>Black or African American (HUD)</td>\n",
       "      <td>Staying or living in a friend's room, apartmen...</td>\n",
       "      <td>One night or less</td>\n",
       "      <td>Three times (HUD)</td>\n",
       "      <td>More than 12 months (HUD)</td>\n",
       "      <td>No (HUD)</td>\n",
       "      <td>Yes (HUD)</td>\n",
       "      <td>Yes (HUD)</td>\n",
       "    </tr>\n",
       "  </tbody>\n",
       "</table>\n",
       "<p>18617 rows × 11 columns</p>\n",
       "</div>"
      ],
      "text/plain": [
       "       Client ID  Client Age at Entry Client Gender  \\\n",
       "0         397941                 60.0        Female   \n",
       "1         130335                 48.0        Female   \n",
       "2         130335                 48.0        Female   \n",
       "3         130335                 48.0        Female   \n",
       "4         130335                 48.0        Female   \n",
       "...          ...                  ...           ...   \n",
       "18612     429149                 52.0        Female   \n",
       "18613     429149                 52.0        Female   \n",
       "18614     429149                 52.0        Female   \n",
       "18615     429149                 52.0        Female   \n",
       "18616     429149                 52.0        Female   \n",
       "\n",
       "                   Client Primary Race  \\\n",
       "0                          White (HUD)   \n",
       "1      Black or African American (HUD)   \n",
       "2      Black or African American (HUD)   \n",
       "3      Black or African American (HUD)   \n",
       "4      Black or African American (HUD)   \n",
       "...                                ...   \n",
       "18612  Black or African American (HUD)   \n",
       "18613  Black or African American (HUD)   \n",
       "18614  Black or African American (HUD)   \n",
       "18615  Black or African American (HUD)   \n",
       "18616  Black or African American (HUD)   \n",
       "\n",
       "                              Prior Living Situation(43)  \\\n",
       "0      Staying or living in a friend's room, apartmen...   \n",
       "1      Staying or living in a family member's room, a...   \n",
       "2      Staying or living in a family member's room, a...   \n",
       "3      Staying or living in a family member's room, a...   \n",
       "4      Staying or living in a family member's room, a...   \n",
       "...                                                  ...   \n",
       "18612  Staying or living in a family member's room, a...   \n",
       "18613               Place not meant for habitation (HUD)   \n",
       "18614  Rental by client, with other ongoing housing s...   \n",
       "18615  Staying or living in a friend's room, apartmen...   \n",
       "18616  Staying or living in a friend's room, apartmen...   \n",
       "\n",
       "         Length of Stay in Previous Place(1934)  \\\n",
       "0                      One year or longer (HUD)   \n",
       "1      One month or more, but less than 90 days   \n",
       "2      One month or more, but less than 90 days   \n",
       "3      One month or more, but less than 90 days   \n",
       "4      One month or more, but less than 90 days   \n",
       "...                                         ...   \n",
       "18612                  One year or longer (HUD)   \n",
       "18613                  One year or longer (HUD)   \n",
       "18614   90 days or more, but less than one year   \n",
       "18615                         One night or less   \n",
       "18616                         One night or less   \n",
       "\n",
       "      Regardless of where they stayed last night - Number of times the client has been on the streets, in ES, or SH in the past three years including today(5167)  \\\n",
       "0                                        Two times (HUD)                                                                                                            \n",
       "1                               Four or more times (HUD)                                                                                                            \n",
       "2                               Four or more times (HUD)                                                                                                            \n",
       "3                               Four or more times (HUD)                                                                                                            \n",
       "4                               Four or more times (HUD)                                                                                                            \n",
       "...                                                  ...                                                                                                            \n",
       "18612                                     One time (HUD)                                                                                                            \n",
       "18613                                    Two times (HUD)                                                                                                            \n",
       "18614                                  Three times (HUD)                                                                                                            \n",
       "18615                                  Three times (HUD)                                                                                                            \n",
       "18616                                  Three times (HUD)                                                                                                            \n",
       "\n",
       "      Total number of months homeless on the street, in ES or SH in the past three years(5168)  \\\n",
       "0                                                      2                                         \n",
       "1                              More than 12 months (HUD)                                         \n",
       "2                              More than 12 months (HUD)                                         \n",
       "3                              More than 12 months (HUD)                                         \n",
       "4                              More than 12 months (HUD)                                         \n",
       "...                                                  ...                                         \n",
       "18612     One month (this time is the first month) (HUD)                                         \n",
       "18613                          More than 12 months (HUD)                                         \n",
       "18614                          More than 12 months (HUD)                                         \n",
       "18615                          More than 12 months (HUD)                                         \n",
       "18616                          More than 12 months (HUD)                                         \n",
       "\n",
       "      Does the client have a disabling condition?(1935)  \\\n",
       "0                                             Yes (HUD)   \n",
       "1                                             Yes (HUD)   \n",
       "2                                             Yes (HUD)   \n",
       "3                                             Yes (HUD)   \n",
       "4                                             Yes (HUD)   \n",
       "...                                                 ...   \n",
       "18612                                         Yes (HUD)   \n",
       "18613                                         Yes (HUD)   \n",
       "18614                                         Yes (HUD)   \n",
       "18615                                          No (HUD)   \n",
       "18616                                          No (HUD)   \n",
       "\n",
       "      Covered by Health Insurance(4376) Domestic violence victim/survivor(341)  \n",
       "0                             Yes (HUD)                               No (HUD)  \n",
       "1                             Yes (HUD)                              Yes (HUD)  \n",
       "2                             Yes (HUD)                              Yes (HUD)  \n",
       "3                             Yes (HUD)                              Yes (HUD)  \n",
       "4                             Yes (HUD)                              Yes (HUD)  \n",
       "...                                 ...                                    ...  \n",
       "18612                         Yes (HUD)                              Yes (HUD)  \n",
       "18613                         Yes (HUD)                              Yes (HUD)  \n",
       "18614                         Yes (HUD)                              Yes (HUD)  \n",
       "18615                         Yes (HUD)                              Yes (HUD)  \n",
       "18616                         Yes (HUD)                              Yes (HUD)  \n",
       "\n",
       "[18617 rows x 11 columns]"
      ]
     },
     "execution_count": 50,
     "metadata": {},
     "output_type": "execute_result"
    }
   ],
   "source": [
    "umd = client_SESH.merge(ee_ud_SESH, on='Client ID', how='left')\n",
    "umd"
   ]
  },
  {
   "cell_type": "code",
   "execution_count": 63,
   "metadata": {},
   "outputs": [],
   "source": [
    "umd=umd.rename(columns={'Regardless of where they stayed last night - Number of times the client has been on the streets, in ES, or SH in the past three years including today(5167)':'Recent_Times_Homeless'})"
   ]
  },
  {
   "cell_type": "code",
   "execution_count": 64,
   "metadata": {},
   "outputs": [],
   "source": [
    "umd=umd.rename(columns={'Client ID':'ID'})"
   ]
  },
  {
   "cell_type": "code",
   "execution_count": 65,
   "metadata": {},
   "outputs": [],
   "source": [
    "umd=umd.rename(columns={'Client Age at Entry':'Entry_Age'})"
   ]
  },
  {
   "cell_type": "code",
   "execution_count": 66,
   "metadata": {},
   "outputs": [],
   "source": [
    "umd=umd.rename(columns={'Client Gender':'Gender'})"
   ]
  },
  {
   "cell_type": "code",
   "execution_count": 67,
   "metadata": {},
   "outputs": [],
   "source": [
    "umd=umd.rename(columns={'Client Primary Race':'Race'})"
   ]
  },
  {
   "cell_type": "code",
   "execution_count": 68,
   "metadata": {},
   "outputs": [],
   "source": [
    "umd=umd.rename(columns={'Prior Living Situation(43)':'Prior_Living'})"
   ]
  },
  {
   "cell_type": "code",
   "execution_count": 69,
   "metadata": {},
   "outputs": [],
   "source": [
    "umd=umd.rename(columns={'Length of Stay in Previous Place(1934)':'Prior_Living_Time'})"
   ]
  },
  {
   "cell_type": "code",
   "execution_count": 70,
   "metadata": {},
   "outputs": [],
   "source": [
    "umd=umd.rename(columns={'Total number of months homeless on the street, in ES or SH in the past three years(5168)':'Recent_Months_Homeless'})"
   ]
  },
  {
   "cell_type": "code",
   "execution_count": 71,
   "metadata": {},
   "outputs": [],
   "source": [
    "umd=umd.rename(columns={'Does the client have a disabling condition?(1935)':'Disability'})"
   ]
  },
  {
   "cell_type": "code",
   "execution_count": 72,
   "metadata": {},
   "outputs": [],
   "source": [
    "umd=umd.rename(columns={'Covered by Health Insurance(4376)':'Health_Insurance'})"
   ]
  },
  {
   "cell_type": "code",
   "execution_count": 73,
   "metadata": {},
   "outputs": [],
   "source": [
    "umd=umd.rename(columns={'Domestic violence victim/survivor(341)':'Domestic_Violence'})"
   ]
  },
  {
   "cell_type": "code",
   "execution_count": 88,
   "metadata": {},
   "outputs": [
    {
     "name": "stdout",
     "output_type": "stream",
     "text": [
      "['White' 'Black/AA' 'American Indian or Alaska Native (HUD)' 'Asian (HUD)'\n",
      " 'Native Hawaiian or Other Pacific Islander (HUD)'\n",
      " \"Client doesn't know (HUD)\" 'Data not collected (HUD)'\n",
      " 'Client refused (HUD)']\n"
     ]
    }
   ],
   "source": [
    "print(umd['Race'].unique())"
   ]
  },
  {
   "cell_type": "code",
   "execution_count": 80,
   "metadata": {},
   "outputs": [],
   "source": [
    "umd.loc[umd['Race'] == 'White (HUD)','Race'] = 'White'"
   ]
  },
  {
   "cell_type": "code",
   "execution_count": 86,
   "metadata": {},
   "outputs": [],
   "source": [
    "umd.loc[umd['Race'] == 'Black or African American (HUD)','Race'] = 'Black/AA'"
   ]
  },
  {
   "cell_type": "code",
   "execution_count": 190,
   "metadata": {},
   "outputs": [],
   "source": [
    "umd.loc[umd['Race'] == '1','Race'] = 'Black/AA'"
   ]
  },
  {
   "cell_type": "code",
   "execution_count": 192,
   "metadata": {},
   "outputs": [],
   "source": [
    "umd.loc[umd['Race'] == 'American Indian or Alaska Native','Race'] = 'Am Indian/Alaskan'"
   ]
  },
  {
   "cell_type": "code",
   "execution_count": 91,
   "metadata": {},
   "outputs": [],
   "source": [
    "umd.loc[umd['Race'] == 'Asian (HUD)','Race'] = 'Asian'"
   ]
  },
  {
   "cell_type": "code",
   "execution_count": 92,
   "metadata": {},
   "outputs": [],
   "source": [
    "umd.loc[umd['Race'] == 'Native Hawaiian or Other Pacific Islander (HUD)','Race'] = 'Hawaiian/Pacific Islander'"
   ]
  },
  {
   "cell_type": "code",
   "execution_count": 93,
   "metadata": {},
   "outputs": [],
   "source": [
    "umd.loc[umd['Race'] == \"Client doesn't know (HUD)\",'Race'] = 'Client Unsure'"
   ]
  },
  {
   "cell_type": "code",
   "execution_count": 94,
   "metadata": {},
   "outputs": [],
   "source": [
    "umd.loc[umd['Race'] == 'Data not collected (HUD)','Race'] = 'No Data Collected'"
   ]
  },
  {
   "cell_type": "code",
   "execution_count": 95,
   "metadata": {},
   "outputs": [],
   "source": [
    "umd.loc[umd['Race'] == 'Client refused (HUD)','Race'] = 'Client Refused'"
   ]
  },
  {
   "cell_type": "code",
   "execution_count": 100,
   "metadata": {},
   "outputs": [
    {
     "name": "stdout",
     "output_type": "stream",
     "text": [
      "['2' 'More than 12 months (HUD)' 'Data not collected (HUD)' '6' nan '10'\n",
      " '7' '3' '4' 'One month (this time is the first month) (HUD)' '11'\n",
      " \"Client doesn't know (HUD)\" '9' '8' '12' '5' 'Client refused (HUD)']\n"
     ]
    }
   ],
   "source": [
    "print(umd['Recent_Months_Homeless'].unique())"
   ]
  },
  {
   "cell_type": "code",
   "execution_count": 102,
   "metadata": {},
   "outputs": [],
   "source": [
    "umd.loc[umd['Recent_Months_Homeless'] == 'One month (this time is the first month) (HUD)','Recent_Months_Homeless'] = '1'"
   ]
  },
  {
   "cell_type": "code",
   "execution_count": 104,
   "metadata": {},
   "outputs": [],
   "source": [
    "umd.loc[umd['Recent_Months_Homeless'] == 'More than 12 months (HUD)','Recent_Months_Homeless'] = '12+'"
   ]
  },
  {
   "cell_type": "code",
   "execution_count": 106,
   "metadata": {},
   "outputs": [],
   "source": [
    "umd.loc[umd['Recent_Months_Homeless'] == 'Data not collected (HUD)','Recent_Months_Homeless'] = 'NA'"
   ]
  },
  {
   "cell_type": "code",
   "execution_count": 107,
   "metadata": {},
   "outputs": [],
   "source": [
    "umd.loc[umd['Recent_Months_Homeless'] == \"Client doesn't know (HUD)\",'Recent_Months_Homeless'] = 'DK'"
   ]
  },
  {
   "cell_type": "code",
   "execution_count": 108,
   "metadata": {},
   "outputs": [],
   "source": [
    "umd.loc[umd['Recent_Months_Homeless'] == 'Client refused (HUD)','Recent_Months_Homeless'] = 'CR'"
   ]
  },
  {
   "cell_type": "code",
   "execution_count": 110,
   "metadata": {},
   "outputs": [
    {
     "name": "stdout",
     "output_type": "stream",
     "text": [
      "['Two times (HUD)' 'Four or more times (HUD)' 'Three times (HUD)'\n",
      " 'One time (HUD)' nan 'Data not collected (HUD)'\n",
      " \"Client doesn't know (HUD)\" 'Client refused (HUD)']\n"
     ]
    }
   ],
   "source": [
    "print(umd['Recent_Times_Homeless'].unique())"
   ]
  },
  {
   "cell_type": "code",
   "execution_count": 113,
   "metadata": {},
   "outputs": [],
   "source": [
    "umd.loc[umd['Recent_Times_Homeless'] == 'Two times (HUD)','Recent_Times_Homeless'] = 2"
   ]
  },
  {
   "cell_type": "code",
   "execution_count": 115,
   "metadata": {},
   "outputs": [],
   "source": [
    "umd.loc[umd['Recent_Times_Homeless'] == 'Three times (HUD)','Recent_Times_Homeless'] = 3"
   ]
  },
  {
   "cell_type": "code",
   "execution_count": 118,
   "metadata": {},
   "outputs": [],
   "source": [
    "umd.loc[umd['Recent_Times_Homeless'] == 'Four or more times (HUD)','Recent_Times_Homeless'] = '4+'"
   ]
  },
  {
   "cell_type": "code",
   "execution_count": 120,
   "metadata": {},
   "outputs": [],
   "source": [
    "umd.loc[umd['Recent_Times_Homeless'] == 'One time (HUD)','Recent_Times_Homeless'] = 1"
   ]
  },
  {
   "cell_type": "code",
   "execution_count": 122,
   "metadata": {},
   "outputs": [],
   "source": [
    "umd.loc[umd['Recent_Times_Homeless'] == 'Data not collected (HUD)','Recent_Times_Homeless'] = 'NA'"
   ]
  },
  {
   "cell_type": "code",
   "execution_count": 124,
   "metadata": {},
   "outputs": [],
   "source": [
    "umd.loc[umd['Recent_Times_Homeless'] == \"Client doesn't know (HUD)\",'Recent_Times_Homeless'] = 'DK'"
   ]
  },
  {
   "cell_type": "code",
   "execution_count": 125,
   "metadata": {},
   "outputs": [],
   "source": [
    "umd.loc[umd['Recent_Times_Homeless'] == 'Client refused (HUD)','Recent_Times_Homeless'] = 'CR'"
   ]
  },
  {
   "cell_type": "code",
   "execution_count": 127,
   "metadata": {},
   "outputs": [
    {
     "name": "stdout",
     "output_type": "stream",
     "text": [
      "[\"Staying or living in a friend's room, apartment or house (HUD)\"\n",
      " \"Staying or living in a family member's room, apartment or house (HUD)\"\n",
      " 'Place not meant for habitation (HUD)'\n",
      " 'Emergency shelter, incl. hotel/motel paid for w/ ES voucher, or RHY-funded Host Home shelter (HUD)'\n",
      " 'Rental by client, with VASH housing subsidy (HUD)'\n",
      " 'Rental by client, no ongoing housing subsidy (HUD)' nan\n",
      " 'Rental by client, with other ongoing housing subsidy (HUD)'\n",
      " 'Jail, prison or juvenile detention facility (HUD)'\n",
      " 'Transitional housing for homeless persons (including homeless youth) (HUD)'\n",
      " 'Hotel or motel paid for without emergency shelter voucher (HUD)'\n",
      " 'Residential project or halfway house with no homeless criteria (HUD)'\n",
      " 'Substance abuse treatment facility or detox center (HUD)'\n",
      " 'Owned by client, with ongoing housing subsidy (HUD)'\n",
      " 'Hospital or other residential non-psychiatric medical facility (HUD)'\n",
      " 'Permanent housing (other than RRH) for formerly homeless persons (HUD)'\n",
      " \"Client doesn't know (HUD)\"\n",
      " 'Owned by client, no ongoing housing subsidy (HUD)' 'Other (HUD)'\n",
      " 'Safe Haven (HUD)' 'Data not collected (HUD)'\n",
      " 'Psychiatric hospital or other psychiatric facility (HUD)'\n",
      " 'Long-term care facility or nursing home (HUD)'\n",
      " 'Foster care home or foster care group home (HUD)'\n",
      " 'Interim Housing (HUD) (Retired)'\n",
      " 'Rental by client, with GPD TIP housing subsidy (HUD)'\n",
      " 'Client refused (HUD)' 'Rental by client in a public housing unit (HUD)']\n"
     ]
    }
   ],
   "source": [
    "print(umd['Prior_Living'].unique())"
   ]
  },
  {
   "cell_type": "code",
   "execution_count": 128,
   "metadata": {},
   "outputs": [],
   "source": [
    "umd.loc[umd['Prior_Living'] == \"Staying or living in a friend's room, apartment or house (HUD)\",'Prior_Living'] = \"Friend Home\""
   ]
  },
  {
   "cell_type": "code",
   "execution_count": 195,
   "metadata": {},
   "outputs": [],
   "source": [
    "umd.loc[umd['Prior_Living'] == \"Data not collected (HUD)\",'Prior_Living'] = \"Data not collected\""
   ]
  },
  {
   "cell_type": "code",
   "execution_count": 130,
   "metadata": {},
   "outputs": [],
   "source": [
    "umd.loc[umd['Prior_Living'] == \"Staying or living in a family member's room, apartment or house (HUD)\",'Prior_Living'] = \"Family Home\""
   ]
  },
  {
   "cell_type": "code",
   "execution_count": 132,
   "metadata": {},
   "outputs": [],
   "source": [
    "umd.loc[umd['Prior_Living'] == 'Place not meant for habitation (HUD)','Prior_Living'] = 'Place not meant for habitation'"
   ]
  },
  {
   "cell_type": "code",
   "execution_count": 133,
   "metadata": {},
   "outputs": [],
   "source": [
    "umd.loc[umd['Prior_Living'] == \"Emergency shelter, incl. hotel/motel paid for w/ ES voucher, or RHY-funded Host Home shelter (HUD)\",'Prior_Living'] = \"Emergency shelter\""
   ]
  },
  {
   "cell_type": "code",
   "execution_count": 134,
   "metadata": {},
   "outputs": [],
   "source": [
    "umd.loc[umd['Prior_Living'] == \"Rental by client, with VASH housing subsidy (HUD)\",'Prior_Living'] = \"VASH subsidy rental\""
   ]
  },
  {
   "cell_type": "code",
   "execution_count": 135,
   "metadata": {},
   "outputs": [],
   "source": [
    "umd.loc[umd['Prior_Living'] == \"Rental by client, no ongoing housing subsidy (HUD)\",'Prior_Living'] = \"Rental w/o subsidy\""
   ]
  },
  {
   "cell_type": "code",
   "execution_count": 136,
   "metadata": {},
   "outputs": [],
   "source": [
    "umd.loc[umd['Prior_Living'] == \"Rental by client, with other ongoing housing subsidy (HUD)\",'Prior_Living'] = \"Rental w/ other subsidy\""
   ]
  },
  {
   "cell_type": "code",
   "execution_count": 137,
   "metadata": {},
   "outputs": [],
   "source": [
    "umd.loc[umd['Prior_Living'] == \"Jail, prison or juvenile detention facility (HUD)\",'Prior_Living'] = \"Incarcerated\""
   ]
  },
  {
   "cell_type": "code",
   "execution_count": 138,
   "metadata": {},
   "outputs": [],
   "source": [
    "umd.loc[umd['Prior_Living'] == \"Transitional housing for homeless persons (including homeless youth) (HUD)\",'Prior_Living'] = \"Transitional housing\""
   ]
  },
  {
   "cell_type": "code",
   "execution_count": 139,
   "metadata": {},
   "outputs": [],
   "source": [
    "umd.loc[umd['Prior_Living'] == \"Hotel or motel paid for without emergency shelter voucher (HUD)\",'Prior_Living'] = \"Hotel or motel\""
   ]
  },
  {
   "cell_type": "code",
   "execution_count": 140,
   "metadata": {},
   "outputs": [],
   "source": [
    "umd.loc[umd['Prior_Living'] == \"Residential project or halfway house with no homeless criteria (HUD)\",'Prior_Living'] = \"Halfway house\""
   ]
  },
  {
   "cell_type": "code",
   "execution_count": 194,
   "metadata": {},
   "outputs": [],
   "source": [
    "umd.loc[umd['Prior_Living'] == \"Substance abuse treatment facility or detox center (HUD)\",'Prior_Living'] = \"Substance treatment center\""
   ]
  },
  {
   "cell_type": "code",
   "execution_count": 141,
   "metadata": {},
   "outputs": [],
   "source": [
    "umd.loc[umd['Prior_Living'] == \"Owned by client, with ongoing housing subsidy (HUD)\",'Prior_Living'] = \"Owned w/ subsidy\""
   ]
  },
  {
   "cell_type": "code",
   "execution_count": 142,
   "metadata": {},
   "outputs": [],
   "source": [
    "umd.loc[umd['Prior_Living'] == \"Hospital or other residential non-psychiatric medical facility (HUD)\",'Prior_Living'] = \"Medical facility\""
   ]
  },
  {
   "cell_type": "code",
   "execution_count": 143,
   "metadata": {},
   "outputs": [],
   "source": [
    "umd.loc[umd['Prior_Living'] == \"Permanent housing (other than RRH) for formerly homeless persons (HUD)\",'Prior_Living'] = \"Permanent housing for ex-homeless\""
   ]
  },
  {
   "cell_type": "code",
   "execution_count": 144,
   "metadata": {},
   "outputs": [],
   "source": [
    "umd.loc[umd['Prior_Living'] == \"Client doesn't know (HUD)\",'Prior_Living'] = \"Client does not know\""
   ]
  },
  {
   "cell_type": "code",
   "execution_count": 145,
   "metadata": {},
   "outputs": [],
   "source": [
    "umd.loc[umd['Prior_Living'] == \"Owned by client, no ongoing housing subsidy (HUD)\",'Prior_Living'] = \"Owned w/o subsidy\""
   ]
  },
  {
   "cell_type": "code",
   "execution_count": 146,
   "metadata": {},
   "outputs": [],
   "source": [
    "umd.loc[umd['Prior_Living'] == \"Other (HUD)\",'Prior_Living'] = \"Other\""
   ]
  },
  {
   "cell_type": "code",
   "execution_count": 147,
   "metadata": {},
   "outputs": [],
   "source": [
    "umd.loc[umd['Prior_Living'] == \"Safe Haven (HUD)\",'Prior_Living'] = \"Safe haven\""
   ]
  },
  {
   "cell_type": "code",
   "execution_count": 148,
   "metadata": {},
   "outputs": [],
   "source": [
    "umd.loc[umd['Prior_Living'] == \"Psychiatric hospital or other psychiatric facility (HUD)\",'Prior_Living'] = \"Psychiatric facility\""
   ]
  },
  {
   "cell_type": "code",
   "execution_count": 149,
   "metadata": {},
   "outputs": [],
   "source": [
    "umd.loc[umd['Prior_Living'] == \"Long-term care facility or nursing home (HUD)\",'Prior_Living'] = \"Long-term care facility\""
   ]
  },
  {
   "cell_type": "code",
   "execution_count": 150,
   "metadata": {},
   "outputs": [],
   "source": [
    "umd.loc[umd['Prior_Living'] == \"Foster care home or foster care group home (HUD)\",'Prior_Living'] = \"Foster care home\""
   ]
  },
  {
   "cell_type": "code",
   "execution_count": 151,
   "metadata": {},
   "outputs": [],
   "source": [
    "umd.loc[umd['Prior_Living'] == \"Interim Housing (HUD) (Retired)\",'Prior_Living'] = \"Interim housing (Retired)\""
   ]
  },
  {
   "cell_type": "code",
   "execution_count": 152,
   "metadata": {},
   "outputs": [],
   "source": [
    "umd.loc[umd['Prior_Living'] == \"Rental by client, with GPD TIP housing subsidy (HUD)\",'Prior_Living'] = \"Rental w/ GPD TIP subsidy\""
   ]
  },
  {
   "cell_type": "code",
   "execution_count": 153,
   "metadata": {},
   "outputs": [],
   "source": [
    "umd.loc[umd['Prior_Living'] == \"Client refused (HUD)\",'Prior_Living'] = \"Client refused\""
   ]
  },
  {
   "cell_type": "code",
   "execution_count": 154,
   "metadata": {},
   "outputs": [],
   "source": [
    "umd.loc[umd['Prior_Living'] == \"Rental by client in a public housing unit (HUD)\",'Prior_Living'] = \"Public housing rental\""
   ]
  },
  {
   "cell_type": "code",
   "execution_count": 156,
   "metadata": {},
   "outputs": [
    {
     "name": "stdout",
     "output_type": "stream",
     "text": [
      "['Yes (HUD)' 'No (HUD)' nan 'Data not collected (HUD)'\n",
      " 'Client refused (HUD)']\n"
     ]
    }
   ],
   "source": [
    "print(umd['Disability'].unique())"
   ]
  },
  {
   "cell_type": "code",
   "execution_count": 157,
   "metadata": {},
   "outputs": [],
   "source": [
    "umd.loc[umd['Disability'] == \"Yes (HUD)\",'Disability'] = \"Yes\""
   ]
  },
  {
   "cell_type": "code",
   "execution_count": 158,
   "metadata": {},
   "outputs": [],
   "source": [
    "umd.loc[umd['Disability'] == \"No (HUD)\",'Disability'] = \"No\""
   ]
  },
  {
   "cell_type": "code",
   "execution_count": 159,
   "metadata": {},
   "outputs": [],
   "source": [
    "umd.loc[umd['Disability'] == \"Data not collected (HUD)\",'Disability'] = \"Data not collected\""
   ]
  },
  {
   "cell_type": "code",
   "execution_count": 160,
   "metadata": {},
   "outputs": [],
   "source": [
    "umd.loc[umd['Disability'] == \"Client refused (HUD)\",'Disability'] = \"Client refused\""
   ]
  },
  {
   "cell_type": "code",
   "execution_count": 162,
   "metadata": {},
   "outputs": [
    {
     "name": "stdout",
     "output_type": "stream",
     "text": [
      "['Yes (HUD)' 'No (HUD)' nan \"Client doesn't know (HUD)\"\n",
      " 'Data not collected (HUD)' 'Client refused (HUD)']\n"
     ]
    }
   ],
   "source": [
    "print(umd['Health_Insurance'].unique())"
   ]
  },
  {
   "cell_type": "code",
   "execution_count": 163,
   "metadata": {},
   "outputs": [],
   "source": [
    "umd.loc[umd['Health_Insurance'] == \"Yes (HUD)\",'Health_Insurance'] = \"Yes\""
   ]
  },
  {
   "cell_type": "code",
   "execution_count": 164,
   "metadata": {},
   "outputs": [],
   "source": [
    "umd.loc[umd['Health_Insurance'] == \"No (HUD)\",'Health_Insurance'] = \"No\""
   ]
  },
  {
   "cell_type": "code",
   "execution_count": 165,
   "metadata": {},
   "outputs": [],
   "source": [
    "umd.loc[umd['Health_Insurance'] == \"Client doesn't know (HUD)\",'Health_Insurance'] = \"Client does not know\""
   ]
  },
  {
   "cell_type": "code",
   "execution_count": 166,
   "metadata": {},
   "outputs": [],
   "source": [
    "umd.loc[umd['Health_Insurance'] == \"Data not collected (HUD)\",'Health_Insurance'] = \"Data not collected\""
   ]
  },
  {
   "cell_type": "code",
   "execution_count": 167,
   "metadata": {},
   "outputs": [],
   "source": [
    "umd.loc[umd['Health_Insurance'] == \"Client refused (HUD)\",'Health_Insurance'] = \"Client refused\""
   ]
  },
  {
   "cell_type": "code",
   "execution_count": 169,
   "metadata": {},
   "outputs": [
    {
     "name": "stdout",
     "output_type": "stream",
     "text": [
      "['No (HUD)' 'Yes (HUD)' nan \"Client doesn't know (HUD)\"\n",
      " 'Client refused (HUD)']\n"
     ]
    }
   ],
   "source": [
    "print(umd['Domestic_Violence'].unique())"
   ]
  },
  {
   "cell_type": "code",
   "execution_count": 170,
   "metadata": {},
   "outputs": [],
   "source": [
    "umd.loc[umd['Domestic_Violence'] == \"Yes (HUD)\",'Domestic_Violence'] = \"Yes\""
   ]
  },
  {
   "cell_type": "code",
   "execution_count": 171,
   "metadata": {},
   "outputs": [],
   "source": [
    "umd.loc[umd['Domestic_Violence'] == \"No (HUD)\",'Domestic_Violence'] = \"No\""
   ]
  },
  {
   "cell_type": "code",
   "execution_count": 172,
   "metadata": {},
   "outputs": [],
   "source": [
    "umd.loc[umd['Domestic_Violence'] == \"Client doesn't know (HUD)\",'Domestic_Violence'] = \"Client does not know\""
   ]
  },
  {
   "cell_type": "code",
   "execution_count": 173,
   "metadata": {},
   "outputs": [],
   "source": [
    "umd.loc[umd['Domestic_Violence'] == \"Client refused (HUD)\",'Domestic_Violence'] = \"Client refused\""
   ]
  },
  {
   "cell_type": "code",
   "execution_count": 175,
   "metadata": {},
   "outputs": [
    {
     "name": "stdout",
     "output_type": "stream",
     "text": [
      "['One year or longer (HUD)' 'One month or more, but less than 90 days'\n",
      " 'One week or more, but less than one month'\n",
      " '90 days or more, but less than one year' 'Two to six nights' nan\n",
      " 'One night or less' 'One week or less (HUD)' 'Data not collected (HUD)'\n",
      " \"Client doesn't know (HUD)\" 'Client refused (HUD)']\n"
     ]
    }
   ],
   "source": [
    "print(umd['Prior_Living_Time'].unique())"
   ]
  },
  {
   "cell_type": "code",
   "execution_count": 176,
   "metadata": {},
   "outputs": [],
   "source": [
    "umd.loc[umd['Prior_Living_Time'] == \"One year or longer (HUD)\",'Prior_Living_Time'] = \"1+ Years\""
   ]
  },
  {
   "cell_type": "code",
   "execution_count": 177,
   "metadata": {},
   "outputs": [],
   "source": [
    "umd.loc[umd['Prior_Living_Time'] == \"One month or more, but less than 90 days\",'Prior_Living_Time'] = \"30-89 Days\""
   ]
  },
  {
   "cell_type": "code",
   "execution_count": 179,
   "metadata": {},
   "outputs": [],
   "source": [
    "umd.loc[umd['Prior_Living_Time'] == \"One week or more, but less than one month\",'Prior_Living_Time'] = \"7-29 Days\""
   ]
  },
  {
   "cell_type": "code",
   "execution_count": 180,
   "metadata": {},
   "outputs": [],
   "source": [
    "umd.loc[umd['Prior_Living_Time'] == \"90 days or more, but less than one year\",'Prior_Living_Time'] = \"90-365 Days\""
   ]
  },
  {
   "cell_type": "code",
   "execution_count": 182,
   "metadata": {},
   "outputs": [],
   "source": [
    "umd.loc[umd['Prior_Living_Time'] == \"Two to six nights\",'Prior_Living_Time'] = \"2-6 Days\""
   ]
  },
  {
   "cell_type": "code",
   "execution_count": 183,
   "metadata": {},
   "outputs": [],
   "source": [
    "umd.loc[umd['Prior_Living_Time'] == \"One night or less\",'Prior_Living_Time'] = \"1 Day or Less\""
   ]
  },
  {
   "cell_type": "code",
   "execution_count": 184,
   "metadata": {},
   "outputs": [],
   "source": [
    "umd.loc[umd['Prior_Living_Time'] == \"One week or less (HUD)\",'Prior_Living_Time'] = \"1 Week or Less\""
   ]
  },
  {
   "cell_type": "code",
   "execution_count": 185,
   "metadata": {},
   "outputs": [],
   "source": [
    "umd.loc[umd['Prior_Living_Time'] == \"Data not collected (HUD)\",'Prior_Living_Time'] = \"Data not collected\""
   ]
  },
  {
   "cell_type": "code",
   "execution_count": 186,
   "metadata": {},
   "outputs": [],
   "source": [
    "umd.loc[umd['Prior_Living_Time'] == \"Client doesn't know (HUD)\",'Prior_Living_Time'] = \"Client doesn't know\""
   ]
  },
  {
   "cell_type": "code",
   "execution_count": 187,
   "metadata": {},
   "outputs": [],
   "source": [
    "umd.loc[umd['Prior_Living_Time'] == \"Client refused (HUD)\",'Prior_Living_Time'] = \"Client refused (HUD)\""
   ]
  },
  {
   "cell_type": "code",
   "execution_count": 196,
   "metadata": {},
   "outputs": [
    {
     "data": {
      "text/html": [
       "<div>\n",
       "<style scoped>\n",
       "    .dataframe tbody tr th:only-of-type {\n",
       "        vertical-align: middle;\n",
       "    }\n",
       "\n",
       "    .dataframe tbody tr th {\n",
       "        vertical-align: top;\n",
       "    }\n",
       "\n",
       "    .dataframe thead th {\n",
       "        text-align: right;\n",
       "    }\n",
       "</style>\n",
       "<table border=\"1\" class=\"dataframe\">\n",
       "  <thead>\n",
       "    <tr style=\"text-align: right;\">\n",
       "      <th></th>\n",
       "      <th>ID</th>\n",
       "      <th>Entry_Age</th>\n",
       "      <th>Gender</th>\n",
       "      <th>Race</th>\n",
       "      <th>Prior_Living</th>\n",
       "      <th>Prior_Living_Time</th>\n",
       "      <th>Recent_Times_Homeless</th>\n",
       "      <th>Recent_Months_Homeless</th>\n",
       "      <th>Disability</th>\n",
       "      <th>Health_Insurance</th>\n",
       "      <th>Domestic_Violence</th>\n",
       "    </tr>\n",
       "  </thead>\n",
       "  <tbody>\n",
       "    <tr>\n",
       "      <td>0</td>\n",
       "      <td>397941</td>\n",
       "      <td>60.0</td>\n",
       "      <td>Female</td>\n",
       "      <td>White</td>\n",
       "      <td>Friend Home</td>\n",
       "      <td>1+ Years</td>\n",
       "      <td>2</td>\n",
       "      <td>2</td>\n",
       "      <td>Yes</td>\n",
       "      <td>Yes</td>\n",
       "      <td>No</td>\n",
       "    </tr>\n",
       "    <tr>\n",
       "      <td>1</td>\n",
       "      <td>130335</td>\n",
       "      <td>48.0</td>\n",
       "      <td>Female</td>\n",
       "      <td>Black/AA</td>\n",
       "      <td>Family Home</td>\n",
       "      <td>30-89 Days</td>\n",
       "      <td>4+</td>\n",
       "      <td>12+</td>\n",
       "      <td>Yes</td>\n",
       "      <td>Yes</td>\n",
       "      <td>Yes</td>\n",
       "    </tr>\n",
       "    <tr>\n",
       "      <td>2</td>\n",
       "      <td>130335</td>\n",
       "      <td>48.0</td>\n",
       "      <td>Female</td>\n",
       "      <td>Black/AA</td>\n",
       "      <td>Family Home</td>\n",
       "      <td>30-89 Days</td>\n",
       "      <td>4+</td>\n",
       "      <td>12+</td>\n",
       "      <td>Yes</td>\n",
       "      <td>Yes</td>\n",
       "      <td>Yes</td>\n",
       "    </tr>\n",
       "    <tr>\n",
       "      <td>3</td>\n",
       "      <td>130335</td>\n",
       "      <td>48.0</td>\n",
       "      <td>Female</td>\n",
       "      <td>Black/AA</td>\n",
       "      <td>Family Home</td>\n",
       "      <td>30-89 Days</td>\n",
       "      <td>4+</td>\n",
       "      <td>12+</td>\n",
       "      <td>Yes</td>\n",
       "      <td>Yes</td>\n",
       "      <td>Yes</td>\n",
       "    </tr>\n",
       "    <tr>\n",
       "      <td>4</td>\n",
       "      <td>130335</td>\n",
       "      <td>48.0</td>\n",
       "      <td>Female</td>\n",
       "      <td>Black/AA</td>\n",
       "      <td>Family Home</td>\n",
       "      <td>30-89 Days</td>\n",
       "      <td>4+</td>\n",
       "      <td>12+</td>\n",
       "      <td>Yes</td>\n",
       "      <td>Yes</td>\n",
       "      <td>Yes</td>\n",
       "    </tr>\n",
       "    <tr>\n",
       "      <td>...</td>\n",
       "      <td>...</td>\n",
       "      <td>...</td>\n",
       "      <td>...</td>\n",
       "      <td>...</td>\n",
       "      <td>...</td>\n",
       "      <td>...</td>\n",
       "      <td>...</td>\n",
       "      <td>...</td>\n",
       "      <td>...</td>\n",
       "      <td>...</td>\n",
       "      <td>...</td>\n",
       "    </tr>\n",
       "    <tr>\n",
       "      <td>18612</td>\n",
       "      <td>429149</td>\n",
       "      <td>52.0</td>\n",
       "      <td>Female</td>\n",
       "      <td>Black/AA</td>\n",
       "      <td>Family Home</td>\n",
       "      <td>1+ Years</td>\n",
       "      <td>1</td>\n",
       "      <td>1</td>\n",
       "      <td>Yes</td>\n",
       "      <td>Yes</td>\n",
       "      <td>Yes</td>\n",
       "    </tr>\n",
       "    <tr>\n",
       "      <td>18613</td>\n",
       "      <td>429149</td>\n",
       "      <td>52.0</td>\n",
       "      <td>Female</td>\n",
       "      <td>Black/AA</td>\n",
       "      <td>Place not meant for habitation</td>\n",
       "      <td>1+ Years</td>\n",
       "      <td>2</td>\n",
       "      <td>2</td>\n",
       "      <td>Yes</td>\n",
       "      <td>Yes</td>\n",
       "      <td>Yes</td>\n",
       "    </tr>\n",
       "    <tr>\n",
       "      <td>18614</td>\n",
       "      <td>429149</td>\n",
       "      <td>52.0</td>\n",
       "      <td>Female</td>\n",
       "      <td>Black/AA</td>\n",
       "      <td>Rental w/ other subsidy</td>\n",
       "      <td>90-365 Days</td>\n",
       "      <td>3</td>\n",
       "      <td>12+</td>\n",
       "      <td>Yes</td>\n",
       "      <td>Yes</td>\n",
       "      <td>Yes</td>\n",
       "    </tr>\n",
       "    <tr>\n",
       "      <td>18615</td>\n",
       "      <td>429149</td>\n",
       "      <td>52.0</td>\n",
       "      <td>Female</td>\n",
       "      <td>Black/AA</td>\n",
       "      <td>Friend Home</td>\n",
       "      <td>1 Day or Less</td>\n",
       "      <td>3</td>\n",
       "      <td>12+</td>\n",
       "      <td>No</td>\n",
       "      <td>Yes</td>\n",
       "      <td>Yes</td>\n",
       "    </tr>\n",
       "    <tr>\n",
       "      <td>18616</td>\n",
       "      <td>429149</td>\n",
       "      <td>52.0</td>\n",
       "      <td>Female</td>\n",
       "      <td>Black/AA</td>\n",
       "      <td>Friend Home</td>\n",
       "      <td>1 Day or Less</td>\n",
       "      <td>3</td>\n",
       "      <td>12+</td>\n",
       "      <td>No</td>\n",
       "      <td>Yes</td>\n",
       "      <td>Yes</td>\n",
       "    </tr>\n",
       "  </tbody>\n",
       "</table>\n",
       "<p>18617 rows × 11 columns</p>\n",
       "</div>"
      ],
      "text/plain": [
       "           ID  Entry_Age  Gender      Race                    Prior_Living  \\\n",
       "0      397941       60.0  Female     White                     Friend Home   \n",
       "1      130335       48.0  Female  Black/AA                     Family Home   \n",
       "2      130335       48.0  Female  Black/AA                     Family Home   \n",
       "3      130335       48.0  Female  Black/AA                     Family Home   \n",
       "4      130335       48.0  Female  Black/AA                     Family Home   \n",
       "...       ...        ...     ...       ...                             ...   \n",
       "18612  429149       52.0  Female  Black/AA                     Family Home   \n",
       "18613  429149       52.0  Female  Black/AA  Place not meant for habitation   \n",
       "18614  429149       52.0  Female  Black/AA         Rental w/ other subsidy   \n",
       "18615  429149       52.0  Female  Black/AA                     Friend Home   \n",
       "18616  429149       52.0  Female  Black/AA                     Friend Home   \n",
       "\n",
       "      Prior_Living_Time Recent_Times_Homeless Recent_Months_Homeless  \\\n",
       "0              1+ Years                     2                      2   \n",
       "1            30-89 Days                    4+                    12+   \n",
       "2            30-89 Days                    4+                    12+   \n",
       "3            30-89 Days                    4+                    12+   \n",
       "4            30-89 Days                    4+                    12+   \n",
       "...                 ...                   ...                    ...   \n",
       "18612          1+ Years                     1                      1   \n",
       "18613          1+ Years                     2                      2   \n",
       "18614       90-365 Days                     3                    12+   \n",
       "18615     1 Day or Less                     3                    12+   \n",
       "18616     1 Day or Less                     3                    12+   \n",
       "\n",
       "      Disability Health_Insurance Domestic_Violence  \n",
       "0            Yes              Yes                No  \n",
       "1            Yes              Yes               Yes  \n",
       "2            Yes              Yes               Yes  \n",
       "3            Yes              Yes               Yes  \n",
       "4            Yes              Yes               Yes  \n",
       "...          ...              ...               ...  \n",
       "18612        Yes              Yes               Yes  \n",
       "18613        Yes              Yes               Yes  \n",
       "18614        Yes              Yes               Yes  \n",
       "18615         No              Yes               Yes  \n",
       "18616         No              Yes               Yes  \n",
       "\n",
       "[18617 rows x 11 columns]"
      ]
     },
     "execution_count": 196,
     "metadata": {},
     "output_type": "execute_result"
    }
   ],
   "source": [
    "umd"
   ]
  },
  {
   "cell_type": "code",
   "execution_count": 200,
   "metadata": {},
   "outputs": [],
   "source": [
    "dis_ent_SESH=dis_ent_SESH.rename(columns={'Client ID':'ID'})"
   ]
  },
  {
   "cell_type": "code",
   "execution_count": 204,
   "metadata": {},
   "outputs": [],
   "source": [
    "dis_ent_SESH=dis_ent_SESH.rename(columns={'Disability Type (Entry)':'Disability_Type'})"
   ]
  },
  {
   "cell_type": "code",
   "execution_count": 208,
   "metadata": {},
   "outputs": [
    {
     "data": {
      "text/html": [
       "<div>\n",
       "<style scoped>\n",
       "    .dataframe tbody tr th:only-of-type {\n",
       "        vertical-align: middle;\n",
       "    }\n",
       "\n",
       "    .dataframe tbody tr th {\n",
       "        vertical-align: top;\n",
       "    }\n",
       "\n",
       "    .dataframe thead th {\n",
       "        text-align: right;\n",
       "    }\n",
       "</style>\n",
       "<table border=\"1\" class=\"dataframe\">\n",
       "  <thead>\n",
       "    <tr style=\"text-align: right;\">\n",
       "      <th></th>\n",
       "      <th>ID</th>\n",
       "      <th>Disability Determination (Entry)</th>\n",
       "      <th>Disability_Type</th>\n",
       "    </tr>\n",
       "  </thead>\n",
       "  <tbody>\n",
       "    <tr>\n",
       "      <td>0</td>\n",
       "      <td>397941</td>\n",
       "      <td>No (HUD)</td>\n",
       "      <td>Alcohol Abuse (HUD)</td>\n",
       "    </tr>\n",
       "    <tr>\n",
       "      <td>1</td>\n",
       "      <td>397941</td>\n",
       "      <td>No (HUD)</td>\n",
       "      <td>Both Alcohol and Drug Abuse (HUD)</td>\n",
       "    </tr>\n",
       "    <tr>\n",
       "      <td>2</td>\n",
       "      <td>397941</td>\n",
       "      <td>No (HUD)</td>\n",
       "      <td>Chronic Health Condition (HUD)</td>\n",
       "    </tr>\n",
       "    <tr>\n",
       "      <td>3</td>\n",
       "      <td>397941</td>\n",
       "      <td>No (HUD)</td>\n",
       "      <td>Developmental (HUD)</td>\n",
       "    </tr>\n",
       "    <tr>\n",
       "      <td>4</td>\n",
       "      <td>397941</td>\n",
       "      <td>No (HUD)</td>\n",
       "      <td>Drug Abuse (HUD)</td>\n",
       "    </tr>\n",
       "    <tr>\n",
       "      <td>...</td>\n",
       "      <td>...</td>\n",
       "      <td>...</td>\n",
       "      <td>...</td>\n",
       "    </tr>\n",
       "    <tr>\n",
       "      <td>36391</td>\n",
       "      <td>429149</td>\n",
       "      <td>No (HUD)</td>\n",
       "      <td>Physical (HUD)</td>\n",
       "    </tr>\n",
       "    <tr>\n",
       "      <td>36392</td>\n",
       "      <td>429149</td>\n",
       "      <td>Yes (HUD)</td>\n",
       "      <td>Chronic Health Condition (HUD)</td>\n",
       "    </tr>\n",
       "    <tr>\n",
       "      <td>36393</td>\n",
       "      <td>429149</td>\n",
       "      <td>Yes (HUD)</td>\n",
       "      <td>Chronic Health Condition (HUD)</td>\n",
       "    </tr>\n",
       "    <tr>\n",
       "      <td>36394</td>\n",
       "      <td>429149</td>\n",
       "      <td>Yes (HUD)</td>\n",
       "      <td>Drug Abuse (HUD)</td>\n",
       "    </tr>\n",
       "    <tr>\n",
       "      <td>36395</td>\n",
       "      <td>429149</td>\n",
       "      <td>Yes (HUD)</td>\n",
       "      <td>Mental Health Problem (HUD)</td>\n",
       "    </tr>\n",
       "  </tbody>\n",
       "</table>\n",
       "<p>36396 rows × 3 columns</p>\n",
       "</div>"
      ],
      "text/plain": [
       "           ID Disability Determination (Entry)  \\\n",
       "0      397941                         No (HUD)   \n",
       "1      397941                         No (HUD)   \n",
       "2      397941                         No (HUD)   \n",
       "3      397941                         No (HUD)   \n",
       "4      397941                         No (HUD)   \n",
       "...       ...                              ...   \n",
       "36391  429149                         No (HUD)   \n",
       "36392  429149                        Yes (HUD)   \n",
       "36393  429149                        Yes (HUD)   \n",
       "36394  429149                        Yes (HUD)   \n",
       "36395  429149                        Yes (HUD)   \n",
       "\n",
       "                         Disability_Type  \n",
       "0                    Alcohol Abuse (HUD)  \n",
       "1      Both Alcohol and Drug Abuse (HUD)  \n",
       "2         Chronic Health Condition (HUD)  \n",
       "3                    Developmental (HUD)  \n",
       "4                       Drug Abuse (HUD)  \n",
       "...                                  ...  \n",
       "36391                     Physical (HUD)  \n",
       "36392     Chronic Health Condition (HUD)  \n",
       "36393     Chronic Health Condition (HUD)  \n",
       "36394                   Drug Abuse (HUD)  \n",
       "36395        Mental Health Problem (HUD)  \n",
       "\n",
       "[36396 rows x 3 columns]"
      ]
     },
     "execution_count": 208,
     "metadata": {},
     "output_type": "execute_result"
    }
   ],
   "source": [
    "dis_ent_SESH"
   ]
  },
  {
   "cell_type": "code",
   "execution_count": 209,
   "metadata": {},
   "outputs": [
    {
     "ename": "MemoryError",
     "evalue": "",
     "output_type": "error",
     "traceback": [
      "\u001b[1;31m---------------------------------------------------------------------------\u001b[0m",
      "\u001b[1;31mMemoryError\u001b[0m                               Traceback (most recent call last)",
      "\u001b[1;32m<ipython-input-209-1323cc7ca21d>\u001b[0m in \u001b[0;36m<module>\u001b[1;34m\u001b[0m\n\u001b[1;32m----> 1\u001b[1;33m \u001b[0mumd\u001b[0m \u001b[1;33m=\u001b[0m \u001b[0mumd\u001b[0m\u001b[1;33m.\u001b[0m\u001b[0mmerge\u001b[0m\u001b[1;33m(\u001b[0m\u001b[0mdis_ent_SESH\u001b[0m\u001b[1;33m,\u001b[0m \u001b[0mon\u001b[0m\u001b[1;33m=\u001b[0m\u001b[1;34m'ID'\u001b[0m\u001b[1;33m,\u001b[0m \u001b[0mhow\u001b[0m\u001b[1;33m=\u001b[0m\u001b[1;34m'left'\u001b[0m\u001b[1;33m)\u001b[0m\u001b[1;33m\u001b[0m\u001b[1;33m\u001b[0m\u001b[0m\n\u001b[0m\u001b[0;32m      2\u001b[0m \u001b[0mumd\u001b[0m\u001b[1;33m\u001b[0m\u001b[1;33m\u001b[0m\u001b[0m\n",
      "\u001b[1;32m~\\Anaconda3\\lib\\site-packages\\pandas\\core\\frame.py\u001b[0m in \u001b[0;36mmerge\u001b[1;34m(self, right, how, on, left_on, right_on, left_index, right_index, sort, suffixes, copy, indicator, validate)\u001b[0m\n\u001b[0;32m   7332\u001b[0m             \u001b[0mcopy\u001b[0m\u001b[1;33m=\u001b[0m\u001b[0mcopy\u001b[0m\u001b[1;33m,\u001b[0m\u001b[1;33m\u001b[0m\u001b[1;33m\u001b[0m\u001b[0m\n\u001b[0;32m   7333\u001b[0m             \u001b[0mindicator\u001b[0m\u001b[1;33m=\u001b[0m\u001b[0mindicator\u001b[0m\u001b[1;33m,\u001b[0m\u001b[1;33m\u001b[0m\u001b[1;33m\u001b[0m\u001b[0m\n\u001b[1;32m-> 7334\u001b[1;33m             \u001b[0mvalidate\u001b[0m\u001b[1;33m=\u001b[0m\u001b[0mvalidate\u001b[0m\u001b[1;33m,\u001b[0m\u001b[1;33m\u001b[0m\u001b[1;33m\u001b[0m\u001b[0m\n\u001b[0m\u001b[0;32m   7335\u001b[0m         )\n\u001b[0;32m   7336\u001b[0m \u001b[1;33m\u001b[0m\u001b[0m\n",
      "\u001b[1;32m~\\Anaconda3\\lib\\site-packages\\pandas\\core\\reshape\\merge.py\u001b[0m in \u001b[0;36mmerge\u001b[1;34m(left, right, how, on, left_on, right_on, left_index, right_index, sort, suffixes, copy, indicator, validate)\u001b[0m\n\u001b[0;32m     81\u001b[0m         \u001b[0mvalidate\u001b[0m\u001b[1;33m=\u001b[0m\u001b[0mvalidate\u001b[0m\u001b[1;33m,\u001b[0m\u001b[1;33m\u001b[0m\u001b[1;33m\u001b[0m\u001b[0m\n\u001b[0;32m     82\u001b[0m     )\n\u001b[1;32m---> 83\u001b[1;33m     \u001b[1;32mreturn\u001b[0m \u001b[0mop\u001b[0m\u001b[1;33m.\u001b[0m\u001b[0mget_result\u001b[0m\u001b[1;33m(\u001b[0m\u001b[1;33m)\u001b[0m\u001b[1;33m\u001b[0m\u001b[1;33m\u001b[0m\u001b[0m\n\u001b[0m\u001b[0;32m     84\u001b[0m \u001b[1;33m\u001b[0m\u001b[0m\n\u001b[0;32m     85\u001b[0m \u001b[1;33m\u001b[0m\u001b[0m\n",
      "\u001b[1;32m~\\Anaconda3\\lib\\site-packages\\pandas\\core\\reshape\\merge.py\u001b[0m in \u001b[0;36mget_result\u001b[1;34m(self)\u001b[0m\n\u001b[0;32m    640\u001b[0m             \u001b[0mself\u001b[0m\u001b[1;33m.\u001b[0m\u001b[0mleft\u001b[0m\u001b[1;33m,\u001b[0m \u001b[0mself\u001b[0m\u001b[1;33m.\u001b[0m\u001b[0mright\u001b[0m \u001b[1;33m=\u001b[0m \u001b[0mself\u001b[0m\u001b[1;33m.\u001b[0m\u001b[0m_indicator_pre_merge\u001b[0m\u001b[1;33m(\u001b[0m\u001b[0mself\u001b[0m\u001b[1;33m.\u001b[0m\u001b[0mleft\u001b[0m\u001b[1;33m,\u001b[0m \u001b[0mself\u001b[0m\u001b[1;33m.\u001b[0m\u001b[0mright\u001b[0m\u001b[1;33m)\u001b[0m\u001b[1;33m\u001b[0m\u001b[1;33m\u001b[0m\u001b[0m\n\u001b[0;32m    641\u001b[0m \u001b[1;33m\u001b[0m\u001b[0m\n\u001b[1;32m--> 642\u001b[1;33m         \u001b[0mjoin_index\u001b[0m\u001b[1;33m,\u001b[0m \u001b[0mleft_indexer\u001b[0m\u001b[1;33m,\u001b[0m \u001b[0mright_indexer\u001b[0m \u001b[1;33m=\u001b[0m \u001b[0mself\u001b[0m\u001b[1;33m.\u001b[0m\u001b[0m_get_join_info\u001b[0m\u001b[1;33m(\u001b[0m\u001b[1;33m)\u001b[0m\u001b[1;33m\u001b[0m\u001b[1;33m\u001b[0m\u001b[0m\n\u001b[0m\u001b[0;32m    643\u001b[0m \u001b[1;33m\u001b[0m\u001b[0m\n\u001b[0;32m    644\u001b[0m         \u001b[0mldata\u001b[0m\u001b[1;33m,\u001b[0m \u001b[0mrdata\u001b[0m \u001b[1;33m=\u001b[0m \u001b[0mself\u001b[0m\u001b[1;33m.\u001b[0m\u001b[0mleft\u001b[0m\u001b[1;33m.\u001b[0m\u001b[0m_data\u001b[0m\u001b[1;33m,\u001b[0m \u001b[0mself\u001b[0m\u001b[1;33m.\u001b[0m\u001b[0mright\u001b[0m\u001b[1;33m.\u001b[0m\u001b[0m_data\u001b[0m\u001b[1;33m\u001b[0m\u001b[1;33m\u001b[0m\u001b[0m\n",
      "\u001b[1;32m~\\Anaconda3\\lib\\site-packages\\pandas\\core\\reshape\\merge.py\u001b[0m in \u001b[0;36m_get_join_info\u001b[1;34m(self)\u001b[0m\n\u001b[0;32m    857\u001b[0m             )\n\u001b[0;32m    858\u001b[0m         \u001b[1;32melse\u001b[0m\u001b[1;33m:\u001b[0m\u001b[1;33m\u001b[0m\u001b[1;33m\u001b[0m\u001b[0m\n\u001b[1;32m--> 859\u001b[1;33m             \u001b[1;33m(\u001b[0m\u001b[0mleft_indexer\u001b[0m\u001b[1;33m,\u001b[0m \u001b[0mright_indexer\u001b[0m\u001b[1;33m)\u001b[0m \u001b[1;33m=\u001b[0m \u001b[0mself\u001b[0m\u001b[1;33m.\u001b[0m\u001b[0m_get_join_indexers\u001b[0m\u001b[1;33m(\u001b[0m\u001b[1;33m)\u001b[0m\u001b[1;33m\u001b[0m\u001b[1;33m\u001b[0m\u001b[0m\n\u001b[0m\u001b[0;32m    860\u001b[0m \u001b[1;33m\u001b[0m\u001b[0m\n\u001b[0;32m    861\u001b[0m             \u001b[1;32mif\u001b[0m \u001b[0mself\u001b[0m\u001b[1;33m.\u001b[0m\u001b[0mright_index\u001b[0m\u001b[1;33m:\u001b[0m\u001b[1;33m\u001b[0m\u001b[1;33m\u001b[0m\u001b[0m\n",
      "\u001b[1;32m~\\Anaconda3\\lib\\site-packages\\pandas\\core\\reshape\\merge.py\u001b[0m in \u001b[0;36m_get_join_indexers\u001b[1;34m(self)\u001b[0m\n\u001b[0;32m    836\u001b[0m         \u001b[1;34m\"\"\" return the join indexers \"\"\"\u001b[0m\u001b[1;33m\u001b[0m\u001b[1;33m\u001b[0m\u001b[0m\n\u001b[0;32m    837\u001b[0m         return _get_join_indexers(\n\u001b[1;32m--> 838\u001b[1;33m             \u001b[0mself\u001b[0m\u001b[1;33m.\u001b[0m\u001b[0mleft_join_keys\u001b[0m\u001b[1;33m,\u001b[0m \u001b[0mself\u001b[0m\u001b[1;33m.\u001b[0m\u001b[0mright_join_keys\u001b[0m\u001b[1;33m,\u001b[0m \u001b[0msort\u001b[0m\u001b[1;33m=\u001b[0m\u001b[0mself\u001b[0m\u001b[1;33m.\u001b[0m\u001b[0msort\u001b[0m\u001b[1;33m,\u001b[0m \u001b[0mhow\u001b[0m\u001b[1;33m=\u001b[0m\u001b[0mself\u001b[0m\u001b[1;33m.\u001b[0m\u001b[0mhow\u001b[0m\u001b[1;33m\u001b[0m\u001b[1;33m\u001b[0m\u001b[0m\n\u001b[0m\u001b[0;32m    839\u001b[0m         )\n\u001b[0;32m    840\u001b[0m \u001b[1;33m\u001b[0m\u001b[0m\n",
      "\u001b[1;32m~\\Anaconda3\\lib\\site-packages\\pandas\\core\\reshape\\merge.py\u001b[0m in \u001b[0;36m_get_join_indexers\u001b[1;34m(left_keys, right_keys, sort, how, **kwargs)\u001b[0m\n\u001b[0;32m   1318\u001b[0m     \u001b[0mjoin_func\u001b[0m \u001b[1;33m=\u001b[0m \u001b[0m_join_functions\u001b[0m\u001b[1;33m[\u001b[0m\u001b[0mhow\u001b[0m\u001b[1;33m]\u001b[0m\u001b[1;33m\u001b[0m\u001b[1;33m\u001b[0m\u001b[0m\n\u001b[0;32m   1319\u001b[0m \u001b[1;33m\u001b[0m\u001b[0m\n\u001b[1;32m-> 1320\u001b[1;33m     \u001b[1;32mreturn\u001b[0m \u001b[0mjoin_func\u001b[0m\u001b[1;33m(\u001b[0m\u001b[0mlkey\u001b[0m\u001b[1;33m,\u001b[0m \u001b[0mrkey\u001b[0m\u001b[1;33m,\u001b[0m \u001b[0mcount\u001b[0m\u001b[1;33m,\u001b[0m \u001b[1;33m**\u001b[0m\u001b[0mkwargs\u001b[0m\u001b[1;33m)\u001b[0m\u001b[1;33m\u001b[0m\u001b[1;33m\u001b[0m\u001b[0m\n\u001b[0m\u001b[0;32m   1321\u001b[0m \u001b[1;33m\u001b[0m\u001b[0m\n\u001b[0;32m   1322\u001b[0m \u001b[1;33m\u001b[0m\u001b[0m\n",
      "\u001b[1;32mpandas\\_libs\\join.pyx\u001b[0m in \u001b[0;36mpandas._libs.join.left_outer_join\u001b[1;34m()\u001b[0m\n",
      "\u001b[1;31mMemoryError\u001b[0m: "
     ]
    }
   ],
   "source": [
    "umd = umd.merge(dis_ent_SESH, on='ID', how='left')\n",
    "umd"
   ]
  },
  {
   "cell_type": "code",
   "execution_count": 203,
   "metadata": {},
   "outputs": [
    {
     "name": "stdout",
     "output_type": "stream",
     "text": [
      "['Alcohol Abuse (HUD)' 'Both Alcohol and Drug Abuse (HUD)'\n",
      " 'Chronic Health Condition (HUD)' 'Developmental (HUD)' 'Drug Abuse (HUD)'\n",
      " 'HIV/AIDS (HUD)' 'Physical (HUD)' 'Mental Health Problem (HUD)'\n",
      " 'Physical/Medical' nan 'Other' 'Other: Learning' 'Hearing Impaired'\n",
      " 'Other: Speech' 'Vision Impaired' 'Dual Diagnosis']\n"
     ]
    }
   ],
   "source": [
    "print(umd['Disability Type (Entry)'].unique())"
   ]
  },
  {
   "cell_type": "code",
   "execution_count": 206,
   "metadata": {},
   "outputs": [
    {
     "ename": "KeyError",
     "evalue": "'Disability_Type'",
     "output_type": "error",
     "traceback": [
      "\u001b[1;31m---------------------------------------------------------------------------\u001b[0m",
      "\u001b[1;31mKeyError\u001b[0m                                  Traceback (most recent call last)",
      "\u001b[1;32m~\\Anaconda3\\lib\\site-packages\\pandas\\core\\indexes\\base.py\u001b[0m in \u001b[0;36mget_loc\u001b[1;34m(self, key, method, tolerance)\u001b[0m\n\u001b[0;32m   2896\u001b[0m             \u001b[1;32mtry\u001b[0m\u001b[1;33m:\u001b[0m\u001b[1;33m\u001b[0m\u001b[1;33m\u001b[0m\u001b[0m\n\u001b[1;32m-> 2897\u001b[1;33m                 \u001b[1;32mreturn\u001b[0m \u001b[0mself\u001b[0m\u001b[1;33m.\u001b[0m\u001b[0m_engine\u001b[0m\u001b[1;33m.\u001b[0m\u001b[0mget_loc\u001b[0m\u001b[1;33m(\u001b[0m\u001b[0mkey\u001b[0m\u001b[1;33m)\u001b[0m\u001b[1;33m\u001b[0m\u001b[1;33m\u001b[0m\u001b[0m\n\u001b[0m\u001b[0;32m   2898\u001b[0m             \u001b[1;32mexcept\u001b[0m \u001b[0mKeyError\u001b[0m\u001b[1;33m:\u001b[0m\u001b[1;33m\u001b[0m\u001b[1;33m\u001b[0m\u001b[0m\n",
      "\u001b[1;32mpandas\\_libs\\index.pyx\u001b[0m in \u001b[0;36mpandas._libs.index.IndexEngine.get_loc\u001b[1;34m()\u001b[0m\n",
      "\u001b[1;32mpandas\\_libs\\index.pyx\u001b[0m in \u001b[0;36mpandas._libs.index.IndexEngine.get_loc\u001b[1;34m()\u001b[0m\n",
      "\u001b[1;32mpandas\\_libs\\hashtable_class_helper.pxi\u001b[0m in \u001b[0;36mpandas._libs.hashtable.PyObjectHashTable.get_item\u001b[1;34m()\u001b[0m\n",
      "\u001b[1;32mpandas\\_libs\\hashtable_class_helper.pxi\u001b[0m in \u001b[0;36mpandas._libs.hashtable.PyObjectHashTable.get_item\u001b[1;34m()\u001b[0m\n",
      "\u001b[1;31mKeyError\u001b[0m: 'Disability_Type'",
      "\nDuring handling of the above exception, another exception occurred:\n",
      "\u001b[1;31mKeyError\u001b[0m                                  Traceback (most recent call last)",
      "\u001b[1;32m<ipython-input-206-790258e716df>\u001b[0m in \u001b[0;36m<module>\u001b[1;34m\u001b[0m\n\u001b[1;32m----> 1\u001b[1;33m \u001b[0mumd\u001b[0m\u001b[1;33m.\u001b[0m\u001b[0mloc\u001b[0m\u001b[1;33m[\u001b[0m\u001b[0mumd\u001b[0m\u001b[1;33m[\u001b[0m\u001b[1;34m'Disability_Type'\u001b[0m\u001b[1;33m]\u001b[0m \u001b[1;33m==\u001b[0m \u001b[1;34m\"Alcohol Abuse (HUD)\"\u001b[0m\u001b[1;33m,\u001b[0m\u001b[1;34m'Disability_Type'\u001b[0m\u001b[1;33m]\u001b[0m \u001b[1;33m=\u001b[0m \u001b[1;34m\"Alcohol Abuse\"\u001b[0m\u001b[1;33m\u001b[0m\u001b[1;33m\u001b[0m\u001b[0m\n\u001b[0m",
      "\u001b[1;32m~\\Anaconda3\\lib\\site-packages\\pandas\\core\\frame.py\u001b[0m in \u001b[0;36m__getitem__\u001b[1;34m(self, key)\u001b[0m\n\u001b[0;32m   2978\u001b[0m             \u001b[1;32mif\u001b[0m \u001b[0mself\u001b[0m\u001b[1;33m.\u001b[0m\u001b[0mcolumns\u001b[0m\u001b[1;33m.\u001b[0m\u001b[0mnlevels\u001b[0m \u001b[1;33m>\u001b[0m \u001b[1;36m1\u001b[0m\u001b[1;33m:\u001b[0m\u001b[1;33m\u001b[0m\u001b[1;33m\u001b[0m\u001b[0m\n\u001b[0;32m   2979\u001b[0m                 \u001b[1;32mreturn\u001b[0m \u001b[0mself\u001b[0m\u001b[1;33m.\u001b[0m\u001b[0m_getitem_multilevel\u001b[0m\u001b[1;33m(\u001b[0m\u001b[0mkey\u001b[0m\u001b[1;33m)\u001b[0m\u001b[1;33m\u001b[0m\u001b[1;33m\u001b[0m\u001b[0m\n\u001b[1;32m-> 2980\u001b[1;33m             \u001b[0mindexer\u001b[0m \u001b[1;33m=\u001b[0m \u001b[0mself\u001b[0m\u001b[1;33m.\u001b[0m\u001b[0mcolumns\u001b[0m\u001b[1;33m.\u001b[0m\u001b[0mget_loc\u001b[0m\u001b[1;33m(\u001b[0m\u001b[0mkey\u001b[0m\u001b[1;33m)\u001b[0m\u001b[1;33m\u001b[0m\u001b[1;33m\u001b[0m\u001b[0m\n\u001b[0m\u001b[0;32m   2981\u001b[0m             \u001b[1;32mif\u001b[0m \u001b[0mis_integer\u001b[0m\u001b[1;33m(\u001b[0m\u001b[0mindexer\u001b[0m\u001b[1;33m)\u001b[0m\u001b[1;33m:\u001b[0m\u001b[1;33m\u001b[0m\u001b[1;33m\u001b[0m\u001b[0m\n\u001b[0;32m   2982\u001b[0m                 \u001b[0mindexer\u001b[0m \u001b[1;33m=\u001b[0m \u001b[1;33m[\u001b[0m\u001b[0mindexer\u001b[0m\u001b[1;33m]\u001b[0m\u001b[1;33m\u001b[0m\u001b[1;33m\u001b[0m\u001b[0m\n",
      "\u001b[1;32m~\\Anaconda3\\lib\\site-packages\\pandas\\core\\indexes\\base.py\u001b[0m in \u001b[0;36mget_loc\u001b[1;34m(self, key, method, tolerance)\u001b[0m\n\u001b[0;32m   2897\u001b[0m                 \u001b[1;32mreturn\u001b[0m \u001b[0mself\u001b[0m\u001b[1;33m.\u001b[0m\u001b[0m_engine\u001b[0m\u001b[1;33m.\u001b[0m\u001b[0mget_loc\u001b[0m\u001b[1;33m(\u001b[0m\u001b[0mkey\u001b[0m\u001b[1;33m)\u001b[0m\u001b[1;33m\u001b[0m\u001b[1;33m\u001b[0m\u001b[0m\n\u001b[0;32m   2898\u001b[0m             \u001b[1;32mexcept\u001b[0m \u001b[0mKeyError\u001b[0m\u001b[1;33m:\u001b[0m\u001b[1;33m\u001b[0m\u001b[1;33m\u001b[0m\u001b[0m\n\u001b[1;32m-> 2899\u001b[1;33m                 \u001b[1;32mreturn\u001b[0m \u001b[0mself\u001b[0m\u001b[1;33m.\u001b[0m\u001b[0m_engine\u001b[0m\u001b[1;33m.\u001b[0m\u001b[0mget_loc\u001b[0m\u001b[1;33m(\u001b[0m\u001b[0mself\u001b[0m\u001b[1;33m.\u001b[0m\u001b[0m_maybe_cast_indexer\u001b[0m\u001b[1;33m(\u001b[0m\u001b[0mkey\u001b[0m\u001b[1;33m)\u001b[0m\u001b[1;33m)\u001b[0m\u001b[1;33m\u001b[0m\u001b[1;33m\u001b[0m\u001b[0m\n\u001b[0m\u001b[0;32m   2900\u001b[0m         \u001b[0mindexer\u001b[0m \u001b[1;33m=\u001b[0m \u001b[0mself\u001b[0m\u001b[1;33m.\u001b[0m\u001b[0mget_indexer\u001b[0m\u001b[1;33m(\u001b[0m\u001b[1;33m[\u001b[0m\u001b[0mkey\u001b[0m\u001b[1;33m]\u001b[0m\u001b[1;33m,\u001b[0m \u001b[0mmethod\u001b[0m\u001b[1;33m=\u001b[0m\u001b[0mmethod\u001b[0m\u001b[1;33m,\u001b[0m \u001b[0mtolerance\u001b[0m\u001b[1;33m=\u001b[0m\u001b[0mtolerance\u001b[0m\u001b[1;33m)\u001b[0m\u001b[1;33m\u001b[0m\u001b[1;33m\u001b[0m\u001b[0m\n\u001b[0;32m   2901\u001b[0m         \u001b[1;32mif\u001b[0m \u001b[0mindexer\u001b[0m\u001b[1;33m.\u001b[0m\u001b[0mndim\u001b[0m \u001b[1;33m>\u001b[0m \u001b[1;36m1\u001b[0m \u001b[1;32mor\u001b[0m \u001b[0mindexer\u001b[0m\u001b[1;33m.\u001b[0m\u001b[0msize\u001b[0m \u001b[1;33m>\u001b[0m \u001b[1;36m1\u001b[0m\u001b[1;33m:\u001b[0m\u001b[1;33m\u001b[0m\u001b[1;33m\u001b[0m\u001b[0m\n",
      "\u001b[1;32mpandas\\_libs\\index.pyx\u001b[0m in \u001b[0;36mpandas._libs.index.IndexEngine.get_loc\u001b[1;34m()\u001b[0m\n",
      "\u001b[1;32mpandas\\_libs\\index.pyx\u001b[0m in \u001b[0;36mpandas._libs.index.IndexEngine.get_loc\u001b[1;34m()\u001b[0m\n",
      "\u001b[1;32mpandas\\_libs\\hashtable_class_helper.pxi\u001b[0m in \u001b[0;36mpandas._libs.hashtable.PyObjectHashTable.get_item\u001b[1;34m()\u001b[0m\n",
      "\u001b[1;32mpandas\\_libs\\hashtable_class_helper.pxi\u001b[0m in \u001b[0;36mpandas._libs.hashtable.PyObjectHashTable.get_item\u001b[1;34m()\u001b[0m\n",
      "\u001b[1;31mKeyError\u001b[0m: 'Disability_Type'"
     ]
    }
   ],
   "source": [
    "umd.loc[umd['Disability_Type'] == \"Alcohol Abuse (HUD)\",'Disability_Type'] = \"Alcohol Abuse\""
   ]
  },
  {
   "cell_type": "code",
   "execution_count": 210,
   "metadata": {},
   "outputs": [],
   "source": [
    "umd.to_csv(r'C:/Users/Lenovo/OneDrive/Documents/UNC/BIOS 611/R/Scripts/proj3_umd.csv')"
   ]
  },
  {
   "cell_type": "code",
   "execution_count": 79,
   "metadata": {},
   "outputs": [],
   "source": [
    "dis_ben.to_csv(r'C:/Users/Lenovo/OneDrive/Documents/UNC/BIOS 611/R/Scripts/proj3_dis_ben.csv')"
   ]
  },
  {
   "cell_type": "code",
   "execution_count": null,
   "metadata": {},
   "outputs": [],
   "source": []
  }
 ],
 "metadata": {
  "kernelspec": {
   "display_name": "Python 3",
   "language": "python",
   "name": "python3"
  },
  "language_info": {
   "codemirror_mode": {
    "name": "ipython",
    "version": 3
   },
   "file_extension": ".py",
   "mimetype": "text/x-python",
   "name": "python",
   "nbconvert_exporter": "python",
   "pygments_lexer": "ipython3",
   "version": "3.7.4"
  }
 },
 "nbformat": 4,
 "nbformat_minor": 4
}
