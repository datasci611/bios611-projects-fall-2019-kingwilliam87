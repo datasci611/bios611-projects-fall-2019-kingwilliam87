{
 "cells": [
  {
   "cell_type": "code",
   "execution_count": 1750,
   "metadata": {},
   "outputs": [],
   "source": [
    "import pandas as pd\n",
    "import matplotlib.pyplot as plt\n",
    "import numpy as np\n",
    "import matplotlib.pyplot as plt"
   ]
  },
  {
   "cell_type": "code",
   "execution_count": 1751,
   "metadata": {},
   "outputs": [],
   "source": [
    "client = pd.read_csv('data/CLIENT_191102.tsv',sep='\t')"
   ]
  },
  {
   "cell_type": "code",
   "execution_count": 1752,
   "metadata": {},
   "outputs": [],
   "source": [
    "client.loc[client['EE Provider ID'] == 'Urban Ministries of Durham - Durham County - Singles Emergency Shelter - Private(5838)','EE Provider ID'] = 'SESH'\n",
    "client.loc[client['EE Provider ID'] == 'XXXClosed2015 Urban Ministries of Durham- Durham County- Journey Entry- ESG(1970)','EE Provider ID'] = 'JENT'\n",
    "client.loc[client['EE Provider ID'] == 'XXXClosed2015 Urban Ministries of Durham- Durham County- Journey Forward- ESG(5694)','EE Provider ID'] = 'JFOR'\n",
    "client.loc[client['EE Provider ID'] == 'XXXClosed2015 Urban Ministries of Durham- Durham County- Journey Outreach- ESG(4515)','EE Provider ID'] = 'JOUT'\n",
    "client.loc[client['EE Provider ID'] == 'XXXClosed2015 Urban Ministries of Durham- Durham County- Journey Recovery- ESG(1932)','EE Provider ID'] = 'JREC'\n",
    "client.loc[client['EE Provider ID'] == 'XXXClosed2015 Urban Ministries of Durham- Durham County- Journey Tech- ESG(4516)','EE Provider ID'] = 'JTEC'\n",
    "client.loc[client['EE Provider ID'] == 'XXXClosed2015 Urban Ministries of Durham- Durham County- Journey Veterans- ESG(5069)','EE Provider ID'] = 'JVET'\n"
   ]
  },
  {
   "cell_type": "code",
   "execution_count": 1753,
   "metadata": {},
   "outputs": [],
   "source": [
    "client['Duration']=client['Client Age at Exit']-client['Client Age at Entry']"
   ]
  },
  {
   "cell_type": "code",
   "execution_count": 1754,
   "metadata": {},
   "outputs": [
    {
     "data": {
      "text/plain": [
       "SESH    4319\n",
       "JENT     721\n",
       "JREC      67\n",
       "JFOR      65\n",
       "JTEC      61\n",
       "JOUT      51\n",
       "JVET      15\n",
       "Name: EE Provider ID, dtype: int64"
      ]
     },
     "execution_count": 1754,
     "metadata": {},
     "output_type": "execute_result"
    }
   ],
   "source": [
    "#For EE Provider ID, it appears the vast majority of clients are part of Singles Emergency Shelter. Let's get a count of clients by EE Provider ID.\n",
    "client['EE Provider ID'].value_counts()"
   ]
  },
  {
   "cell_type": "code",
   "execution_count": 1755,
   "metadata": {},
   "outputs": [],
   "source": [
    "#80% of clients are listed under Singles Emergency Shelter, and all other providers closed in 2015\n",
    "#We will limit our analysis to Singles Emergency Shelter\n",
    "client_SESH=client[client['EE Provider ID']=='SESH']"
   ]
  },
  {
   "cell_type": "code",
   "execution_count": 1756,
   "metadata": {},
   "outputs": [
    {
     "data": {
      "text/plain": [
       "320781     29\n",
       "344697     29\n",
       "419124     18\n",
       "124817     17\n",
       "2054       16\n",
       "           ..\n",
       "453207      1\n",
       "399969      1\n",
       "1000042     1\n",
       "420459      1\n",
       "421940      1\n",
       "Name: Client ID, Length: 2102, dtype: int64"
      ]
     },
     "execution_count": 1756,
     "metadata": {},
     "output_type": "execute_result"
    }
   ],
   "source": [
    "client_SESH['Client ID'].value_counts()"
   ]
  },
  {
   "cell_type": "code",
   "execution_count": 1757,
   "metadata": {},
   "outputs": [
    {
     "data": {
      "text/plain": [
       "smrm06231974s500m610    29\n",
       "pglf11111968p430g456    29\n",
       "mlwm08071974m632l200    18\n",
       "ljfm07151959l563j162    17\n",
       "esef11081952e450s650    16\n",
       "                        ..\n",
       "tawm08011973t652a336     1\n",
       "zwmf05291998z000w520     1\n",
       "nklf01061997n200k400     1\n",
       "rmrm01171973r534m600     1\n",
       "lmum02061988l553m655     1\n",
       "Name: Client Unique ID, Length: 2100, dtype: int64"
      ]
     },
     "execution_count": 1757,
     "metadata": {},
     "output_type": "execute_result"
    }
   ],
   "source": [
    "client_SESH['Client Unique ID'].value_counts()"
   ]
  },
  {
   "cell_type": "code",
   "execution_count": 1758,
   "metadata": {},
   "outputs": [
    {
     "data": {
      "text/plain": [
       "966362     1\n",
       "688821     1\n",
       "867014     1\n",
       "797380     1\n",
       "873155     1\n",
       "          ..\n",
       "1045848    1\n",
       "838999     1\n",
       "714070     1\n",
       "1057612    1\n",
       "780849     1\n",
       "Name: EE UID, Length: 4319, dtype: int64"
      ]
     },
     "execution_count": 1758,
     "metadata": {},
     "output_type": "execute_result"
    }
   ],
   "source": [
    "client_SESH['EE UID'].value_counts()"
   ]
  },
  {
   "cell_type": "code",
   "execution_count": 1759,
   "metadata": {},
   "outputs": [
    {
     "data": {
      "text/plain": [
       "No (HUD)                    3848\n",
       "Yes (HUD)                    461\n",
       "Data not collected (HUD)       2\n",
       "Name: Client Veteran Status, dtype: int64"
      ]
     },
     "execution_count": 1759,
     "metadata": {},
     "output_type": "execute_result"
    }
   ],
   "source": [
    "client_SESH['Client Veteran Status'].value_counts()\n",
    "#large majority are no, so can remove"
   ]
  },
  {
   "cell_type": "code",
   "execution_count": 1760,
   "metadata": {},
   "outputs": [
    {
     "data": {
      "text/plain": [
       "0.0    3860\n",
       "1.0     455\n",
       "2.0       4\n",
       "Name: Duration, dtype: int64"
      ]
     },
     "execution_count": 1760,
     "metadata": {},
     "output_type": "execute_result"
    }
   ],
   "source": [
    "client_SESH['Duration'].value_counts()\n",
    "#large majority are 0.0, so can remove"
   ]
  },
  {
   "cell_type": "code",
   "execution_count": 1761,
   "metadata": {},
   "outputs": [
    {
     "data": {
      "text/html": [
       "<div>\n",
       "<style scoped>\n",
       "    .dataframe tbody tr th:only-of-type {\n",
       "        vertical-align: middle;\n",
       "    }\n",
       "\n",
       "    .dataframe tbody tr th {\n",
       "        vertical-align: top;\n",
       "    }\n",
       "\n",
       "    .dataframe thead th {\n",
       "        text-align: right;\n",
       "    }\n",
       "</style>\n",
       "<table border=\"1\" class=\"dataframe\">\n",
       "  <thead>\n",
       "    <tr style=\"text-align: right;\">\n",
       "      <th></th>\n",
       "      <th>Client ID</th>\n",
       "      <th>Client Age at Entry</th>\n",
       "      <th>Client Gender</th>\n",
       "      <th>Client Primary Race</th>\n",
       "    </tr>\n",
       "  </thead>\n",
       "  <tbody>\n",
       "    <tr>\n",
       "      <td>0</td>\n",
       "      <td>397941</td>\n",
       "      <td>60.0</td>\n",
       "      <td>Female</td>\n",
       "      <td>White (HUD)</td>\n",
       "    </tr>\n",
       "    <tr>\n",
       "      <td>1</td>\n",
       "      <td>130335</td>\n",
       "      <td>48.0</td>\n",
       "      <td>Female</td>\n",
       "      <td>Black or African American (HUD)</td>\n",
       "    </tr>\n",
       "    <tr>\n",
       "      <td>2</td>\n",
       "      <td>188933</td>\n",
       "      <td>42.0</td>\n",
       "      <td>Female</td>\n",
       "      <td>Black or African American (HUD)</td>\n",
       "    </tr>\n",
       "    <tr>\n",
       "      <td>3</td>\n",
       "      <td>168290</td>\n",
       "      <td>57.0</td>\n",
       "      <td>Male</td>\n",
       "      <td>White (HUD)</td>\n",
       "    </tr>\n",
       "    <tr>\n",
       "      <td>4</td>\n",
       "      <td>123122</td>\n",
       "      <td>51.0</td>\n",
       "      <td>Male</td>\n",
       "      <td>White (HUD)</td>\n",
       "    </tr>\n",
       "    <tr>\n",
       "      <td>...</td>\n",
       "      <td>...</td>\n",
       "      <td>...</td>\n",
       "      <td>...</td>\n",
       "      <td>...</td>\n",
       "    </tr>\n",
       "    <tr>\n",
       "      <td>4314</td>\n",
       "      <td>166411</td>\n",
       "      <td>31.0</td>\n",
       "      <td>Male</td>\n",
       "      <td>White (HUD)</td>\n",
       "    </tr>\n",
       "    <tr>\n",
       "      <td>4315</td>\n",
       "      <td>198376</td>\n",
       "      <td>39.0</td>\n",
       "      <td>Male</td>\n",
       "      <td>White (HUD)</td>\n",
       "    </tr>\n",
       "    <tr>\n",
       "      <td>4316</td>\n",
       "      <td>1004266</td>\n",
       "      <td>59.0</td>\n",
       "      <td>Male</td>\n",
       "      <td>Black or African American (HUD)</td>\n",
       "    </tr>\n",
       "    <tr>\n",
       "      <td>4317</td>\n",
       "      <td>407506</td>\n",
       "      <td>22.0</td>\n",
       "      <td>Male</td>\n",
       "      <td>Black or African American (HUD)</td>\n",
       "    </tr>\n",
       "    <tr>\n",
       "      <td>4318</td>\n",
       "      <td>429149</td>\n",
       "      <td>52.0</td>\n",
       "      <td>Female</td>\n",
       "      <td>Black or African American (HUD)</td>\n",
       "    </tr>\n",
       "  </tbody>\n",
       "</table>\n",
       "<p>4319 rows × 4 columns</p>\n",
       "</div>"
      ],
      "text/plain": [
       "      Client ID  Client Age at Entry Client Gender  \\\n",
       "0        397941                 60.0        Female   \n",
       "1        130335                 48.0        Female   \n",
       "2        188933                 42.0        Female   \n",
       "3        168290                 57.0          Male   \n",
       "4        123122                 51.0          Male   \n",
       "...         ...                  ...           ...   \n",
       "4314     166411                 31.0          Male   \n",
       "4315     198376                 39.0          Male   \n",
       "4316    1004266                 59.0          Male   \n",
       "4317     407506                 22.0          Male   \n",
       "4318     429149                 52.0        Female   \n",
       "\n",
       "                  Client Primary Race  \n",
       "0                         White (HUD)  \n",
       "1     Black or African American (HUD)  \n",
       "2     Black or African American (HUD)  \n",
       "3                         White (HUD)  \n",
       "4                         White (HUD)  \n",
       "...                               ...  \n",
       "4314                      White (HUD)  \n",
       "4315                      White (HUD)  \n",
       "4316  Black or African American (HUD)  \n",
       "4317  Black or African American (HUD)  \n",
       "4318  Black or African American (HUD)  \n",
       "\n",
       "[4319 rows x 4 columns]"
      ]
     },
     "execution_count": 1761,
     "metadata": {},
     "output_type": "execute_result"
    }
   ],
   "source": [
    "#Client ID and Client Unique ID appear to have same counts, so we will remove Client Unique ID and only use Client ID in our analysis.\n",
    "#EE UID appear to be totally unique for each entry, so not very useful for our analysis. We will remove that column.\n",
    "#We will also remove Client Age at Exit and instead leave Duration to give same information.\n",
    "client_SESH=client[client['EE Provider ID']=='SESH']\n",
    "client_SESH = client_SESH.drop([\"Duration\",\"Client Veteran Status\",\"Client Ethnicity\",\"EE Provider ID\", \"EE UID\", \"Client Unique ID\", \"Client Age at Exit\"], axis=1)\n",
    "client_SESH"
   ]
  },
  {
   "cell_type": "code",
   "execution_count": 1762,
   "metadata": {},
   "outputs": [],
   "source": [
    "dis_ent = pd.read_csv('data/DISABILITY_ENTRY_191102.tsv', sep = '\t')"
   ]
  },
  {
   "cell_type": "code",
   "execution_count": 1763,
   "metadata": {},
   "outputs": [],
   "source": [
    "dis_ent.loc[dis_ent['EE Provider ID'] == 'Urban Ministries of Durham - Durham County - Singles Emergency Shelter - Private(5838)','EE Provider ID'] = 'SESH'\n",
    "dis_ent.loc[dis_ent['EE Provider ID'] == 'XXXClosed2015 Urban Ministries of Durham- Durham County- Journey Entry- ESG(1970)','EE Provider ID'] = 'JENT'\n",
    "dis_ent.loc[dis_ent['EE Provider ID'] == 'XXXClosed2015 Urban Ministries of Durham- Durham County- Journey Forward- ESG(5694)','EE Provider ID'] = 'JFOR'\n",
    "dis_ent.loc[dis_ent['EE Provider ID'] == 'XXXClosed2015 Urban Ministries of Durham- Durham County- Journey Outreach- ESG(4515)','EE Provider ID'] = 'JOUT'\n",
    "dis_ent.loc[dis_ent['EE Provider ID'] == 'XXXClosed2015 Urban Ministries of Durham- Durham County- Journey Recovery- ESG(1932)','EE Provider ID'] = 'JREC'\n",
    "dis_ent.loc[dis_ent['EE Provider ID'] == 'XXXClosed2015 Urban Ministries of Durham- Durham County- Journey Tech- ESG(4516)','EE Provider ID'] = 'JTEC'\n",
    "dis_ent.loc[dis_ent['EE Provider ID'] == 'XXXClosed2015 Urban Ministries of Durham- Durham County- Journey Veterans- ESG(5069)','EE Provider ID'] = 'JVET'"
   ]
  },
  {
   "cell_type": "code",
   "execution_count": 1764,
   "metadata": {},
   "outputs": [],
   "source": [
    "dis_ex = pd.read_csv('data/DISABILITY_EXIT_191102.tsv', sep = '\t')"
   ]
  },
  {
   "cell_type": "code",
   "execution_count": 1765,
   "metadata": {},
   "outputs": [],
   "source": [
    "dis_ex.loc[dis_ex['EE Provider ID'] == 'Urban Ministries of Durham - Durham County - Singles Emergency Shelter - Private(5838)','EE Provider ID'] = 'SESH'\n",
    "dis_ex.loc[dis_ex['EE Provider ID'] == 'XXXClosed2015 Urban Ministries of Durham- Durham County- Journey Entry- ESG(1970)','EE Provider ID'] = 'JENT'\n",
    "dis_ex.loc[dis_ex['EE Provider ID'] == 'XXXClosed2015 Urban Ministries of Durham- Durham County- Journey Forward- ESG(5694)','EE Provider ID'] = 'JFOR'\n",
    "dis_ex.loc[dis_ex['EE Provider ID'] == 'XXXClosed2015 Urban Ministries of Durham- Durham County- Journey Outreach- ESG(4515)','EE Provider ID'] = 'JOUT'\n",
    "dis_ex.loc[dis_ex['EE Provider ID'] == 'XXXClosed2015 Urban Ministries of Durham- Durham County- Journey Recovery- ESG(1932)','EE Provider ID'] = 'JREC'\n",
    "dis_ex.loc[dis_ex['EE Provider ID'] == 'XXXClosed2015 Urban Ministries of Durham- Durham County- Journey Tech- ESG(4516)','EE Provider ID'] = 'JTEC'\n",
    "dis_ex.loc[dis_ex['EE Provider ID'] == 'XXXClosed2015 Urban Ministries of Durham- Durham County- Journey Veterans- ESG(5069)','EE Provider ID'] = 'JVET'"
   ]
  },
  {
   "cell_type": "code",
   "execution_count": 1766,
   "metadata": {},
   "outputs": [
    {
     "data": {
      "text/plain": [
       "Mental Health Problem (HUD)          5324\n",
       "Physical (HUD)                       5128\n",
       "Chronic Health Condition (HUD)       5110\n",
       "Both Alcohol and Drug Abuse (HUD)    5085\n",
       "Drug Abuse (HUD)                     5076\n",
       "HIV/AIDS (HUD)                       5061\n",
       "Developmental (HUD)                  5048\n",
       "Alcohol Abuse (HUD)                  5035\n",
       "Physical/Medical                      501\n",
       "Dual Diagnosis                          6\n",
       "Other                                   6\n",
       "Vision Impaired                         3\n",
       "Other: Learning                         3\n",
       "Hearing Impaired                        2\n",
       "Other: Speech                           2\n",
       "Name: Disability Type (Entry), dtype: int64"
      ]
     },
     "execution_count": 1766,
     "metadata": {},
     "output_type": "execute_result"
    }
   ],
   "source": [
    "dis_ent_discount=dis_ent['Disability Type (Entry)'].value_counts()\n",
    "dis_ent_discount"
   ]
  },
  {
   "cell_type": "code",
   "execution_count": 1767,
   "metadata": {},
   "outputs": [
    {
     "data": {
      "text/plain": [
       "Mental Health Problem (HUD)          5389\n",
       "Physical (HUD)                       5200\n",
       "Chronic Health Condition (HUD)       5178\n",
       "Both Alcohol and Drug Abuse (HUD)    5153\n",
       "Drug Abuse (HUD)                     5151\n",
       "HIV/AIDS (HUD)                       5128\n",
       "Developmental (HUD)                  5117\n",
       "Alcohol Abuse (HUD)                  5105\n",
       "Physical/Medical                      501\n",
       "Dual Diagnosis                          6\n",
       "Other                                   6\n",
       "Vision Impaired                         3\n",
       "Other: Learning                         3\n",
       "Hearing Impaired                        2\n",
       "Other: Speech                           2\n",
       "Name: Disability Type (Exit), dtype: int64"
      ]
     },
     "execution_count": 1767,
     "metadata": {},
     "output_type": "execute_result"
    }
   ],
   "source": [
    "dis_ex['Disability Type (Exit)'].value_counts()\n",
    "#Entry and exit disability counts are very similar"
   ]
  },
  {
   "cell_type": "code",
   "execution_count": 1768,
   "metadata": {},
   "outputs": [
    {
     "data": {
      "text/plain": [
       "7/18/2015     2543\n",
       "7/17/2015     1384\n",
       "12/28/2015    1374\n",
       "12/22/2015    1055\n",
       "7/16/2015      787\n",
       "              ... \n",
       "1/8/2015         1\n",
       "12/15/2009       1\n",
       "8/11/2011        1\n",
       "4/18/2016        1\n",
       "1/9/2015         1\n",
       "Name: Date Added (417-date_added), Length: 959, dtype: int64"
      ]
     },
     "execution_count": 1768,
     "metadata": {},
     "output_type": "execute_result"
    }
   ],
   "source": [
    "dis_ent['Date Added (417-date_added)'].value_counts()\n",
    "#Date added looks heavily skewed to a few dates, likely due to moving over data from other source. Not very useful for this analysis."
   ]
  },
  {
   "cell_type": "code",
   "execution_count": 1769,
   "metadata": {},
   "outputs": [
    {
     "data": {
      "text/plain": [
       "No (HUD)                     36275\n",
       "Yes (HUD)                     4934\n",
       "Client doesn't know (HUD)       37\n",
       "Data not collected (HUD)        11\n",
       "Name: Disability Determination (Entry), dtype: int64"
      ]
     },
     "execution_count": 1769,
     "metadata": {},
     "output_type": "execute_result"
    }
   ],
   "source": [
    "dis_ent['Disability Determination (Entry)'].value_counts()"
   ]
  },
  {
   "cell_type": "code",
   "execution_count": 1770,
   "metadata": {},
   "outputs": [],
   "source": [
    "#Appears to be little difference in disabilities between Entry and Exit (likely due to short time period)\n",
    "#We will limit analysis to disability status at entry\n",
    "del(dis_ex)\n",
    "dis_ent_SESH = dis_ent[dis_ent['EE Provider ID']=='SESH']\n",
    "dis_ent_SESH=dis_ent_SESH[['Client ID', 'Disability Determination (Entry)', 'Disability Type (Entry)']]"
   ]
  },
  {
   "cell_type": "code",
   "execution_count": 1771,
   "metadata": {},
   "outputs": [],
   "source": [
    "ee_ud = pd.read_csv('data/EE_UDES_191102.tsv', sep = '\t')"
   ]
  },
  {
   "cell_type": "code",
   "execution_count": 1772,
   "metadata": {},
   "outputs": [],
   "source": [
    "ee_ud.loc[ee_ud['EE Provider ID'] == 'Urban Ministries of Durham - Durham County - Singles Emergency Shelter - Private(5838)','EE Provider ID'] = 'SESH'\n",
    "ee_ud.loc[ee_ud['EE Provider ID'] == 'XXXClosed2015 Urban Ministries of Durham- Durham County- Journey Entry- ESG(1970)','EE Provider ID'] = 'JENT'\n",
    "ee_ud.loc[ee_ud['EE Provider ID'] == 'XXXClosed2015 Urban Ministries of Durham- Durham County- Journey Forward- ESG(5694)','EE Provider ID'] = 'JFOR'\n",
    "ee_ud.loc[ee_ud['EE Provider ID'] == 'XXXClosed2015 Urban Ministries of Durham- Durham County- Journey Outreach- ESG(4515)','EE Provider ID'] = 'JOUT'\n",
    "ee_ud.loc[ee_ud['EE Provider ID'] == 'XXXClosed2015 Urban Ministries of Durham- Durham County- Journey Recovery- ESG(1932)','EE Provider ID'] = 'JREC'\n",
    "ee_ud.loc[ee_ud['EE Provider ID'] == 'XXXClosed2015 Urban Ministries of Durham- Durham County- Journey Tech- ESG(4516)','EE Provider ID'] = 'JTEC'\n",
    "ee_ud.loc[ee_ud['EE Provider ID'] == 'XXXClosed2015 Urban Ministries of Durham- Durham County- Journey Veterans- ESG(5069)','EE Provider ID'] = 'JVET'"
   ]
  },
  {
   "cell_type": "code",
   "execution_count": 1773,
   "metadata": {},
   "outputs": [
    {
     "data": {
      "text/plain": [
       "NC-502 Durham City and County CoC          5201\n",
       "NC-505 Charlotte/Mecklenburg County CoC       5\n",
       "NC-507 Raleigh/Wake County CoC                1\n",
       "NC-503 NC Balance of State CoC                1\n",
       "Name: Client Location(4378), dtype: int64"
      ]
     },
     "execution_count": 1773,
     "metadata": {},
     "output_type": "execute_result"
    }
   ],
   "source": [
    "ee_ud['Client Location(4378)'].value_counts()\n",
    "#almost all of Client Locatin Values are Durham City and County CoC"
   ]
  },
  {
   "cell_type": "code",
   "execution_count": 1774,
   "metadata": {},
   "outputs": [
    {
     "data": {
      "text/plain": [
       "Self (head of household)                                                           5185\n",
       "Head of household's child                                                             2\n",
       "Head of household's spouse or partner                                                 2\n",
       "Head of household's other relation member (other relation to head of household)       1\n",
       "Name: Relationship to Head of Household(4374), dtype: int64"
      ]
     },
     "execution_count": 1774,
     "metadata": {},
     "output_type": "execute_result"
    }
   ],
   "source": [
    "ee_ud['Relationship to Head of Household(4374)'].value_counts()\n",
    "#almost all of Relationship to Head of Household are Self"
   ]
  },
  {
   "cell_type": "code",
   "execution_count": 1775,
   "metadata": {},
   "outputs": [
    {
     "data": {
      "text/plain": [
       "Place not meant for habitation (HUD)                                                                  1469\n",
       "Emergency shelter, incl. hotel/motel paid for w/ ES voucher, or RHY-funded Host Home shelter (HUD)     891\n",
       "Staying or living in a family member's room, apartment or house (HUD)                                  804\n",
       "Staying or living in a friend's room, apartment or house (HUD)                                         730\n",
       "Rental by client, no ongoing housing subsidy (HUD)                                                     271\n",
       "Hotel or motel paid for without emergency shelter voucher (HUD)                                        225\n",
       "Jail, prison or juvenile detention facility (HUD)                                                      216\n",
       "Hospital or other residential non-psychiatric medical facility (HUD)                                   147\n",
       "Transitional housing for homeless persons (including homeless youth) (HUD)                             124\n",
       "Substance abuse treatment facility or detox center (HUD)                                                94\n",
       "Safe Haven (HUD)                                                                                        55\n",
       "Psychiatric hospital or other psychiatric facility (HUD)                                                39\n",
       "Residential project or halfway house with no homeless criteria (HUD)                                    36\n",
       "Rental by client, with other ongoing housing subsidy (HUD)                                              34\n",
       "Owned by client, no ongoing housing subsidy (HUD)                                                       23\n",
       "Permanent housing (other than RRH) for formerly homeless persons (HUD)                                  15\n",
       "Rental by client, with VASH housing subsidy (HUD)                                                        8\n",
       "Foster care home or foster care group home (HUD)                                                         8\n",
       "Interim Housing (HUD) (Retired)                                                                          7\n",
       "Data not collected (HUD)                                                                                 7\n",
       "Client doesn't know (HUD)                                                                                7\n",
       "Other (HUD)                                                                                              6\n",
       "Long-term care facility or nursing home (HUD)                                                            5\n",
       "Owned by client, with ongoing housing subsidy (HUD)                                                      3\n",
       "Client refused (HUD)                                                                                     2\n",
       "Rental by client, with GPD TIP housing subsidy (HUD)                                                     1\n",
       "Rental by client in a public housing unit (HUD)                                                          1\n",
       "Name: Prior Living Situation(43), dtype: int64"
      ]
     },
     "execution_count": 1775,
     "metadata": {},
     "output_type": "execute_result"
    }
   ],
   "source": [
    "ee_ud['Prior Living Situation(43)'].value_counts()\n",
    "#This variable is interesting, with large number of entries for many different values. We will keep it for analysis."
   ]
  },
  {
   "cell_type": "code",
   "execution_count": 1776,
   "metadata": {},
   "outputs": [
    {
     "data": {
      "text/plain": [
       "One year or longer (HUD)                     1168\n",
       "90 days or more, but less than one year      1117\n",
       "One month or more, but less than 90 days     1019\n",
       "One week or more, but less than one month     885\n",
       "Two to six nights                             611\n",
       "One night or less                             337\n",
       "One week or less (HUD)                         73\n",
       "Data not collected (HUD)                       12\n",
       "Client doesn't know (HUD)                       2\n",
       "Client refused (HUD)                            2\n",
       "Name: Length of Stay in Previous Place(1934), dtype: int64"
      ]
     },
     "execution_count": 1776,
     "metadata": {},
     "output_type": "execute_result"
    }
   ],
   "source": [
    "ee_ud['Length of Stay in Previous Place(1934)'].value_counts()\n",
    "#This variable is also interesting, with large number of entries for many different values. We will keep it for analysis."
   ]
  },
  {
   "cell_type": "code",
   "execution_count": 1777,
   "metadata": {},
   "outputs": [
    {
     "data": {
      "text/plain": [
       "Yes    10\n",
       "No      4\n",
       "Name: On the night before did you stay on the streets, ES or SH?(5165), dtype: int64"
      ]
     },
     "execution_count": 1777,
     "metadata": {},
     "output_type": "execute_result"
    }
   ],
   "source": [
    "ee_ud['On the night before did you stay on the streets, ES or SH?(5165)'].value_counts()\n",
    "#This variable has NA value for nearly all, so not worth including."
   ]
  },
  {
   "cell_type": "code",
   "execution_count": 1778,
   "metadata": {},
   "outputs": [
    {
     "data": {
      "text/plain": [
       "Four or more times (HUD)     1795\n",
       "One time (HUD)               1730\n",
       "Two times (HUD)               920\n",
       "Three times (HUD)             541\n",
       "Data not collected (HUD)       15\n",
       "Client doesn't know (HUD)       8\n",
       "Client refused (HUD)            4\n",
       "Name: Regardless of where they stayed last night - Number of times the client has been on the streets, in ES, or SH in the past three years including today(5167), dtype: int64"
      ]
     },
     "execution_count": 1778,
     "metadata": {},
     "output_type": "execute_result"
    }
   ],
   "source": [
    "ee_ud['Regardless of where they stayed last night - Number of times the client has been on the streets, in ES, or SH in the past three years including today(5167)'].value_counts()\n",
    "#This variable has some interesting information, so worth including. Probably should change the label though."
   ]
  },
  {
   "cell_type": "code",
   "execution_count": 1779,
   "metadata": {},
   "outputs": [
    {
     "data": {
      "text/plain": [
       "More than 12 months (HUD)                         1898\n",
       "One month (this time is the first month) (HUD)    1168\n",
       "Data not collected (HUD)                           742\n",
       "2                                                  325\n",
       "3                                                  198\n",
       "6                                                  153\n",
       "4                                                  124\n",
       "5                                                   84\n",
       "8                                                   75\n",
       "12                                                  69\n",
       "9                                                   47\n",
       "7                                                   43\n",
       "10                                                  39\n",
       "Client doesn't know (HUD)                           22\n",
       "11                                                  21\n",
       "Client refused (HUD)                                 4\n",
       "Name: Total number of months homeless on the street, in ES or SH in the past three years(5168), dtype: int64"
      ]
     },
     "execution_count": 1779,
     "metadata": {},
     "output_type": "execute_result"
    }
   ],
   "source": [
    "ee_ud['Total number of months homeless on the street, in ES or SH in the past three years(5168)'].value_counts()\n",
    "#This variable also has interesting info and is worth keeping and changing label."
   ]
  },
  {
   "cell_type": "code",
   "execution_count": 1780,
   "metadata": {},
   "outputs": [
    {
     "data": {
      "text/plain": [
       "Category 1 - Homeless (HUD)                                      4608\n",
       "Stably housed (HUD)                                                60\n",
       "Category 2 - At imminent risk of losing housing (HUD)              42\n",
       "At-risk of homelessness (HUD)                                      16\n",
       "Client doesn't know (HUD)                                           4\n",
       "Client refused (HUD)                                                2\n",
       "Category 3 - Homeless only under other federal statutes (HUD)       1\n",
       "Name: Housing Status(2703), dtype: int64"
      ]
     },
     "execution_count": 1780,
     "metadata": {},
     "output_type": "execute_result"
    }
   ],
   "source": [
    "ee_ud['Housing Status(2703)'].value_counts()\n",
    "#This variable is almost entirely Category 1, so not best to keep for analysis."
   ]
  },
  {
   "cell_type": "code",
   "execution_count": 1781,
   "metadata": {},
   "outputs": [
    {
     "data": {
      "text/plain": [
       "Yes (HUD)                    3000\n",
       "No (HUD)                     2219\n",
       "Client doesn't know (HUD)       3\n",
       "Client refused (HUD)            2\n",
       "Data not collected (HUD)        1\n",
       "Name: Does the client have a disabling condition?(1935), dtype: int64"
      ]
     },
     "execution_count": 1781,
     "metadata": {},
     "output_type": "execute_result"
    }
   ],
   "source": [
    "ee_ud['Does the client have a disabling condition?(1935)'].value_counts()\n",
    "#This variable is worth keeping for now, with close to even numbers for Yes and No"
   ]
  },
  {
   "cell_type": "code",
   "execution_count": 1782,
   "metadata": {},
   "outputs": [
    {
     "data": {
      "text/plain": [
       "No (HUD)                     3135\n",
       "Yes (HUD)                    1969\n",
       "Client doesn't know (HUD)      11\n",
       "Data not collected (HUD)        5\n",
       "Client refused (HUD)            2\n",
       "Name: Covered by Health Insurance(4376), dtype: int64"
      ]
     },
     "execution_count": 1782,
     "metadata": {},
     "output_type": "execute_result"
    }
   ],
   "source": [
    "ee_ud['Covered by Health Insurance(4376)'].value_counts()\n",
    "#This variable is also worth keeping for now, with large numbers for both Yes and No"
   ]
  },
  {
   "cell_type": "code",
   "execution_count": 1783,
   "metadata": {},
   "outputs": [
    {
     "data": {
      "text/plain": [
       "No (HUD)                     4710\n",
       "Yes (HUD)                     497\n",
       "Client doesn't know (HUD)      10\n",
       "Client refused (HUD)            1\n",
       "Name: Domestic violence victim/survivor(341), dtype: int64"
      ]
     },
     "execution_count": 1783,
     "metadata": {},
     "output_type": "execute_result"
    }
   ],
   "source": [
    "ee_ud['Domestic violence victim/survivor(341)'].value_counts()\n",
    "#Over 10% answered yes, significant enough to keep this variable for now."
   ]
  },
  {
   "cell_type": "code",
   "execution_count": 1784,
   "metadata": {},
   "outputs": [
    {
     "data": {
      "text/plain": [
       "More than a year ago (HUD)             225\n",
       "Within the past three months (HUD)     134\n",
       "Three to six months ago (HUD)           48\n",
       "From six to twelve months ago (HUD)     38\n",
       "Data not collected (HUD)                27\n",
       "Client refused (HUD)                     7\n",
       "Client doesn't know (HUD)                4\n",
       "Name: If yes for Domestic violence victim/survivor, when experience occurred(1917), dtype: int64"
      ]
     },
     "execution_count": 1784,
     "metadata": {},
     "output_type": "execute_result"
    }
   ],
   "source": [
    "ee_ud['If yes for Domestic violence victim/survivor, when experience occurred(1917)'].value_counts()\n",
    "#Considering this subset is already small, and the largest portion are from more than a year ago, we can take out this variable"
   ]
  },
  {
   "cell_type": "code",
   "execution_count": 1785,
   "metadata": {},
   "outputs": [
    {
     "data": {
      "text/plain": [
       "Emergency Shelter (HUD)    5299\n",
       "Name: Entry Exit Provider Program Type Code, dtype: int64"
      ]
     },
     "execution_count": 1785,
     "metadata": {},
     "output_type": "execute_result"
    }
   ],
   "source": [
    "ee_ud['Entry Exit Provider Program Type Code'].value_counts()\n",
    "#Only one value for this variable, so nothing to analyze"
   ]
  },
  {
   "cell_type": "code",
   "execution_count": 1786,
   "metadata": {},
   "outputs": [
    {
     "data": {
      "text/plain": [
       "27701    1579\n",
       "27703     655\n",
       "27707     339\n",
       "27704     245\n",
       "27705     212\n",
       "         ... \n",
       "15203       1\n",
       "11236       1\n",
       "30088       1\n",
       "34953       1\n",
       "20305       1\n",
       "Name: Zip Code (of Last Permanent Address, if known)(1932), Length: 440, dtype: int64"
      ]
     },
     "execution_count": 1786,
     "metadata": {},
     "output_type": "execute_result"
    }
   ],
   "source": [
    "ee_ud['Zip Code (of Last Permanent Address, if known)(1932)'].value_counts()\n",
    "#This can be removed, not likely to be useful for analysis"
   ]
  },
  {
   "cell_type": "code",
   "execution_count": 1787,
   "metadata": {},
   "outputs": [],
   "source": [
    "ee_ud_SESH = ee_ud[ee_ud['EE Provider ID']=='SESH']\n",
    "ee_ud_SESH=ee_ud_SESH.drop(['If yes for Domestic violence victim/survivor, when experience occurred(1917)','Date of Birth(893)','Zip Code (of Last Permanent Address, if known)(1932)','EE Provider ID','Entry Exit Provider Program Type Code','EE UID','Client Unique ID','Client Location(4378)','Relationship to Head of Household(4374)','On the night before did you stay on the streets, ES or SH?(5165)','Housing Status(2703)','Did you stay less than 7 nights?(5164)','Did you stay less than 90 days?(5163)'], axis=1)\n",
    "del(ee_ud)"
   ]
  },
  {
   "cell_type": "code",
   "execution_count": 1788,
   "metadata": {},
   "outputs": [],
   "source": [
    "noncash_ent = pd.read_csv('data/NONCASH_ENTRY_191102.tsv', sep = '\t')"
   ]
  },
  {
   "cell_type": "code",
   "execution_count": 1789,
   "metadata": {},
   "outputs": [],
   "source": [
    "noncash_ent.loc[noncash_ent['EE Provider ID'] == 'Urban Ministries of Durham - Durham County - Singles Emergency Shelter - Private(5838)','EE Provider ID'] = 'SESH'\n",
    "noncash_ent.loc[noncash_ent['EE Provider ID'] == 'XXXClosed2015 Urban Ministries of Durham- Durham County- Journey Entry- ESG(1970)','EE Provider ID'] = 'JENT'\n",
    "noncash_ent.loc[noncash_ent['EE Provider ID'] == 'XXXClosed2015 Urban Ministries of Durham- Durham County- Journey Forward- ESG(5694)','EE Provider ID'] = 'JFOR'\n",
    "noncash_ent.loc[noncash_ent['EE Provider ID'] == 'XXXClosed2015 Urban Ministries of Durham- Durham County- Journey Outreach- ESG(4515)','EE Provider ID'] = 'JOUT'\n",
    "noncash_ent.loc[noncash_ent['EE Provider ID'] == 'XXXClosed2015 Urban Ministries of Durham- Durham County- Journey Recovery- ESG(1932)','EE Provider ID'] = 'JREC'\n",
    "noncash_ent.loc[noncash_ent['EE Provider ID'] == 'XXXClosed2015 Urban Ministries of Durham- Durham County- Journey Tech- ESG(4516)','EE Provider ID'] = 'JTEC'\n",
    "noncash_ent.loc[noncash_ent['EE Provider ID'] == 'XXXClosed2015 Urban Ministries of Durham- Durham County- Journey Veterans- ESG(5069)','EE Provider ID'] = 'JVET'"
   ]
  },
  {
   "cell_type": "code",
   "execution_count": 1790,
   "metadata": {},
   "outputs": [
    {
     "data": {
      "text/plain": [
       "Supplemental Nutrition Assistance Program (Food Stamps) (HUD)          5279\n",
       "TANF Child Care Services (HUD)                                         4949\n",
       "TANF Transportation Services (HUD)                                     4948\n",
       "Other TANF-Funded Services (HUD)                                       4948\n",
       "Special Supplemental Nutrition Program for WIC (HUD)                   4948\n",
       "Other Source (HUD)                                                     4947\n",
       "Section 8, Public Housing, or other ongoing rental assistance (HUD)    3931\n",
       "Temporary rental assistance (HUD)                                      3931\n",
       "Name: Non-Cash Source (Entry), dtype: int64"
      ]
     },
     "execution_count": 1790,
     "metadata": {},
     "output_type": "execute_result"
    }
   ],
   "source": [
    "noncash_ent['Non-Cash Source (Entry)'].value_counts()\n",
    "#Worth keeping"
   ]
  },
  {
   "cell_type": "code",
   "execution_count": 1791,
   "metadata": {},
   "outputs": [],
   "source": [
    "noncash_ent_SESH = noncash_ent[noncash_ent['EE Provider ID']=='SESH']\n",
    "noncash_ent_SESH=noncash_ent_SESH[['Client ID', 'Non-Cash Source (Entry)']]\n",
    "del(noncash_ent)"
   ]
  },
  {
   "cell_type": "code",
   "execution_count": 1792,
   "metadata": {},
   "outputs": [],
   "source": [
    "entex=pd.read_csv('data/ENTRY_EXIT_191102.tsv', sep = '\t')"
   ]
  },
  {
   "cell_type": "code",
   "execution_count": 1793,
   "metadata": {},
   "outputs": [],
   "source": [
    "entex.loc[entex['EE Provider ID'] == 'Urban Ministries of Durham - Durham County - Singles Emergency Shelter - Private(5838)','EE Provider ID'] = 'SESH'\n",
    "entex=entex[entex['EE Provider ID']=='SESH']"
   ]
  },
  {
   "cell_type": "code",
   "execution_count": 1794,
   "metadata": {},
   "outputs": [],
   "source": [
    "ee=entex[['Client ID','Entry Date','Exit Date','Destination','Reason for Leaving']]"
   ]
  },
  {
   "cell_type": "code",
   "execution_count": 1795,
   "metadata": {},
   "outputs": [
    {
     "name": "stdout",
     "output_type": "stream",
     "text": [
      "['Completed program' 'Needs could not be met' 'Other'\n",
      " 'Left for housing opp. before completing program' 'Unknown/Disappeared'\n",
      " 'Reached maximum time allowed' 'Criminal activity / violence'\n",
      " 'Disagreement with rules/persons' 'Non-compliance with program'\n",
      " 'Does not or no longer qualifies for program' 'Death' nan\n",
      " 'z-Left before completing program (not a HUD answer)']\n"
     ]
    }
   ],
   "source": [
    "print(ee['Reason for Leaving'].unique())"
   ]
  },
  {
   "cell_type": "code",
   "execution_count": 1796,
   "metadata": {},
   "outputs": [],
   "source": [
    "umd = client_SESH.merge(ee_ud_SESH, on='Client ID', how='left')\n",
    "umd = umd.merge(ee, on = 'Client ID', how='left')"
   ]
  },
  {
   "cell_type": "code",
   "execution_count": 1797,
   "metadata": {},
   "outputs": [],
   "source": [
    "#Rename columns to facilitate analysis"
   ]
  },
  {
   "cell_type": "code",
   "execution_count": 1798,
   "metadata": {},
   "outputs": [],
   "source": [
    "umd=umd.rename(columns={'Regardless of where they stayed last night - Number of times the client has been on the streets, in ES, or SH in the past three years including today(5167)':'Recent_Times_Homeless'})"
   ]
  },
  {
   "cell_type": "code",
   "execution_count": 1799,
   "metadata": {},
   "outputs": [],
   "source": [
    "umd=umd.rename(columns={'Client ID':'ID'})"
   ]
  },
  {
   "cell_type": "code",
   "execution_count": 1800,
   "metadata": {},
   "outputs": [],
   "source": [
    "umd=umd.rename(columns={'Client Age at Entry':'Entry_Age'})"
   ]
  },
  {
   "cell_type": "code",
   "execution_count": 1801,
   "metadata": {},
   "outputs": [],
   "source": [
    "umd=umd.rename(columns={'Client Gender':'Gender'})"
   ]
  },
  {
   "cell_type": "code",
   "execution_count": 1802,
   "metadata": {},
   "outputs": [],
   "source": [
    "umd=umd.rename(columns={'Client Primary Race':'Race'})"
   ]
  },
  {
   "cell_type": "code",
   "execution_count": 1803,
   "metadata": {},
   "outputs": [],
   "source": [
    "umd=umd.rename(columns={'Prior Living Situation(43)':'Prior_Living'})"
   ]
  },
  {
   "cell_type": "code",
   "execution_count": 1804,
   "metadata": {},
   "outputs": [],
   "source": [
    "umd=umd.rename(columns={'Length of Stay in Previous Place(1934)':'Prior_Living_Time'})"
   ]
  },
  {
   "cell_type": "code",
   "execution_count": 1805,
   "metadata": {},
   "outputs": [],
   "source": [
    "umd=umd.rename(columns={'Total number of months homeless on the street, in ES or SH in the past three years(5168)':'Recent_Months_Homeless'})"
   ]
  },
  {
   "cell_type": "code",
   "execution_count": 1806,
   "metadata": {},
   "outputs": [],
   "source": [
    "umd=umd.rename(columns={'Does the client have a disabling condition?(1935)':'Disability'})"
   ]
  },
  {
   "cell_type": "code",
   "execution_count": 1807,
   "metadata": {},
   "outputs": [],
   "source": [
    "umd=umd.rename(columns={'Covered by Health Insurance(4376)':'Health_Insurance'})"
   ]
  },
  {
   "cell_type": "code",
   "execution_count": 1808,
   "metadata": {},
   "outputs": [],
   "source": [
    "umd=umd.rename(columns={'Domestic violence victim/survivor(341)':'Domestic_Violence'})"
   ]
  },
  {
   "cell_type": "code",
   "execution_count": 1809,
   "metadata": {},
   "outputs": [],
   "source": [
    "#Shorten variable entries"
   ]
  },
  {
   "cell_type": "code",
   "execution_count": 1810,
   "metadata": {},
   "outputs": [
    {
     "name": "stdout",
     "output_type": "stream",
     "text": [
      "['Female' 'Male' 'Trans Female (MTF or Male to Female)']\n"
     ]
    }
   ],
   "source": [
    "print(umd['Gender'].unique())"
   ]
  },
  {
   "cell_type": "code",
   "execution_count": 1811,
   "metadata": {},
   "outputs": [],
   "source": [
    "umd.loc[umd['Gender'] == 'Trans Female (MTF or Male to Female)'] = 'Trans Female'"
   ]
  },
  {
   "cell_type": "code",
   "execution_count": 1812,
   "metadata": {},
   "outputs": [
    {
     "name": "stdout",
     "output_type": "stream",
     "text": [
      "['White (HUD)' 'Black or African American (HUD)'\n",
      " 'American Indian or Alaska Native (HUD)' 'Trans Female' 'Asian (HUD)'\n",
      " 'Native Hawaiian or Other Pacific Islander (HUD)'\n",
      " \"Client doesn't know (HUD)\" 'Data not collected (HUD)'\n",
      " 'Client refused (HUD)']\n"
     ]
    }
   ],
   "source": [
    "print(umd['Race'].unique())"
   ]
  },
  {
   "cell_type": "code",
   "execution_count": 1813,
   "metadata": {},
   "outputs": [],
   "source": [
    "umd.loc[umd['Race'] == 'White (HUD)','Race'] = 'White'"
   ]
  },
  {
   "cell_type": "code",
   "execution_count": 1814,
   "metadata": {},
   "outputs": [],
   "source": [
    "umd.loc[umd['Race'] == 'Black or African American (HUD)','Race'] = 'Black/AA'"
   ]
  },
  {
   "cell_type": "code",
   "execution_count": 1815,
   "metadata": {},
   "outputs": [],
   "source": [
    "umd.loc[umd['Race'] == '1','Race'] = 'Black/AA'"
   ]
  },
  {
   "cell_type": "code",
   "execution_count": 1816,
   "metadata": {},
   "outputs": [],
   "source": [
    "umd.loc[umd['Race'] == 'American Indian or Alaska Native','Race'] = 'Am Indian/Alaskan'"
   ]
  },
  {
   "cell_type": "code",
   "execution_count": 1817,
   "metadata": {},
   "outputs": [],
   "source": [
    "umd.loc[umd['Race'] == 'Asian (HUD)','Race'] = 'Asian'"
   ]
  },
  {
   "cell_type": "code",
   "execution_count": 1818,
   "metadata": {},
   "outputs": [],
   "source": [
    "umd.loc[umd['Race'] == 'Native Hawaiian or Other Pacific Islander (HUD)','Race'] = 'Hawaiian/Pacific Islander'"
   ]
  },
  {
   "cell_type": "code",
   "execution_count": 1819,
   "metadata": {},
   "outputs": [],
   "source": [
    "umd.loc[umd['Race'] == \"Client doesn't know (HUD)\",'Race'] = 'Client Unsure'"
   ]
  },
  {
   "cell_type": "code",
   "execution_count": 1820,
   "metadata": {},
   "outputs": [],
   "source": [
    "umd.loc[umd['Race'] == 'Data not collected (HUD)','Race'] = 'No Data Collected'"
   ]
  },
  {
   "cell_type": "code",
   "execution_count": 1821,
   "metadata": {},
   "outputs": [],
   "source": [
    "umd.loc[umd['Race'] == 'Client refused (HUD)','Race'] = 'Client Refused'"
   ]
  },
  {
   "cell_type": "code",
   "execution_count": 1822,
   "metadata": {},
   "outputs": [
    {
     "name": "stdout",
     "output_type": "stream",
     "text": [
      "['2' 'More than 12 months (HUD)' 'Data not collected (HUD)' '6' nan '10'\n",
      " '7' '3' '4' 'One month (this time is the first month) (HUD)' '11'\n",
      " \"Client doesn't know (HUD)\" '9' '8' 'Trans Female' '12' '5'\n",
      " 'Client refused (HUD)']\n"
     ]
    }
   ],
   "source": [
    "print(umd['Recent_Months_Homeless'].unique())"
   ]
  },
  {
   "cell_type": "code",
   "execution_count": 1823,
   "metadata": {},
   "outputs": [],
   "source": [
    "umd.loc[umd['Recent_Months_Homeless'] == 'One month (this time is the first month) (HUD)','Recent_Months_Homeless'] = '1'"
   ]
  },
  {
   "cell_type": "code",
   "execution_count": 1824,
   "metadata": {},
   "outputs": [],
   "source": [
    "umd.loc[umd['Recent_Months_Homeless'] == 'More than 12 months (HUD)','Recent_Months_Homeless'] = '12+'"
   ]
  },
  {
   "cell_type": "code",
   "execution_count": 1825,
   "metadata": {},
   "outputs": [],
   "source": [
    "umd.loc[umd['Recent_Months_Homeless'] == 'Data not collected (HUD)','Recent_Months_Homeless'] = 'NA'"
   ]
  },
  {
   "cell_type": "code",
   "execution_count": 1826,
   "metadata": {},
   "outputs": [],
   "source": [
    "umd.loc[umd['Recent_Months_Homeless'] == \"Client doesn't know (HUD)\",'Recent_Months_Homeless'] = 'DK'"
   ]
  },
  {
   "cell_type": "code",
   "execution_count": 1827,
   "metadata": {},
   "outputs": [],
   "source": [
    "umd.loc[umd['Recent_Months_Homeless'] == 'Client refused (HUD)','Recent_Months_Homeless'] = 'CR'"
   ]
  },
  {
   "cell_type": "code",
   "execution_count": 1828,
   "metadata": {},
   "outputs": [
    {
     "name": "stdout",
     "output_type": "stream",
     "text": [
      "['Two times (HUD)' 'Four or more times (HUD)' 'Three times (HUD)'\n",
      " 'One time (HUD)' nan 'Trans Female' 'Data not collected (HUD)'\n",
      " \"Client doesn't know (HUD)\" 'Client refused (HUD)']\n"
     ]
    }
   ],
   "source": [
    "print(umd['Recent_Times_Homeless'].unique())"
   ]
  },
  {
   "cell_type": "code",
   "execution_count": 1829,
   "metadata": {},
   "outputs": [],
   "source": [
    "umd.loc[umd['Recent_Times_Homeless'] == 'Two times (HUD)','Recent_Times_Homeless'] = 2"
   ]
  },
  {
   "cell_type": "code",
   "execution_count": 1830,
   "metadata": {},
   "outputs": [],
   "source": [
    "umd.loc[umd['Recent_Times_Homeless'] == 'Three times (HUD)','Recent_Times_Homeless'] = 3"
   ]
  },
  {
   "cell_type": "code",
   "execution_count": 1831,
   "metadata": {},
   "outputs": [],
   "source": [
    "umd.loc[umd['Recent_Times_Homeless'] == 'Four or more times (HUD)','Recent_Times_Homeless'] = '4+'"
   ]
  },
  {
   "cell_type": "code",
   "execution_count": 1832,
   "metadata": {},
   "outputs": [],
   "source": [
    "umd.loc[umd['Recent_Times_Homeless'] == 'One time (HUD)','Recent_Times_Homeless'] = 1"
   ]
  },
  {
   "cell_type": "code",
   "execution_count": 1833,
   "metadata": {},
   "outputs": [],
   "source": [
    "umd.loc[umd['Recent_Times_Homeless'] == 'Data not collected (HUD)','Recent_Times_Homeless'] = 'NA'"
   ]
  },
  {
   "cell_type": "code",
   "execution_count": 1834,
   "metadata": {},
   "outputs": [],
   "source": [
    "umd.loc[umd['Recent_Times_Homeless'] == \"Client doesn't know (HUD)\",'Recent_Times_Homeless'] = 'DK'"
   ]
  },
  {
   "cell_type": "code",
   "execution_count": 1835,
   "metadata": {},
   "outputs": [],
   "source": [
    "umd.loc[umd['Recent_Times_Homeless'] == 'Client refused (HUD)','Recent_Times_Homeless'] = 'CR'"
   ]
  },
  {
   "cell_type": "code",
   "execution_count": 1836,
   "metadata": {},
   "outputs": [
    {
     "name": "stdout",
     "output_type": "stream",
     "text": [
      "[\"Staying or living in a friend's room, apartment or house (HUD)\"\n",
      " \"Staying or living in a family member's room, apartment or house (HUD)\"\n",
      " 'Place not meant for habitation (HUD)'\n",
      " 'Emergency shelter, incl. hotel/motel paid for w/ ES voucher, or RHY-funded Host Home shelter (HUD)'\n",
      " 'Rental by client, with VASH housing subsidy (HUD)'\n",
      " 'Rental by client, no ongoing housing subsidy (HUD)' nan\n",
      " 'Rental by client, with other ongoing housing subsidy (HUD)'\n",
      " 'Jail, prison or juvenile detention facility (HUD)'\n",
      " 'Transitional housing for homeless persons (including homeless youth) (HUD)'\n",
      " 'Hotel or motel paid for without emergency shelter voucher (HUD)'\n",
      " 'Residential project or halfway house with no homeless criteria (HUD)'\n",
      " 'Substance abuse treatment facility or detox center (HUD)'\n",
      " 'Owned by client, with ongoing housing subsidy (HUD)'\n",
      " 'Hospital or other residential non-psychiatric medical facility (HUD)'\n",
      " 'Permanent housing (other than RRH) for formerly homeless persons (HUD)'\n",
      " \"Client doesn't know (HUD)\"\n",
      " 'Owned by client, no ongoing housing subsidy (HUD)' 'Trans Female'\n",
      " 'Other (HUD)' 'Safe Haven (HUD)' 'Data not collected (HUD)'\n",
      " 'Psychiatric hospital or other psychiatric facility (HUD)'\n",
      " 'Long-term care facility or nursing home (HUD)'\n",
      " 'Foster care home or foster care group home (HUD)'\n",
      " 'Interim Housing (HUD) (Retired)'\n",
      " 'Rental by client, with GPD TIP housing subsidy (HUD)'\n",
      " 'Client refused (HUD)' 'Rental by client in a public housing unit (HUD)']\n"
     ]
    }
   ],
   "source": [
    "print(umd['Prior_Living'].unique())"
   ]
  },
  {
   "cell_type": "code",
   "execution_count": 1837,
   "metadata": {},
   "outputs": [],
   "source": [
    "umd.loc[umd['Prior_Living'] == \"Staying or living in a friend's room, apartment or house (HUD)\",'Prior_Living'] = \"Friend Home\""
   ]
  },
  {
   "cell_type": "code",
   "execution_count": 1838,
   "metadata": {},
   "outputs": [],
   "source": [
    "umd.loc[umd['Prior_Living'] == \"Data not collected (HUD)\",'Prior_Living'] = \"Data not collected\""
   ]
  },
  {
   "cell_type": "code",
   "execution_count": 1839,
   "metadata": {},
   "outputs": [],
   "source": [
    "umd.loc[umd['Prior_Living'] == \"Staying or living in a family member's room, apartment or house (HUD)\",'Prior_Living'] = \"Family Home\""
   ]
  },
  {
   "cell_type": "code",
   "execution_count": 1840,
   "metadata": {},
   "outputs": [],
   "source": [
    "umd.loc[umd['Prior_Living'] == 'Place not meant for habitation (HUD)','Prior_Living'] = 'Place not meant for habitation'"
   ]
  },
  {
   "cell_type": "code",
   "execution_count": 1841,
   "metadata": {},
   "outputs": [],
   "source": [
    "umd.loc[umd['Prior_Living'] == \"Emergency shelter, incl. hotel/motel paid for w/ ES voucher, or RHY-funded Host Home shelter (HUD)\",'Prior_Living'] = \"Emergency shelter\""
   ]
  },
  {
   "cell_type": "code",
   "execution_count": 1842,
   "metadata": {},
   "outputs": [],
   "source": [
    "umd.loc[umd['Prior_Living'] == \"Rental by client, with VASH housing subsidy (HUD)\",'Prior_Living'] = \"VASH subsidy rental\""
   ]
  },
  {
   "cell_type": "code",
   "execution_count": 1843,
   "metadata": {},
   "outputs": [],
   "source": [
    "umd.loc[umd['Prior_Living'] == \"Rental by client, no ongoing housing subsidy (HUD)\",'Prior_Living'] = \"Rental w/o subsidy\""
   ]
  },
  {
   "cell_type": "code",
   "execution_count": 1844,
   "metadata": {},
   "outputs": [],
   "source": [
    "umd.loc[umd['Prior_Living'] == \"Rental by client, with other ongoing housing subsidy (HUD)\",'Prior_Living'] = \"Rental w/ other subsidy\""
   ]
  },
  {
   "cell_type": "code",
   "execution_count": 1845,
   "metadata": {},
   "outputs": [],
   "source": [
    "umd.loc[umd['Prior_Living'] == \"Jail, prison or juvenile detention facility (HUD)\",'Prior_Living'] = \"Incarcerated\""
   ]
  },
  {
   "cell_type": "code",
   "execution_count": 1846,
   "metadata": {},
   "outputs": [],
   "source": [
    "umd.loc[umd['Prior_Living'] == \"Transitional housing for homeless persons (including homeless youth) (HUD)\",'Prior_Living'] = \"Transitional housing\""
   ]
  },
  {
   "cell_type": "code",
   "execution_count": 1847,
   "metadata": {},
   "outputs": [],
   "source": [
    "umd.loc[umd['Prior_Living'] == \"Hotel or motel paid for without emergency shelter voucher (HUD)\",'Prior_Living'] = \"Hotel or motel\""
   ]
  },
  {
   "cell_type": "code",
   "execution_count": 1848,
   "metadata": {},
   "outputs": [],
   "source": [
    "umd.loc[umd['Prior_Living'] == \"Residential project or halfway house with no homeless criteria (HUD)\",'Prior_Living'] = \"Halfway house\""
   ]
  },
  {
   "cell_type": "code",
   "execution_count": 1849,
   "metadata": {},
   "outputs": [],
   "source": [
    "umd.loc[umd['Prior_Living'] == \"Substance abuse treatment facility or detox center (HUD)\",'Prior_Living'] = \"Substance treatment center\""
   ]
  },
  {
   "cell_type": "code",
   "execution_count": 1850,
   "metadata": {},
   "outputs": [],
   "source": [
    "umd.loc[umd['Prior_Living'] == \"Owned by client, with ongoing housing subsidy (HUD)\",'Prior_Living'] = \"Owned w/ subsidy\""
   ]
  },
  {
   "cell_type": "code",
   "execution_count": 1851,
   "metadata": {},
   "outputs": [],
   "source": [
    "umd.loc[umd['Prior_Living'] == \"Hospital or other residential non-psychiatric medical facility (HUD)\",'Prior_Living'] = \"Medical facility\""
   ]
  },
  {
   "cell_type": "code",
   "execution_count": 1852,
   "metadata": {},
   "outputs": [],
   "source": [
    "umd.loc[umd['Prior_Living'] == \"Permanent housing (other than RRH) for formerly homeless persons (HUD)\",'Prior_Living'] = \"Permanent housing for ex-homeless\""
   ]
  },
  {
   "cell_type": "code",
   "execution_count": 1853,
   "metadata": {},
   "outputs": [],
   "source": [
    "umd.loc[umd['Prior_Living'] == \"Client doesn't know (HUD)\",'Prior_Living'] = \"Client does not know\""
   ]
  },
  {
   "cell_type": "code",
   "execution_count": 1854,
   "metadata": {},
   "outputs": [],
   "source": [
    "umd.loc[umd['Prior_Living'] == \"Owned by client, no ongoing housing subsidy (HUD)\",'Prior_Living'] = \"Owned w/o subsidy\""
   ]
  },
  {
   "cell_type": "code",
   "execution_count": 1855,
   "metadata": {},
   "outputs": [],
   "source": [
    "umd.loc[umd['Prior_Living'] == \"Other (HUD)\",'Prior_Living'] = \"Other\""
   ]
  },
  {
   "cell_type": "code",
   "execution_count": 1856,
   "metadata": {},
   "outputs": [],
   "source": [
    "umd.loc[umd['Prior_Living'] == \"Safe Haven (HUD)\",'Prior_Living'] = \"Safe haven\""
   ]
  },
  {
   "cell_type": "code",
   "execution_count": 1857,
   "metadata": {},
   "outputs": [],
   "source": [
    "umd.loc[umd['Prior_Living'] == \"Psychiatric hospital or other psychiatric facility (HUD)\",'Prior_Living'] = \"Psychiatric facility\""
   ]
  },
  {
   "cell_type": "code",
   "execution_count": 1858,
   "metadata": {},
   "outputs": [],
   "source": [
    "umd.loc[umd['Prior_Living'] == \"Long-term care facility or nursing home (HUD)\",'Prior_Living'] = \"Long-term care facility\""
   ]
  },
  {
   "cell_type": "code",
   "execution_count": 1859,
   "metadata": {},
   "outputs": [],
   "source": [
    "umd.loc[umd['Prior_Living'] == \"Foster care home or foster care group home (HUD)\",'Prior_Living'] = \"Foster care home\""
   ]
  },
  {
   "cell_type": "code",
   "execution_count": 1860,
   "metadata": {},
   "outputs": [],
   "source": [
    "umd.loc[umd['Prior_Living'] == \"Interim Housing (HUD) (Retired)\",'Prior_Living'] = \"Interim housing (Retired)\""
   ]
  },
  {
   "cell_type": "code",
   "execution_count": 1861,
   "metadata": {},
   "outputs": [],
   "source": [
    "umd.loc[umd['Prior_Living'] == \"Rental by client, with GPD TIP housing subsidy (HUD)\",'Prior_Living'] = \"Rental w/ GPD TIP subsidy\""
   ]
  },
  {
   "cell_type": "code",
   "execution_count": 1862,
   "metadata": {},
   "outputs": [],
   "source": [
    "umd.loc[umd['Prior_Living'] == \"Client refused (HUD)\",'Prior_Living'] = \"Client refused\""
   ]
  },
  {
   "cell_type": "code",
   "execution_count": 1863,
   "metadata": {},
   "outputs": [],
   "source": [
    "umd.loc[umd['Prior_Living'] == \"Rental by client in a public housing unit (HUD)\",'Prior_Living'] = \"Public housing rental\""
   ]
  },
  {
   "cell_type": "code",
   "execution_count": 1864,
   "metadata": {},
   "outputs": [
    {
     "name": "stdout",
     "output_type": "stream",
     "text": [
      "['Yes (HUD)' 'No (HUD)' nan 'Trans Female' 'Data not collected (HUD)'\n",
      " 'Client refused (HUD)']\n"
     ]
    }
   ],
   "source": [
    "print(umd['Disability'].unique())"
   ]
  },
  {
   "cell_type": "code",
   "execution_count": 1865,
   "metadata": {},
   "outputs": [],
   "source": [
    "umd.loc[umd['Disability'] == \"Yes (HUD)\",'Disability'] = \"Yes\""
   ]
  },
  {
   "cell_type": "code",
   "execution_count": 1866,
   "metadata": {},
   "outputs": [],
   "source": [
    "umd.loc[umd['Disability'] == \"No (HUD)\",'Disability'] = \"No\""
   ]
  },
  {
   "cell_type": "code",
   "execution_count": 1867,
   "metadata": {},
   "outputs": [],
   "source": [
    "umd.loc[umd['Disability'] == \"Data not collected (HUD)\",'Disability'] = \"Data not collected\""
   ]
  },
  {
   "cell_type": "code",
   "execution_count": 1868,
   "metadata": {},
   "outputs": [],
   "source": [
    "umd.loc[umd['Disability'] == \"Client refused (HUD)\",'Disability'] = \"Client refused\""
   ]
  },
  {
   "cell_type": "code",
   "execution_count": 1869,
   "metadata": {},
   "outputs": [
    {
     "name": "stdout",
     "output_type": "stream",
     "text": [
      "['Yes (HUD)' 'No (HUD)' nan 'Trans Female' \"Client doesn't know (HUD)\"\n",
      " 'Data not collected (HUD)' 'Client refused (HUD)']\n"
     ]
    }
   ],
   "source": [
    "print(umd['Health_Insurance'].unique())"
   ]
  },
  {
   "cell_type": "code",
   "execution_count": 1870,
   "metadata": {},
   "outputs": [],
   "source": [
    "umd.loc[umd['Health_Insurance'] == \"Yes (HUD)\",'Health_Insurance'] = \"Yes\""
   ]
  },
  {
   "cell_type": "code",
   "execution_count": 1871,
   "metadata": {},
   "outputs": [],
   "source": [
    "umd.loc[umd['Health_Insurance'] == \"No (HUD)\",'Health_Insurance'] = \"No\""
   ]
  },
  {
   "cell_type": "code",
   "execution_count": 1872,
   "metadata": {},
   "outputs": [],
   "source": [
    "umd.loc[umd['Health_Insurance'] == \"Client doesn't know (HUD)\",'Health_Insurance'] = \"Client does not know\""
   ]
  },
  {
   "cell_type": "code",
   "execution_count": 1873,
   "metadata": {},
   "outputs": [],
   "source": [
    "umd.loc[umd['Health_Insurance'] == \"Data not collected (HUD)\",'Health_Insurance'] = \"Data not collected\""
   ]
  },
  {
   "cell_type": "code",
   "execution_count": 1874,
   "metadata": {},
   "outputs": [],
   "source": [
    "umd.loc[umd['Health_Insurance'] == \"Client refused (HUD)\",'Health_Insurance'] = \"Client refused\""
   ]
  },
  {
   "cell_type": "code",
   "execution_count": 1875,
   "metadata": {},
   "outputs": [
    {
     "name": "stdout",
     "output_type": "stream",
     "text": [
      "['No (HUD)' 'Yes (HUD)' nan \"Client doesn't know (HUD)\" 'Trans Female'\n",
      " 'Client refused (HUD)']\n"
     ]
    }
   ],
   "source": [
    "print(umd['Domestic_Violence'].unique())"
   ]
  },
  {
   "cell_type": "code",
   "execution_count": 1876,
   "metadata": {},
   "outputs": [],
   "source": [
    "umd.loc[umd['Domestic_Violence'] == \"Yes (HUD)\",'Domestic_Violence'] = \"Yes\""
   ]
  },
  {
   "cell_type": "code",
   "execution_count": 1877,
   "metadata": {},
   "outputs": [],
   "source": [
    "umd.loc[umd['Domestic_Violence'] == \"No (HUD)\",'Domestic_Violence'] = \"No\""
   ]
  },
  {
   "cell_type": "code",
   "execution_count": 1878,
   "metadata": {},
   "outputs": [],
   "source": [
    "umd.loc[umd['Domestic_Violence'] == \"Client doesn't know (HUD)\",'Domestic_Violence'] = \"Client does not know\""
   ]
  },
  {
   "cell_type": "code",
   "execution_count": 1879,
   "metadata": {},
   "outputs": [],
   "source": [
    "umd.loc[umd['Domestic_Violence'] == \"Client refused (HUD)\",'Domestic_Violence'] = \"Client refused\""
   ]
  },
  {
   "cell_type": "code",
   "execution_count": 1880,
   "metadata": {},
   "outputs": [
    {
     "name": "stdout",
     "output_type": "stream",
     "text": [
      "['One year or longer (HUD)' 'One month or more, but less than 90 days'\n",
      " 'One week or more, but less than one month'\n",
      " '90 days or more, but less than one year' 'Two to six nights' nan\n",
      " 'One night or less' 'One week or less (HUD)' 'Trans Female'\n",
      " 'Data not collected (HUD)' \"Client doesn't know (HUD)\"\n",
      " 'Client refused (HUD)']\n"
     ]
    }
   ],
   "source": [
    "print(umd['Prior_Living_Time'].unique())"
   ]
  },
  {
   "cell_type": "code",
   "execution_count": 1881,
   "metadata": {},
   "outputs": [],
   "source": [
    "umd.loc[umd['Prior_Living_Time'] == \"One year or longer (HUD)\",'Prior_Living_Time'] = \"1+ Years\""
   ]
  },
  {
   "cell_type": "code",
   "execution_count": 1882,
   "metadata": {},
   "outputs": [],
   "source": [
    "umd.loc[umd['Prior_Living_Time'] == \"One month or more, but less than 90 days\",'Prior_Living_Time'] = \"30-89 Days\""
   ]
  },
  {
   "cell_type": "code",
   "execution_count": 1883,
   "metadata": {},
   "outputs": [],
   "source": [
    "umd.loc[umd['Prior_Living_Time'] == \"One week or more, but less than one month\",'Prior_Living_Time'] = \"7-29 Days\""
   ]
  },
  {
   "cell_type": "code",
   "execution_count": 1884,
   "metadata": {},
   "outputs": [],
   "source": [
    "umd.loc[umd['Prior_Living_Time'] == \"90 days or more, but less than one year\",'Prior_Living_Time'] = \"90-365 Days\""
   ]
  },
  {
   "cell_type": "code",
   "execution_count": 1885,
   "metadata": {},
   "outputs": [],
   "source": [
    "umd.loc[umd['Prior_Living_Time'] == \"Two to six nights\",'Prior_Living_Time'] = \"2-6 Days\""
   ]
  },
  {
   "cell_type": "code",
   "execution_count": 1886,
   "metadata": {},
   "outputs": [],
   "source": [
    "umd.loc[umd['Prior_Living_Time'] == \"One night or less\",'Prior_Living_Time'] = \"1 Day or Less\""
   ]
  },
  {
   "cell_type": "code",
   "execution_count": 1887,
   "metadata": {},
   "outputs": [],
   "source": [
    "umd.loc[umd['Prior_Living_Time'] == \"One week or less (HUD)\",'Prior_Living_Time'] = \"1 Week or Less\""
   ]
  },
  {
   "cell_type": "code",
   "execution_count": 1888,
   "metadata": {},
   "outputs": [],
   "source": [
    "umd.loc[umd['Prior_Living_Time'] == \"Data not collected (HUD)\",'Prior_Living_Time'] = \"Data not collected\""
   ]
  },
  {
   "cell_type": "code",
   "execution_count": 1889,
   "metadata": {},
   "outputs": [],
   "source": [
    "umd.loc[umd['Prior_Living_Time'] == \"Client doesn't know (HUD)\",'Prior_Living_Time'] = \"Client doesn't know\""
   ]
  },
  {
   "cell_type": "code",
   "execution_count": 1890,
   "metadata": {},
   "outputs": [],
   "source": [
    "umd.loc[umd['Prior_Living_Time'] == \"Client refused (HUD)\",'Prior_Living_Time'] = \"Client refused (HUD)\""
   ]
  },
  {
   "cell_type": "code",
   "execution_count": 1891,
   "metadata": {},
   "outputs": [],
   "source": [
    "from datetime import datetime"
   ]
  },
  {
   "cell_type": "code",
   "execution_count": 1892,
   "metadata": {},
   "outputs": [
    {
     "name": "stdout",
     "output_type": "stream",
     "text": [
      "['8/15/2015' '10/30/2015' '11/26/2015' ... '10/19/2019' '10/20/2019'\n",
      " '10/24/2019']\n"
     ]
    }
   ],
   "source": [
    "print(umd['Entry Date'].unique())"
   ]
  },
  {
   "cell_type": "code",
   "execution_count": 1893,
   "metadata": {},
   "outputs": [],
   "source": [
    "umd['Entry_Date']=pd.to_datetime(umd['Entry Date'], errors='coerce', format='%m/%d/%Y')\n",
    "umd['Exit_Date']=pd.to_datetime(umd['Exit Date'], errors='coerce', format='%m/%d/%Y')"
   ]
  },
  {
   "cell_type": "code",
   "execution_count": 1894,
   "metadata": {},
   "outputs": [],
   "source": [
    "umd['Duration']=umd['Exit_Date']-umd['Entry_Date']"
   ]
  },
  {
   "cell_type": "code",
   "execution_count": 1895,
   "metadata": {},
   "outputs": [],
   "source": [
    "umd=umd.drop(['Entry Date','Exit Date'], axis=1)"
   ]
  },
  {
   "cell_type": "code",
   "execution_count": 1896,
   "metadata": {},
   "outputs": [],
   "source": [
    "dis_ent_SESH=dis_ent_SESH.rename(columns={'Client ID':'ID'})"
   ]
  },
  {
   "cell_type": "code",
   "execution_count": 1897,
   "metadata": {},
   "outputs": [],
   "source": [
    "dis_ent_SESH=dis_ent_SESH.rename(columns={'Disability Type (Entry)':'Disability_Type'})"
   ]
  },
  {
   "cell_type": "code",
   "execution_count": 1898,
   "metadata": {},
   "outputs": [
    {
     "data": {
      "text/html": [
       "<div>\n",
       "<style scoped>\n",
       "    .dataframe tbody tr th:only-of-type {\n",
       "        vertical-align: middle;\n",
       "    }\n",
       "\n",
       "    .dataframe tbody tr th {\n",
       "        vertical-align: top;\n",
       "    }\n",
       "\n",
       "    .dataframe thead th {\n",
       "        text-align: right;\n",
       "    }\n",
       "</style>\n",
       "<table border=\"1\" class=\"dataframe\">\n",
       "  <thead>\n",
       "    <tr style=\"text-align: right;\">\n",
       "      <th></th>\n",
       "      <th>ID</th>\n",
       "      <th>Disability Determination (Entry)</th>\n",
       "      <th>Disability_Type</th>\n",
       "    </tr>\n",
       "  </thead>\n",
       "  <tbody>\n",
       "    <tr>\n",
       "      <td>0</td>\n",
       "      <td>397941</td>\n",
       "      <td>No (HUD)</td>\n",
       "      <td>Alcohol Abuse (HUD)</td>\n",
       "    </tr>\n",
       "    <tr>\n",
       "      <td>1</td>\n",
       "      <td>397941</td>\n",
       "      <td>No (HUD)</td>\n",
       "      <td>Both Alcohol and Drug Abuse (HUD)</td>\n",
       "    </tr>\n",
       "    <tr>\n",
       "      <td>2</td>\n",
       "      <td>397941</td>\n",
       "      <td>No (HUD)</td>\n",
       "      <td>Chronic Health Condition (HUD)</td>\n",
       "    </tr>\n",
       "    <tr>\n",
       "      <td>3</td>\n",
       "      <td>397941</td>\n",
       "      <td>No (HUD)</td>\n",
       "      <td>Developmental (HUD)</td>\n",
       "    </tr>\n",
       "    <tr>\n",
       "      <td>4</td>\n",
       "      <td>397941</td>\n",
       "      <td>No (HUD)</td>\n",
       "      <td>Drug Abuse (HUD)</td>\n",
       "    </tr>\n",
       "    <tr>\n",
       "      <td>...</td>\n",
       "      <td>...</td>\n",
       "      <td>...</td>\n",
       "      <td>...</td>\n",
       "    </tr>\n",
       "    <tr>\n",
       "      <td>36391</td>\n",
       "      <td>429149</td>\n",
       "      <td>No (HUD)</td>\n",
       "      <td>Physical (HUD)</td>\n",
       "    </tr>\n",
       "    <tr>\n",
       "      <td>36392</td>\n",
       "      <td>429149</td>\n",
       "      <td>Yes (HUD)</td>\n",
       "      <td>Chronic Health Condition (HUD)</td>\n",
       "    </tr>\n",
       "    <tr>\n",
       "      <td>36393</td>\n",
       "      <td>429149</td>\n",
       "      <td>Yes (HUD)</td>\n",
       "      <td>Chronic Health Condition (HUD)</td>\n",
       "    </tr>\n",
       "    <tr>\n",
       "      <td>36394</td>\n",
       "      <td>429149</td>\n",
       "      <td>Yes (HUD)</td>\n",
       "      <td>Drug Abuse (HUD)</td>\n",
       "    </tr>\n",
       "    <tr>\n",
       "      <td>36395</td>\n",
       "      <td>429149</td>\n",
       "      <td>Yes (HUD)</td>\n",
       "      <td>Mental Health Problem (HUD)</td>\n",
       "    </tr>\n",
       "  </tbody>\n",
       "</table>\n",
       "<p>36396 rows × 3 columns</p>\n",
       "</div>"
      ],
      "text/plain": [
       "           ID Disability Determination (Entry)  \\\n",
       "0      397941                         No (HUD)   \n",
       "1      397941                         No (HUD)   \n",
       "2      397941                         No (HUD)   \n",
       "3      397941                         No (HUD)   \n",
       "4      397941                         No (HUD)   \n",
       "...       ...                              ...   \n",
       "36391  429149                         No (HUD)   \n",
       "36392  429149                        Yes (HUD)   \n",
       "36393  429149                        Yes (HUD)   \n",
       "36394  429149                        Yes (HUD)   \n",
       "36395  429149                        Yes (HUD)   \n",
       "\n",
       "                         Disability_Type  \n",
       "0                    Alcohol Abuse (HUD)  \n",
       "1      Both Alcohol and Drug Abuse (HUD)  \n",
       "2         Chronic Health Condition (HUD)  \n",
       "3                    Developmental (HUD)  \n",
       "4                       Drug Abuse (HUD)  \n",
       "...                                  ...  \n",
       "36391                     Physical (HUD)  \n",
       "36392     Chronic Health Condition (HUD)  \n",
       "36393     Chronic Health Condition (HUD)  \n",
       "36394                   Drug Abuse (HUD)  \n",
       "36395        Mental Health Problem (HUD)  \n",
       "\n",
       "[36396 rows x 3 columns]"
      ]
     },
     "execution_count": 1898,
     "metadata": {},
     "output_type": "execute_result"
    }
   ],
   "source": [
    "dis_ent_SESH"
   ]
  },
  {
   "cell_type": "code",
   "execution_count": 1899,
   "metadata": {},
   "outputs": [],
   "source": [
    "umd = umd.merge(dis_ent_SESH, on='ID', how='left')\n"
   ]
  },
  {
   "cell_type": "code",
   "execution_count": 1900,
   "metadata": {},
   "outputs": [
    {
     "name": "stdout",
     "output_type": "stream",
     "text": [
      "['Alcohol Abuse (HUD)' 'Both Alcohol and Drug Abuse (HUD)'\n",
      " 'Chronic Health Condition (HUD)' 'Developmental (HUD)' 'Drug Abuse (HUD)'\n",
      " 'HIV/AIDS (HUD)' 'Physical (HUD)' 'Mental Health Problem (HUD)'\n",
      " 'Physical/Medical' nan 'Other' 'Other: Learning' 'Hearing Impaired'\n",
      " 'Other: Speech' 'Vision Impaired' 'Dual Diagnosis']\n"
     ]
    }
   ],
   "source": [
    "print(umd['Disability_Type'].unique())"
   ]
  },
  {
   "cell_type": "code",
   "execution_count": 1901,
   "metadata": {},
   "outputs": [],
   "source": [
    "umd.loc[umd['Disability_Type'] == \"Alcohol Abuse (HUD)\",'Disability_Type'] = \"Alcohol Abuse\""
   ]
  },
  {
   "cell_type": "code",
   "execution_count": 1902,
   "metadata": {},
   "outputs": [],
   "source": [
    "umd.loc[umd['Disability_Type'] == \"Both Alcohol and Drug Abuse (HUD)\",'Disability_Type'] = \"Alcohol & Drug Abuse\""
   ]
  },
  {
   "cell_type": "code",
   "execution_count": 1903,
   "metadata": {},
   "outputs": [],
   "source": [
    "umd.loc[umd['Disability_Type'] == \"Chronic Health Condition (HUD)\",'Disability_Type'] = \"Chronic Health\""
   ]
  },
  {
   "cell_type": "code",
   "execution_count": 1904,
   "metadata": {},
   "outputs": [],
   "source": [
    "umd.loc[umd['Disability_Type'] == \"Developmental (HUD)\",'Disability_Type'] = \"Developmental\""
   ]
  },
  {
   "cell_type": "code",
   "execution_count": 1905,
   "metadata": {},
   "outputs": [],
   "source": [
    "umd.loc[umd['Disability_Type'] == \"Drug Abuse (HUD)\",'Disability_Type'] = \"Drug Abuse\""
   ]
  },
  {
   "cell_type": "code",
   "execution_count": 1906,
   "metadata": {},
   "outputs": [],
   "source": [
    "umd.loc[umd['Disability_Type'] == \"HIV/AIDS (HUD)\",'Disability_Type'] = \"HIV/AIDS\""
   ]
  },
  {
   "cell_type": "code",
   "execution_count": 1907,
   "metadata": {},
   "outputs": [],
   "source": [
    "umd.loc[umd['Disability_Type'] == \"Physical (HUD)\",'Disability_Type'] = \"Physical\""
   ]
  },
  {
   "cell_type": "code",
   "execution_count": 1908,
   "metadata": {},
   "outputs": [],
   "source": [
    "umd.loc[umd['Disability_Type'] == \"Mental Health Problem (HUD)\",'Disability_Type'] = \"Mental Health\""
   ]
  },
  {
   "cell_type": "code",
   "execution_count": 1909,
   "metadata": {},
   "outputs": [],
   "source": [
    "#There appear to be many duplicate rows\n",
    "\n",
    "umd=umd.drop_duplicates()"
   ]
  },
  {
   "cell_type": "code",
   "execution_count": 1910,
   "metadata": {},
   "outputs": [],
   "source": [
    "#Multiple disabilities listed for individual clients.\n",
    "#Best to create separate datafile for disabilities.\n",
    "dis=umd[['ID','Disability','Disability Determination (Entry)','Disability_Type']]"
   ]
  },
  {
   "cell_type": "code",
   "execution_count": 1911,
   "metadata": {},
   "outputs": [],
   "source": [
    "umd=umd.drop(['Disability','Disability Determination (Entry)','Disability_Type'],axis=1)"
   ]
  },
  {
   "cell_type": "code",
   "execution_count": 1912,
   "metadata": {},
   "outputs": [],
   "source": [
    "umd=umd.drop_duplicates()"
   ]
  },
  {
   "cell_type": "code",
   "execution_count": 1913,
   "metadata": {},
   "outputs": [],
   "source": [
    "umd['Duration']=umd['Duration'].astype(str).str[:-23]\n",
    "#This prevents R reading Duration column with a million zeros included"
   ]
  },
  {
   "cell_type": "code",
   "execution_count": 1914,
   "metadata": {},
   "outputs": [
    {
     "name": "stdout",
     "output_type": "stream",
     "text": [
      "['Rental by client, with other ongoing housing subsidy (HUD)'\n",
      " 'Data not collected (HUD)'\n",
      " 'Staying or living with friends, temporary tenure (HUD)'\n",
      " 'Hospital or other residential non-psychiatric medical facility (HUD)'\n",
      " 'Staying or living with friends, permanent tenure (HUD)' nan\n",
      " \"Client doesn't know (HUD)\"\n",
      " 'Rental by client, no ongoing housing subsidy (HUD)'\n",
      " 'Transitional housing for homeless persons (including homeless youth) (HUD)'\n",
      " 'Rental by client, with VASH housing subsidy (HUD)'\n",
      " 'Rental by client, with RRH or equivalent subsidy (HUD)'\n",
      " 'Jail, prison or juvenile detention facility (HUD)'\n",
      " 'No exit interview completed (HUD)'\n",
      " 'Place not meant for habitation (HUD)'\n",
      " 'Staying or living with family, permanent tenure (HUD)'\n",
      " 'Permanent housing (other than RRH) for formerly homeless persons (HUD)'\n",
      " 'Emergency shelter, incl. hotel/motel paid for w/ ES voucher, or RHY-funded Host Home shelter (HUD)'\n",
      " 'Psychiatric hospital or other psychiatric facility (HUD)'\n",
      " 'Staying or living with family, temporary tenure (HUD)'\n",
      " 'Safe Haven (HUD)'\n",
      " 'Substance abuse treatment facility or detox center (HUD)'\n",
      " 'Hotel or motel paid for without emergency shelter voucher (HUD)'\n",
      " 'Long-term care facility or nursing home (HUD)' 'Other (HUD)'\n",
      " 'Trans Female' 'Client refused (HUD)'\n",
      " 'Residential project or halfway house with no homeless criteria (HUD)'\n",
      " 'Owned by client, with ongoing housing subsidy (HUD)'\n",
      " 'Owned by client, no ongoing housing subsidy (HUD)' 'Deceased (HUD)'\n",
      " 'Rental by client in a public housing unit (HUD)']\n"
     ]
    }
   ],
   "source": [
    "print(umd['Destination'].unique())"
   ]
  },
  {
   "cell_type": "code",
   "execution_count": 1915,
   "metadata": {},
   "outputs": [],
   "source": [
    "umd.loc[umd['Destination'] == \"Rental by client, with other ongoing housing subsidy (HUD)\",'Destination'] = \"Client rental with other subsidy\""
   ]
  },
  {
   "cell_type": "code",
   "execution_count": 1916,
   "metadata": {},
   "outputs": [],
   "source": [
    "umd.loc[umd['Destination'] == \"Data not collected (HUD)\",'Destination'] = \"Data not collected\""
   ]
  },
  {
   "cell_type": "code",
   "execution_count": 1917,
   "metadata": {},
   "outputs": [],
   "source": [
    "umd.loc[umd['Destination'] == \"Staying or living with friends, temporary tenure (HUD)\",'Destination'] = \"With friends temporarily\""
   ]
  },
  {
   "cell_type": "code",
   "execution_count": 1918,
   "metadata": {},
   "outputs": [],
   "source": [
    "umd.loc[umd['Destination'] == \"Hospital or other residential non-psychiatric medical facility (HUD)\",'Destination'] = \"Medical facility\""
   ]
  },
  {
   "cell_type": "code",
   "execution_count": 1919,
   "metadata": {},
   "outputs": [],
   "source": [
    "umd.loc[umd['Destination'] == \"Staying or living with friends, permanent tenure (HUD)\",'Destination'] = \"With friends permanently\""
   ]
  },
  {
   "cell_type": "code",
   "execution_count": 1920,
   "metadata": {},
   "outputs": [],
   "source": [
    "umd.loc[umd['Destination'] == \"Client doesn't know (HUD)\",'Destination'] = \"Client does not know\""
   ]
  },
  {
   "cell_type": "code",
   "execution_count": 1921,
   "metadata": {},
   "outputs": [],
   "source": [
    "umd.loc[umd['Destination'] == \"Rental by client, no ongoing housing subsidy (HUD)\",'Destination'] = \"Client rental without subsidy\""
   ]
  },
  {
   "cell_type": "code",
   "execution_count": 1922,
   "metadata": {},
   "outputs": [],
   "source": [
    "umd.loc[umd['Destination'] == \"Transitional housing for homeless persons (including homeless youth) (HUD)\",'Destination'] = \"Transitional homeless housing\""
   ]
  },
  {
   "cell_type": "code",
   "execution_count": 1923,
   "metadata": {},
   "outputs": [],
   "source": [
    "umd.loc[umd['Destination'] == \"Rental by client, with VASH housing subsidy (HUD)\",'Destination'] = \"Client rental with VASH subsidy\""
   ]
  },
  {
   "cell_type": "code",
   "execution_count": 1924,
   "metadata": {},
   "outputs": [],
   "source": [
    "umd.loc[umd['Destination'] == \"Rental by client, with RRH or equivalent subsidy (HUD)\",'Destination'] = \"Client rental with RRH subsidy\""
   ]
  },
  {
   "cell_type": "code",
   "execution_count": 1925,
   "metadata": {},
   "outputs": [],
   "source": [
    "umd.loc[umd['Destination'] == \"Jail, prison or juvenile detention facility (HUD)\",'Destination'] = \"Incarcerated\""
   ]
  },
  {
   "cell_type": "code",
   "execution_count": 1926,
   "metadata": {},
   "outputs": [],
   "source": [
    "umd.loc[umd['Destination'] == \"No exit interview completed (HUD)\",'Destination'] = \"No exit interview\""
   ]
  },
  {
   "cell_type": "code",
   "execution_count": 1927,
   "metadata": {},
   "outputs": [],
   "source": [
    "umd.loc[umd['Destination'] == \"Place not meant for habitation (HUD)\",'Destination'] = \"Place not meant for habitation\""
   ]
  },
  {
   "cell_type": "code",
   "execution_count": 1928,
   "metadata": {},
   "outputs": [],
   "source": [
    "umd.loc[umd['Destination'] == \"Staying or living with family, permanent tenure (HUD)\",'Destination'] = \"With family permanently\""
   ]
  },
  {
   "cell_type": "code",
   "execution_count": 1929,
   "metadata": {},
   "outputs": [],
   "source": [
    "umd.loc[umd['Destination'] == \"Permanent housing (other than RRH) for formerly homeless persons (HUD)\",'Destination'] = \"Permanent housing for formerly homeless\""
   ]
  },
  {
   "cell_type": "code",
   "execution_count": 1930,
   "metadata": {},
   "outputs": [],
   "source": [
    "umd.loc[umd['Destination'] == \"Emergency shelter, incl. hotel/motel paid for w/ ES voucher, or RHY-funded Host Home shelter (HUD)\",'Destination'] = \"Emergency shelter\""
   ]
  },
  {
   "cell_type": "code",
   "execution_count": 1931,
   "metadata": {},
   "outputs": [],
   "source": [
    "umd.loc[umd['Destination'] == \"Psychiatric hospital or other psychiatric facility (HUD)\",'Destination'] = \"Psychiatric facility\""
   ]
  },
  {
   "cell_type": "code",
   "execution_count": 1932,
   "metadata": {},
   "outputs": [],
   "source": [
    "umd.loc[umd['Destination'] == \"Staying or living with family, temporary tenure (HUD)\",'Destination'] = \"With family temporarily\""
   ]
  },
  {
   "cell_type": "code",
   "execution_count": 1933,
   "metadata": {},
   "outputs": [],
   "source": [
    "umd.loc[umd['Destination'] == \"Safe Haven (HUD)\",'Destination'] = \"Safe haven\""
   ]
  },
  {
   "cell_type": "code",
   "execution_count": 1934,
   "metadata": {},
   "outputs": [],
   "source": [
    "umd.loc[umd['Destination'] == \"Substance abuse treatment facility or detox center (HUD)\",'Destination'] = \"Subsgtance abuse treatment center\""
   ]
  },
  {
   "cell_type": "code",
   "execution_count": 1935,
   "metadata": {},
   "outputs": [],
   "source": [
    "umd.loc[umd['Destination'] == \"Hotel or motel paid for without emergency shelter voucher (HUD)\",'Destination'] = \"Hotel or motel without emergency voucher\""
   ]
  },
  {
   "cell_type": "code",
   "execution_count": 1936,
   "metadata": {},
   "outputs": [],
   "source": [
    "umd.loc[umd['Destination'] == \"Long-term care facility or nursing home (HUD)\",'Destination'] = \"Long-term care facility\""
   ]
  },
  {
   "cell_type": "code",
   "execution_count": 1937,
   "metadata": {},
   "outputs": [],
   "source": [
    "umd.loc[umd['Destination'] == \"Client refused (HUD)\",'Destination'] = \"Client refused\""
   ]
  },
  {
   "cell_type": "code",
   "execution_count": 1938,
   "metadata": {},
   "outputs": [],
   "source": [
    "umd.loc[umd['Destination'] == \"Residential project or halfway house with no homeless criteria (HUD)\",'Destination'] = \"Residential project or halfway house\""
   ]
  },
  {
   "cell_type": "code",
   "execution_count": 1939,
   "metadata": {},
   "outputs": [],
   "source": [
    "umd.loc[umd['Destination'] == \"Owned by client, with ongoing housing subsidy (HUD)\",'Destination'] = \"Client owned with subsidy\""
   ]
  },
  {
   "cell_type": "code",
   "execution_count": 1940,
   "metadata": {},
   "outputs": [],
   "source": [
    "umd.loc[umd['Destination'] == \"Owned by client, no ongoing housing subsidy (HUD)\",'Destination'] = \"Client owned without subsidy\""
   ]
  },
  {
   "cell_type": "code",
   "execution_count": 1941,
   "metadata": {},
   "outputs": [],
   "source": [
    "umd.loc[umd['Destination'] == \"Deceased (HUD)\",'Destination'] = \"Deceased\""
   ]
  },
  {
   "cell_type": "code",
   "execution_count": 1942,
   "metadata": {},
   "outputs": [],
   "source": [
    "umd.loc[umd['Destination'] == \"Rental by client in a public housing unit (HUD)\",'Destination'] = \"Client public housing rental\""
   ]
  },
  {
   "cell_type": "code",
   "execution_count": 1943,
   "metadata": {},
   "outputs": [],
   "source": [
    "#multiple entries and exits for individual clients. best to split into separate datafiles\n",
    "ee=umd[['ID','Destination','Reason for Leaving','Entry_Date','Exit_Date','Duration']]"
   ]
  },
  {
   "cell_type": "code",
   "execution_count": 1944,
   "metadata": {},
   "outputs": [],
   "source": [
    "umd=umd.drop(['Destination','Reason for Leaving','Entry_Date','Exit_Date','Duration'],axis=1)"
   ]
  },
  {
   "cell_type": "code",
   "execution_count": 1945,
   "metadata": {},
   "outputs": [],
   "source": [
    "umd=umd.drop_duplicates()"
   ]
  },
  {
   "cell_type": "code",
   "execution_count": 1946,
   "metadata": {},
   "outputs": [],
   "source": [
    "umd.to_csv(r'data/proj3_umd.csv')"
   ]
  },
  {
   "cell_type": "code",
   "execution_count": 1947,
   "metadata": {},
   "outputs": [],
   "source": [
    "dis.to_csv(r'data/proj3_dis.csv')"
   ]
  },
  {
   "cell_type": "code",
   "execution_count": 1948,
   "metadata": {},
   "outputs": [],
   "source": [
    "ee.to_csv(r'data/proj3_ee.csv')"
   ]
  }
 ],
 "metadata": {
  "kernelspec": {
   "display_name": "Python 3",
   "language": "python",
   "name": "python3"
  },
  "language_info": {
   "codemirror_mode": {
    "name": "ipython",
    "version": 3
   },
   "file_extension": ".py",
   "mimetype": "text/x-python",
   "name": "python",
   "nbconvert_exporter": "python",
   "pygments_lexer": "ipython3",
   "version": "3.7.4"
  }
 },
 "nbformat": 4,
 "nbformat_minor": 4
}
